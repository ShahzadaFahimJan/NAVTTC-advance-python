{
  "nbformat": 4,
  "nbformat_minor": 0,
  "metadata": {
    "colab": {
      "provenance": [],
      "authorship_tag": "ABX9TyONXYQm5qRVFL2kq1H6bn7c",
      "include_colab_link": true
    },
    "kernelspec": {
      "name": "python3",
      "display_name": "Python 3"
    },
    "language_info": {
      "name": "python"
    }
  },
  "cells": [
    {
      "cell_type": "markdown",
      "metadata": {
        "id": "view-in-github",
        "colab_type": "text"
      },
      "source": [
        "<a href=\"https://colab.research.google.com/github/ShahzadaFahimJan/NAVTTC-advance-python/blob/main/OOP_module3.ipynb\" target=\"_parent\"><img src=\"https://colab.research.google.com/assets/colab-badge.svg\" alt=\"Open In Colab\"/></a>"
      ]
    },
    {
      "cell_type": "code",
      "execution_count": null,
      "metadata": {
        "id": "cjjTjCBqndTh",
        "colab": {
          "base_uri": "https://localhost:8080/"
        },
        "outputId": "47e3abf6-f0fe-402a-db02-2326c71d5816"
      },
      "outputs": [
        {
          "output_type": "execute_result",
          "data": {
            "text/plain": [
              "5"
            ]
          },
          "metadata": {},
          "execution_count": 3
        }
      ],
      "source": [
        " x = 5\n",
        " x"
      ]
    },
    {
      "cell_type": "markdown",
      "source": [
        "<b>int class in Python is a built-in class that comes as part of the Python standard library The int class, along with other built-in classes like str, list, and dict, is part of the core Python language. These are predefined and made available to you whenever you use Python, without the need for importing any modules.</b>"
      ],
      "metadata": {
        "id": "qLHLNPHjdSTS"
      }
    },
    {
      "cell_type": "code",
      "source": [
        "print(type(x))"
      ],
      "metadata": {
        "colab": {
          "base_uri": "https://localhost:8080/"
        },
        "id": "xPu2drvib39o",
        "outputId": "a3acc75a-8e58-4956-f376-416299363f97"
      },
      "execution_count": null,
      "outputs": [
        {
          "output_type": "stream",
          "name": "stdout",
          "text": [
            "<class 'int'>\n"
          ]
        }
      ]
    },
    {
      "cell_type": "markdown",
      "source": [],
      "metadata": {
        "id": "XDZov88IdQvu"
      }
    },
    {
      "cell_type": "code",
      "source": [
        "print(x.bit_length())"
      ],
      "metadata": {
        "colab": {
          "base_uri": "https://localhost:8080/"
        },
        "id": "PwX5gQDIcAFC",
        "outputId": "ef120fba-1296-4a14-b35a-93c4ad3faa81"
      },
      "execution_count": null,
      "outputs": [
        {
          "output_type": "stream",
          "name": "stdout",
          "text": [
            "3\n"
          ]
        }
      ]
    },
    {
      "cell_type": "code",
      "source": [
        "y = [1,2,3]\n",
        "y"
      ],
      "metadata": {
        "colab": {
          "base_uri": "https://localhost:8080/"
        },
        "id": "J559SCqucyFm",
        "outputId": "4584754b-e315-4fb1-e677-df52b68c512d"
      },
      "execution_count": null,
      "outputs": [
        {
          "output_type": "execute_result",
          "data": {
            "text/plain": [
              "[1, 2, 3]"
            ]
          },
          "metadata": {},
          "execution_count": 8
        }
      ]
    },
    {
      "cell_type": "code",
      "source": [
        "print(type(y))"
      ],
      "metadata": {
        "colab": {
          "base_uri": "https://localhost:8080/"
        },
        "id": "957vWIkIdlWl",
        "outputId": "d28230e1-44e6-419f-ab4d-cb137f7b8948"
      },
      "execution_count": null,
      "outputs": [
        {
          "output_type": "stream",
          "name": "stdout",
          "text": [
            "<class 'list'>\n"
          ]
        }
      ]
    },
    {
      "cell_type": "code",
      "source": [
        "y.append(4)\n",
        "y"
      ],
      "metadata": {
        "colab": {
          "base_uri": "https://localhost:8080/"
        },
        "id": "xdSZKlRxdndt",
        "outputId": "45b98d8f-8d93-4f22-aea5-9ed2e7f2c332"
      },
      "execution_count": null,
      "outputs": [
        {
          "output_type": "execute_result",
          "data": {
            "text/plain": [
              "[1, 2, 3, 4]"
            ]
          },
          "metadata": {},
          "execution_count": 11
        }
      ]
    },
    {
      "cell_type": "code",
      "source": [
        "print(isinstance(x, object))  # Output:\n",
        "print(isinstance(y, object))  # Output:\n"
      ],
      "metadata": {
        "colab": {
          "base_uri": "https://localhost:8080/"
        },
        "id": "1_qd9VEzdx4l",
        "outputId": "43a0ff28-e7c8-4beb-981e-27bc6052a621"
      },
      "execution_count": null,
      "outputs": [
        {
          "output_type": "stream",
          "name": "stdout",
          "text": [
            "True\n",
            "True\n"
          ]
        }
      ]
    },
    {
      "cell_type": "code",
      "source": [
        "x = 5\n",
        "print(id(x))"
      ],
      "metadata": {
        "colab": {
          "base_uri": "https://localhost:8080/"
        },
        "id": "8r5uwrngeAUq",
        "outputId": "d6ad4713-0b17-4ce5-a9da-c64f5fbec0c7"
      },
      "execution_count": null,
      "outputs": [
        {
          "output_type": "stream",
          "name": "stdout",
          "text": [
            "139492934336880\n"
          ]
        }
      ]
    },
    {
      "cell_type": "markdown",
      "source": [
        "Functions and method"
      ],
      "metadata": {
        "id": "1U25uZsQe1rd"
      }
    },
    {
      "cell_type": "code",
      "source": [
        "def add(a, b):\n",
        "    return a + b\n",
        "\n",
        "result = add(5, 3)\n",
        "print(result)\n"
      ],
      "metadata": {
        "colab": {
          "base_uri": "https://localhost:8080/"
        },
        "id": "0aJqNK4HeUDl",
        "outputId": "b3a12dd8-b15a-4a8f-8de0-1899a659f895"
      },
      "execution_count": null,
      "outputs": [
        {
          "output_type": "stream",
          "name": "stdout",
          "text": [
            "8\n"
          ]
        }
      ]
    },
    {
      "cell_type": "code",
      "source": [
        "class Calculator:\n",
        "    def add(self, a, b):\n",
        "        return a + b\n",
        "\n",
        "calc = Calculator()\n",
        "result = calc.add(5, 3)\n",
        "print(result)\n"
      ],
      "metadata": {
        "colab": {
          "base_uri": "https://localhost:8080/"
        },
        "id": "LrF5ERoVe_Yk",
        "outputId": "dbc66fda-2607-4ba2-dea0-b7302af72986"
      },
      "execution_count": null,
      "outputs": [
        {
          "output_type": "stream",
          "name": "stdout",
          "text": [
            "8\n"
          ]
        }
      ]
    },
    {
      "cell_type": "code",
      "source": [],
      "metadata": {
        "id": "otIBhdS8gF9a"
      },
      "execution_count": null,
      "outputs": []
    },
    {
      "cell_type": "markdown",
      "source": [
        "<b>Procedural vs. the object-oriented\n",
        "approach</b>"
      ],
      "metadata": {
        "id": "nsvz6iuDErBd"
      }
    },
    {
      "cell_type": "code",
      "source": [
        "class BankAccount:\n",
        "    def __init__(self, balance):\n",
        "        self.balance = balance\n",
        "\n",
        "    def deposit(self, amount):\n",
        "        self.balance += amount\n",
        "\n",
        "account = BankAccount(1000)\n",
        "account.deposit(500)\n",
        "print(account.balance)\n",
        "obj = BankAccount(1000000)\n",
        "obj.deposit(50000)\n",
        "print(obj.balance)\n",
        "\n"
      ],
      "metadata": {
        "colab": {
          "base_uri": "https://localhost:8080/"
        },
        "id": "3pz2idjzfE2D",
        "outputId": "c9c5b631-b2df-46d7-80e8-e04930a15236"
      },
      "execution_count": null,
      "outputs": [
        {
          "output_type": "stream",
          "name": "stdout",
          "text": [
            "1500\n",
            "1050000\n"
          ]
        }
      ]
    },
    {
      "cell_type": "code",
      "source": [
        "class Car:\n",
        "    def __init__(self, brand, model):\n",
        "        self.brand = brand  # Attributes (data)\n",
        "        self.model = model\n",
        "\n",
        "    def start_engine(self):\n",
        "        print(f\"{self.brand} {self.model}'s engine started.\")  # Method (behavior)\n",
        "\n",
        "# Creating objects (instances of the class Car)\n",
        "my_car = Car(\"Toyota\", \"Corolla\")\n",
        "my_car.start_engine()  # Data (object) invoking a function (method)\n"
      ],
      "metadata": {
        "id": "BAiEpcv6gBAU",
        "colab": {
          "base_uri": "https://localhost:8080/"
        },
        "outputId": "65997fd3-e312-48c4-8bd9-90a1c4c44234"
      },
      "execution_count": null,
      "outputs": [
        {
          "output_type": "stream",
          "name": "stdout",
          "text": [
            "Toyota Corolla's engine started.\n"
          ]
        }
      ]
    },
    {
      "cell_type": "markdown",
      "source": [],
      "metadata": {
        "id": "klDfI7NIGzql"
      }
    },
    {
      "cell_type": "code",
      "source": [
        "\n",
        "class Vehicle:\n",
        "    def __init__(self, name, capacity):\n",
        "        self.name = name\n",
        "        self.capacity = capacity\n",
        "\n",
        "    def move(self):\n",
        "        return f\"{self.name} is moving.\"\n",
        "\n",
        "    def description(self):\n",
        "        return f\"{self.name} is a vehicle with a capacity of {self.capacity}.\"\n",
        "\n",
        "# Subclass for land vehicles\n",
        "class LandVehicle(Vehicle):\n",
        "    def __init__(self, name, capacity, terrain_type):\n",
        "        super().__init__(name, capacity)\n",
        "        self.terrain_type = terrain_type  # e.g., road, off-road, tracks\n",
        "\n",
        "    def move(self):\n",
        "        return f\"{self.name} is moving on {self.terrain_type} terrain.\"\n",
        "\n",
        "# Subclass for water vehicles\n",
        "class WaterVehicle(Vehicle):\n",
        "    def __init__(self, name, capacity, water_type):\n",
        "        super().__init__(name, capacity)\n",
        "        self.water_type = water_type  # e.g., freshwater, saltwater\n",
        "\n",
        "    def move(self):\n",
        "        return f\"{self.name} is moving on {self.water_type}.\"\n",
        "\n",
        "# Subclass for air vehicles\n",
        "class AirVehicle(Vehicle):\n",
        "    def __init__(self, name, capacity, altitude_limit):\n",
        "        super().__init__(name, capacity)\n",
        "        self.altitude_limit = altitude_limit\n",
        "\n",
        "    def move(self):\n",
        "        return f\"{self.name} is flying at an altitude of {self.altitude_limit} meters.\"\n",
        "\n",
        "# Subclass for space vehicles\n",
        "class SpaceVehicle(Vehicle):\n",
        "    def __init__(self, name, capacity, fuel_type):\n",
        "        super().__init__(name, capacity)\n",
        "        self.fuel_type = fuel_type\n",
        "\n",
        "    def move(self):\n",
        "        return f\"{self.name} is traveling through space using {self.fuel_type}.\"\n",
        "\n",
        "# Further subclasses for LandVehicle\n",
        "\n",
        "# Wheeled vehicle\n",
        "class WheeledVehicle(LandVehicle):\n",
        "    def __init__(self, name, capacity, terrain_type, num_wheels):\n",
        "        super().__init__(name, capacity, terrain_type)\n",
        "        self.num_wheels = num_wheels\n",
        "\n",
        "    def description(self):\n",
        "        return f\"{self.name} is a wheeled vehicle with {self.num_wheels} wheels and capacity of {self.capacity}.\"\n",
        "\n",
        "# Tracked vehicle\n",
        "class TrackedVehicle(LandVehicle):\n",
        "    def __init__(self, name, capacity, terrain_type, track_width):\n",
        "        super().__init__(name, capacity, terrain_type)\n",
        "        self.track_width = track_width\n",
        "\n",
        "    def description(self):\n",
        "        return f\"{self.name} is a tracked vehicle with a track width of {self.track_width} meters.\"\n",
        "\n",
        "# Hovercraft\n",
        "class Hovercraft(LandVehicle):\n",
        "    def __init__(self, name, capacity, terrain_type, hover_height):\n",
        "        super().__init__(name, capacity, terrain_type)\n",
        "        self.hover_height = hover_height\n",
        "\n",
        "    def move(self):\n",
        "        return f\"{self.name} is hovering {self.hover_height} meters above the ground.\"\n",
        "\n",
        "# Example usage:\n",
        "if __name__ == \"__main__\":\n",
        "    # Create some vehicle objects\n",
        "    car = WheeledVehicle(\"Car\", 5, \"road\", 4)\n",
        "    tank = TrackedVehicle(\"Tank\", 3, \"off-road\", 2.5)\n",
        "    hovercraft = Hovercraft(\"Hovercraft\", 10, \"water and land\", 1.2)\n",
        "    boat = WaterVehicle(\"Boat\", 50, \"saltwater\")\n",
        "    airplane = AirVehicle(\"Airplane\", 180, 12000)\n",
        "    spaceship = SpaceVehicle(\"Spaceship\", 5, \"liquid fuel\")\n",
        "\n",
        "    # Test the hierarchy\n",
        "    print(car.move())\n",
        "    print(car.description())\n",
        "\n",
        "    print(tank.move())\n",
        "    print(tank.description())\n",
        "\n",
        "    print(hovercraft.move())\n",
        "\n",
        "    print(boat.move())\n",
        "\n",
        "    print(airplane.move())\n",
        "\n",
        "    print(spaceship.move())\n"
      ],
      "metadata": {
        "colab": {
          "base_uri": "https://localhost:8080/"
        },
        "id": "2Q9_pNlqG0EJ",
        "outputId": "3d16f36e-765a-4bbd-9178-c618316d8fde"
      },
      "execution_count": null,
      "outputs": [
        {
          "output_type": "stream",
          "name": "stdout",
          "text": [
            "Car is moving on road terrain.\n",
            "Car is a wheeled vehicle with 4 wheels and capacity of 5.\n",
            "Tank is moving on off-road terrain.\n",
            "Tank is a tracked vehicle with a track width of 2.5 meters.\n",
            "Hovercraft is hovering 1.2 meters above the ground.\n",
            "Boat is moving on saltwater.\n",
            "Airplane is flying at an altitude of 12000 meters.\n",
            "Spaceship is traveling through space using liquid fuel.\n"
          ]
        }
      ]
    },
    {
      "cell_type": "markdown",
      "source": [
        "The stack - the procedural approach"
      ],
      "metadata": {
        "id": "JrUolbpjNgS2"
      }
    },
    {
      "cell_type": "code",
      "source": [
        "stack = []\n",
        "def push(val):\n",
        "    stack.append(val)\n",
        "\n",
        "\n",
        "def pop():\n",
        "    val = stack[-1]\n",
        "    del stack[-1]\n",
        "    return val\n",
        "\n",
        "\n",
        "push(3)\n",
        "push(2)\n",
        "push(1)\n",
        "\n",
        "print(pop())\n",
        "print(pop())\n",
        "print(pop())"
      ],
      "metadata": {
        "colab": {
          "base_uri": "https://localhost:8080/"
        },
        "id": "nWN2U08ZGtme",
        "outputId": "c2e6b708-5e89-4f05-9bd9-4bd36ee69db9"
      },
      "execution_count": null,
      "outputs": [
        {
          "output_type": "stream",
          "name": "stdout",
          "text": [
            "1\n",
            "2\n",
            "3\n"
          ]
        }
      ]
    },
    {
      "cell_type": "markdown",
      "source": [
        "stack using OOP"
      ],
      "metadata": {
        "id": "VgmOZLrkqGjr"
      }
    },
    {
      "cell_type": "code",
      "source": [
        "class Stack:\n",
        "    def __init__(self):\n",
        "        self.__stack_list = []\n",
        "\n",
        "\n",
        "    def push(self, val):\n",
        "        self.__stack_list.append(val)\n",
        "\n",
        "\n",
        "    def pop(self):\n",
        "        val = self.__stack_list[-1]\n",
        "        del self.__stack_list[-1]\n",
        "        return val\n",
        "\n",
        "\n",
        "stack_object = Stack()\n",
        "\n",
        "stack_object.push(3)\n",
        "stack_object.push(2)\n",
        "stack_object.push(1)\n",
        "\n",
        "print(stack_object.pop())\n",
        "print(stack_object.pop())\n",
        "print(stack_object.pop())\n"
      ],
      "metadata": {
        "id": "R2yj1W0JNjMY",
        "colab": {
          "base_uri": "https://localhost:8080/"
        },
        "outputId": "a1245379-c565-4d1e-a391-46919d0cb3a3"
      },
      "execution_count": null,
      "outputs": [
        {
          "output_type": "stream",
          "name": "stdout",
          "text": [
            "1\n",
            "2\n",
            "3\n"
          ]
        }
      ]
    },
    {
      "cell_type": "code",
      "source": [
        "class Stack:\n",
        "    def __init__(self):\n",
        "        self.__stack_list = []\n",
        "\n",
        "    def push(self, val):\n",
        "        self.__stack_list.append(val)\n",
        "\n",
        "    def pop(self):\n",
        "        val = self.__stack_list[-1]\n",
        "        del self.__stack_list[-1]\n",
        "        return val\n",
        "\n",
        "\n",
        "stack_object_1 = Stack()\n",
        "stack_object_2 = Stack()\n",
        "\n",
        "stack_object_1.push(3)\n",
        "stack_object_2.push(3)\n",
        "print(stack_object_1.pop())\n",
        "#stack_object_2.push(stack_object_1.pop())\n",
        "\n",
        "\n",
        "print(stack_object_2.pop())"
      ],
      "metadata": {
        "colab": {
          "base_uri": "https://localhost:8080/"
        },
        "id": "NSv0DZ9vqIg-",
        "outputId": "b2ab3086-2b98-4473-ee0f-3928d2b0a764"
      },
      "execution_count": null,
      "outputs": [
        {
          "output_type": "stream",
          "name": "stdout",
          "text": [
            "3\n",
            "3\n"
          ]
        }
      ]
    },
    {
      "cell_type": "code",
      "source": [
        "class Stack:\n",
        "    def __init__(self):\n",
        "        self.__stack_list = []\n",
        "\n",
        "    def push(self, val):\n",
        "        self.__stack_list.append(val)\n",
        "\n",
        "    def pop(self):\n",
        "        val = self.__stack_list[-1]\n",
        "        del self.__stack_list[-1]\n",
        "        return val\n",
        "\n",
        "\n",
        "# Enter code here.\n",
        "little_stack = Stack()\n",
        "another_stack = Stack()\n",
        "funny_stack = Stack()\n",
        "\n",
        "little_stack.push(1)\n",
        "another_stack.push(little_stack.pop() + 1)\n",
        "funny_stack.push(another_stack.pop() - 2)\n",
        "\n",
        "print(funny_stack.pop())"
      ],
      "metadata": {
        "colab": {
          "base_uri": "https://localhost:8080/"
        },
        "id": "cLmseVuVq6qn",
        "outputId": "6543521a-fb55-4465-86f5-93917146bdbc"
      },
      "execution_count": null,
      "outputs": [
        {
          "output_type": "stream",
          "name": "stdout",
          "text": [
            "0\n"
          ]
        }
      ]
    },
    {
      "cell_type": "code",
      "source": [
        "class Stack:\n",
        "    def __init__(self):\n",
        "        self.__stack_list = []\n",
        "\n",
        "    def push(self, val):\n",
        "        self.__stack_list.append(val)\n",
        "\n",
        "    def pop(self):\n",
        "        val = self.__stack_list[-1]\n",
        "        del self.__stack_list[-1]\n",
        "        return val\n",
        "\n",
        "\n",
        "class AddingStack(Stack):\n",
        "    def __init__(self):\n",
        "        Stack.__init__(self)\n",
        "        self.__sum = 0\n",
        "\n",
        "    def get_sum(self):\n",
        "        return self.__sum\n",
        "\n",
        "    def push(self, val):\n",
        "        self.__sum += val\n",
        "        Stack.push(self, val)\n",
        "\n",
        "    def pop(self):\n",
        "        val = Stack.pop(self)\n",
        "        self.__sum -= val\n",
        "        return val\n",
        "\n",
        "\n",
        "stack_object = AddingStack()\n",
        "\n",
        "for i in range(5):\n",
        "    stack_object.push(i)\n",
        "print(stack_object.get_sum())\n",
        "\n",
        "for i in range(5):\n",
        "    print(stack_object.pop())\n"
      ],
      "metadata": {
        "colab": {
          "base_uri": "https://localhost:8080/"
        },
        "id": "xNUnqy_6r9ZL",
        "outputId": "41b61d32-1159-4af7-eb66-efd3f4bce379"
      },
      "execution_count": null,
      "outputs": [
        {
          "output_type": "stream",
          "name": "stdout",
          "text": [
            "10\n",
            "4\n",
            "3\n",
            "2\n",
            "1\n",
            "0\n"
          ]
        }
      ]
    },
    {
      "cell_type": "markdown",
      "source": [
        "lab"
      ],
      "metadata": {
        "id": "s-Vv4kVyEKXe"
      }
    },
    {
      "cell_type": "code",
      "source": [
        "class Stack:\n",
        "    def __init__(self):\n",
        "        self.__stk = []\n",
        "\n",
        "    def push(self, val):\n",
        "        self.__stk.append(val)\n",
        "\n",
        "    def pop(self):\n",
        "        val = self.__stk[-1]\n",
        "        del self.__stk[-1]\n",
        "        return val\n",
        "\n",
        "\n",
        "class CountingStack(Stack):\n",
        "    def __init__(self):\n",
        "    #\n",
        "    # Fill the constructor with appropriate actions.\n",
        "    #\n",
        "        Stack.__init__(self)\n",
        "        self.__count = 0\n",
        "\n",
        "\n",
        "\n",
        "    def get_counter(self):\n",
        "    #\n",
        "    # Present the counter's current value to the world.\n",
        "    #\n",
        "\n",
        "        return self.__count\n",
        "\n",
        "    def pop(self):\n",
        "    #\n",
        "    # Do pop and update the counter.\n",
        "    #\n",
        "        count = Stack.pop(self)\n",
        "        self.__count += 1\n",
        "        return count\n",
        "\n",
        "\n",
        "stk = CountingStack()\n",
        "for i in range(100):\n",
        "    stk.push(i)\n",
        "    stk.pop()\n",
        "print(stk.get_counter())\n"
      ],
      "metadata": {
        "colab": {
          "base_uri": "https://localhost:8080/"
        },
        "id": "walUAr29ELU0",
        "outputId": "3abd8026-fdde-417c-a646-2bfdd1c39c12"
      },
      "execution_count": null,
      "outputs": [
        {
          "output_type": "stream",
          "name": "stdout",
          "text": [
            "100\n"
          ]
        }
      ]
    },
    {
      "cell_type": "markdown",
      "source": [
        "lab 2"
      ],
      "metadata": {
        "id": "3TDHrkWTRJuk"
      }
    },
    {
      "cell_type": "code",
      "source": [
        "class QueueError(Exception):\n",
        "    pass\n",
        "\n",
        "\n",
        "class Queue:\n",
        "    def __init__(self):\n",
        "        self.queue = []\n",
        "\n",
        "    def put(self, elem):\n",
        "        self.queue.insert(0, elem)\n",
        "\n",
        "    def get(self):\n",
        "        if len(self.queue) == 0:\n",
        "            raise QueueError\n",
        "        return self.queue.pop()\n",
        "\n",
        "\n",
        "# Test case\n",
        "que = Queue()\n",
        "que.put(1)\n",
        "que.put(\"dog\")\n",
        "que.put(False)\n",
        "try:\n",
        "    for i in range(4):\n",
        "        print(que.get())\n",
        "except QueueError:\n",
        "    print(\"Queue error\")\n"
      ],
      "metadata": {
        "id": "tPcCbEPSELxX",
        "colab": {
          "base_uri": "https://localhost:8080/"
        },
        "outputId": "5a0dcb41-655a-45e2-8956-b8559ce9563c"
      },
      "execution_count": null,
      "outputs": [
        {
          "output_type": "stream",
          "name": "stdout",
          "text": [
            "1\n",
            "dog\n",
            "False\n",
            "Queue error\n"
          ]
        }
      ]
    },
    {
      "cell_type": "code",
      "source": [],
      "metadata": {
        "id": "1jIVdCSvRLc9"
      },
      "execution_count": null,
      "outputs": []
    },
    {
      "cell_type": "markdown",
      "source": [
        "Lab3"
      ],
      "metadata": {
        "id": "XJQRhR56R4A-"
      }
    },
    {
      "cell_type": "code",
      "source": [
        "class QueueError(Exception):  # Using Exception as the base class for the custom error\n",
        "    pass\n",
        "\n",
        "\n",
        "class Queue:\n",
        "    def __init__(self):\n",
        "        self.queue = []\n",
        "\n",
        "    def put(self, elem):\n",
        "        self.queue.insert(0, elem)\n",
        "\n",
        "    def get(self):\n",
        "        if len(self.queue) == 0:\n",
        "            raise QueueError\n",
        "        return self.queue.pop()\n",
        "\n",
        "\n",
        "class SuperQueue(Queue):\n",
        "    def isempty(self):\n",
        "        return len(self.queue) == 0\n",
        "\n",
        "\n",
        "# Testing the SuperQueue class\n",
        "que = SuperQueue()\n",
        "que.put(1)\n",
        "que.put(\"dog\")\n",
        "que.put(False)\n",
        "\n",
        "for i in range(4):  # Attempt to get 4 elements, but we only put 3\n",
        "    if not que.isempty():\n",
        "        print(que.get())\n",
        "    else:\n",
        "        print(\"Queue empty\")\n"
      ],
      "metadata": {
        "colab": {
          "base_uri": "https://localhost:8080/"
        },
        "id": "QyHtg2AFR5R8",
        "outputId": "587a5007-503b-41df-bf93-4b59821d492b"
      },
      "execution_count": null,
      "outputs": [
        {
          "output_type": "stream",
          "name": "stdout",
          "text": [
            "1\n",
            "dog\n",
            "False\n",
            "Queue empty\n"
          ]
        }
      ]
    },
    {
      "cell_type": "code",
      "source": [],
      "metadata": {
        "id": "VO37ggqgR5us"
      },
      "execution_count": null,
      "outputs": []
    },
    {
      "cell_type": "markdown",
      "source": [
        "Instance variables"
      ],
      "metadata": {
        "id": "CJACJ9Gs1ROB"
      }
    },
    {
      "cell_type": "code",
      "source": [
        "class Dog:\n",
        "    def __init__(self, name, breed):\n",
        "        self.name = name  # Instance variable\n",
        "        self.breed = breed  # Instance variable\n",
        "\n",
        "dog1 = Dog(\"Rex\", \"German Shepherd\")\n",
        "dog2 = Dog(\"Buddy\", \"Golden Retriever\")\n",
        "\n",
        "print(dog1.name)\n",
        "print(dog2.name)\n",
        "dog1.name = \"mic\"\n",
        "print(dog1.name)\n",
        "print(dog2.name)"
      ],
      "metadata": {
        "colab": {
          "base_uri": "https://localhost:8080/"
        },
        "id": "LGxxQDEi1SDR",
        "outputId": "dd2a05f6-728f-4522-a59a-b2382c4459f3"
      },
      "execution_count": null,
      "outputs": [
        {
          "output_type": "stream",
          "name": "stdout",
          "text": [
            "Rex\n",
            "Buddy\n",
            "mic\n",
            "Buddy\n"
          ]
        }
      ]
    },
    {
      "cell_type": "code",
      "source": [],
      "metadata": {
        "id": "5G1G3m0L3hHE"
      },
      "execution_count": null,
      "outputs": []
    },
    {
      "cell_type": "markdown",
      "source": [
        "class variable"
      ],
      "metadata": {
        "id": "jpzSSff73-Sh"
      }
    },
    {
      "cell_type": "code",
      "source": [
        "class Dog:\n",
        "    species = \"Canis familiaris\"  # Class variable, shared by all instances\n",
        "\n",
        "    def __init__(self, name):\n",
        "        self.name = name  # Instance variable\n",
        "\n",
        "dog1 = Dog(\"Rex\")\n",
        "dog2 = Dog(\"Buddy\")\n",
        "\n",
        "print(dog1.species)\n",
        "print(dog2.species)\n",
        "\n",
        "dog1.name = \"mic\"\n",
        "# Changing the class variable\n",
        "Dog.species = \"Canine\"\n",
        "print(dog1.name)\n",
        "print(dog2.name)\n",
        "print(dog1.species)\n",
        "print(dog2.species)\n"
      ],
      "metadata": {
        "colab": {
          "base_uri": "https://localhost:8080/"
        },
        "id": "mpH0-vw43_Yb",
        "outputId": "0f424b6f-e2d8-4a47-bf7b-f9efcd007cd5"
      },
      "execution_count": null,
      "outputs": [
        {
          "output_type": "stream",
          "name": "stdout",
          "text": [
            "Canis familiaris\n",
            "Canis familiaris\n",
            "mic\n",
            "Buddy\n",
            "Canine\n",
            "Canine\n"
          ]
        }
      ]
    },
    {
      "cell_type": "code",
      "source": [
        "class ExampleClass:\n",
        "    def __init__(self, val = 1):\n",
        "        self.first = val\n",
        "\n",
        "    def set_second(self, val):\n",
        "        self.second = val\n",
        "\n",
        "\n",
        "example_object_1 = ExampleClass()\n",
        "example_object_2 = ExampleClass(2)\n",
        "\n",
        "example_object_2.set_second(3)\n",
        "\n",
        "example_object_3 = ExampleClass(4)\n",
        "example_object_3.third = 5\n",
        "\n",
        "print(example_object_1.__dict__)\n",
        "print(example_object_2.__dict__)\n",
        "print(example_object_3.__dict__)\n",
        "\n"
      ],
      "metadata": {
        "colab": {
          "base_uri": "https://localhost:8080/"
        },
        "id": "nEq2__JJ4AAj",
        "outputId": "8d5418bd-5d69-4632-d10f-c0ec56dac6fc"
      },
      "execution_count": null,
      "outputs": [
        {
          "output_type": "stream",
          "name": "stdout",
          "text": [
            "{'first': 1}\n",
            "{'first': 2, 'second': 3}\n",
            "{'first': 4, 'third': 5}\n"
          ]
        }
      ]
    },
    {
      "cell_type": "markdown",
      "source": [],
      "metadata": {
        "id": "gYD7oQ2DX2Uf"
      }
    },
    {
      "cell_type": "code",
      "source": [
        "class ExampleClass:\n",
        "    def __init__(self, val = 1):\n",
        "        self.__first = val\n",
        "\n",
        "    def set_second(self, val = 2):\n",
        "        self.__second = val\n",
        "\n",
        "\n",
        "example_object_1 = ExampleClass()\n",
        "example_object_2 = ExampleClass(2)\n",
        "\n",
        "example_object_2.set_second(3)\n",
        "\n",
        "example_object_3 = ExampleClass(4)\n",
        "example_object_3.__third = 5\n",
        "\n",
        "\n",
        "print(example_object_1.__dict__)\n",
        "print(example_object_2.__dict__)\n",
        "print(example_object_3.__dict__)\n",
        "print(example_object_1._ExampleClass__first)\n"
      ],
      "metadata": {
        "colab": {
          "base_uri": "https://localhost:8080/"
        },
        "id": "VqMmdYanX24i",
        "outputId": "664f4235-058b-46e8-e8ea-8dff4cd857c7"
      },
      "execution_count": null,
      "outputs": [
        {
          "output_type": "stream",
          "name": "stdout",
          "text": [
            "{'_ExampleClass__first': 1}\n",
            "{'_ExampleClass__first': 2, '_ExampleClass__second': 3}\n",
            "{'_ExampleClass__first': 4, '__third': 5}\n",
            "1\n"
          ]
        }
      ]
    },
    {
      "cell_type": "markdown",
      "source": [
        "class variable"
      ],
      "metadata": {
        "id": "9yoGFWzgXxpZ"
      }
    },
    {
      "cell_type": "code",
      "source": [
        "class ExampleClass:\n",
        "    counter = 0\n",
        "    def __init__(self, val = 1):\n",
        "        self.__first = val\n",
        "        ExampleClass.counter += 1\n",
        "\n",
        "\n",
        "example_object_1 = ExampleClass()\n",
        "example_object_2 = ExampleClass(2)\n",
        "example_object_3 = ExampleClass(4)\n",
        "\n",
        "print(example_object_1.__dict__, example_object_1.counter)\n",
        "print(example_object_2.__dict__, example_object_2.counter)\n",
        "print(example_object_3.__dict__, example_object_3.counter)\n",
        "\n"
      ],
      "metadata": {
        "colab": {
          "base_uri": "https://localhost:8080/"
        },
        "id": "PNplsaONXzLO",
        "outputId": "a8e48c4e-ef93-43b9-ee15-26679677f2fb"
      },
      "execution_count": null,
      "outputs": [
        {
          "output_type": "stream",
          "name": "stdout",
          "text": [
            "{'_ExampleClass__first': 1} 3\n",
            "{'_ExampleClass__first': 2} 3\n",
            "{'_ExampleClass__first': 4} 3\n"
          ]
        }
      ]
    },
    {
      "cell_type": "code",
      "source": [
        "class ExampleClass:\n",
        "    __counter = 0\n",
        "    def __init__(self, val = 1):\n",
        "        self.__first = val\n",
        "        ExampleClass.__counter += 1\n",
        "\n",
        "\n",
        "example_object_1 = ExampleClass()\n",
        "example_object_2 = ExampleClass(2)\n",
        "example_object_3 = ExampleClass(4)\n",
        "\n",
        "print(example_object_1.__dict__, example_object_1._ExampleClass__counter)\n",
        "print(example_object_2.__dict__, example_object_2._ExampleClass__counter)\n",
        "print(example_object_3.__dict__, example_object_3._ExampleClass__counter)\n"
      ],
      "metadata": {
        "colab": {
          "base_uri": "https://localhost:8080/"
        },
        "id": "JQUmIsq5XzkT",
        "outputId": "63fba8a7-beb6-49bd-e562-1ac0f1a91b65"
      },
      "execution_count": null,
      "outputs": [
        {
          "output_type": "stream",
          "name": "stdout",
          "text": [
            "{'_ExampleClass__first': 1} 3\n",
            "{'_ExampleClass__first': 2} 3\n",
            "{'_ExampleClass__first': 4} 3\n"
          ]
        }
      ]
    },
    {
      "cell_type": "code",
      "source": [
        "class ExampleClass:\n",
        "    varia = 1\n",
        "    def __init__(self, val):\n",
        "        ExampleClass.varia = val\n",
        "\n",
        "\n",
        "print(ExampleClass.__dict__)\n",
        "example_object = ExampleClass(2)\n",
        "\n",
        "print(ExampleClass.__dict__)\n",
        "print(example_object.__dict__)\n"
      ],
      "metadata": {
        "colab": {
          "base_uri": "https://localhost:8080/"
        },
        "id": "3c6Bc3w_YPYW",
        "outputId": "bd4a35d3-b963-42a0-f535-35884f5696ea"
      },
      "execution_count": null,
      "outputs": [
        {
          "output_type": "stream",
          "name": "stdout",
          "text": [
            "{'__module__': '__main__', 'varia': 1, '__init__': <function ExampleClass.__init__ at 0x78a7f22b0af0>, '__dict__': <attribute '__dict__' of 'ExampleClass' objects>, '__weakref__': <attribute '__weakref__' of 'ExampleClass' objects>, '__doc__': None}\n",
            "{'__module__': '__main__', 'varia': 2, '__init__': <function ExampleClass.__init__ at 0x78a7f22b0af0>, '__dict__': <attribute '__dict__' of 'ExampleClass' objects>, '__weakref__': <attribute '__weakref__' of 'ExampleClass' objects>, '__doc__': None}\n",
            "{}\n"
          ]
        }
      ]
    },
    {
      "cell_type": "code",
      "source": [
        "class ExampleClass:\n",
        "    def __init__(self, val):\n",
        "        if val % 2 != 0:\n",
        "            self.a = 1\n",
        "        else:\n",
        "            self.b = 1\n",
        "\n",
        "\n",
        "example_object = ExampleClass(1)\n",
        "\n",
        "print(example_object.a)\n",
        "print(example_object.b)\n"
      ],
      "metadata": {
        "colab": {
          "base_uri": "https://localhost:8080/",
          "height": 193
        },
        "id": "K5rhO4MQZfIY",
        "outputId": "9f926801-f83f-4dc2-9828-c93405a3b7ab"
      },
      "execution_count": null,
      "outputs": [
        {
          "output_type": "stream",
          "name": "stdout",
          "text": [
            "1\n"
          ]
        },
        {
          "output_type": "error",
          "ename": "AttributeError",
          "evalue": "'ExampleClass' object has no attribute 'b'",
          "traceback": [
            "\u001b[0;31m---------------------------------------------------------------------------\u001b[0m",
            "\u001b[0;31mAttributeError\u001b[0m                            Traceback (most recent call last)",
            "\u001b[0;32m<ipython-input-9-e96c796f1328>\u001b[0m in \u001b[0;36m<cell line: 12>\u001b[0;34m()\u001b[0m\n\u001b[1;32m     10\u001b[0m \u001b[0;34m\u001b[0m\u001b[0m\n\u001b[1;32m     11\u001b[0m \u001b[0mprint\u001b[0m\u001b[0;34m(\u001b[0m\u001b[0mexample_object\u001b[0m\u001b[0;34m.\u001b[0m\u001b[0ma\u001b[0m\u001b[0;34m)\u001b[0m\u001b[0;34m\u001b[0m\u001b[0;34m\u001b[0m\u001b[0m\n\u001b[0;32m---> 12\u001b[0;31m \u001b[0mprint\u001b[0m\u001b[0;34m(\u001b[0m\u001b[0mexample_object\u001b[0m\u001b[0;34m.\u001b[0m\u001b[0mb\u001b[0m\u001b[0;34m)\u001b[0m\u001b[0;34m\u001b[0m\u001b[0;34m\u001b[0m\u001b[0m\n\u001b[0m",
            "\u001b[0;31mAttributeError\u001b[0m: 'ExampleClass' object has no attribute 'b'"
          ]
        }
      ]
    },
    {
      "cell_type": "code",
      "source": [
        "class ExampleClass:\n",
        "    def __init__(self, val):\n",
        "      self.a = None\n",
        "      self.b = None\n",
        "      if val % 2 != 0:\n",
        "          self.a = 1\n",
        "      else:\n",
        "          self.b = 1\n",
        "\n",
        "\n",
        "example_object = ExampleClass(1)\n",
        "\n",
        "print(example_object.a)\n",
        "print(example_object.b)"
      ],
      "metadata": {
        "colab": {
          "base_uri": "https://localhost:8080/"
        },
        "id": "ZpNhgMJIarSP",
        "outputId": "20bf33f9-282b-4624-8c37-07a3edf218e2"
      },
      "execution_count": null,
      "outputs": [
        {
          "output_type": "stream",
          "name": "stdout",
          "text": [
            "1\n",
            "None\n"
          ]
        }
      ]
    },
    {
      "cell_type": "code",
      "source": [
        "class ExampleClass:\n",
        "    def __init__(self, val):\n",
        "        if val % 2 != 0:\n",
        "            self.a = 1\n",
        "        else:\n",
        "            self.b = 1\n",
        "\n",
        "\n",
        "example_object = ExampleClass(1)\n",
        "print(example_object.a)\n",
        "\n",
        "try:\n",
        "    print(example_object.b)\n",
        "except AttributeError:\n",
        "    pass\n"
      ],
      "metadata": {
        "colab": {
          "base_uri": "https://localhost:8080/"
        },
        "id": "zuD4jEDobQVH",
        "outputId": "a635a6d5-6ebb-49b4-dde8-27f657ebde27"
      },
      "execution_count": null,
      "outputs": [
        {
          "output_type": "stream",
          "name": "stdout",
          "text": [
            "1\n"
          ]
        }
      ]
    },
    {
      "cell_type": "code",
      "source": [
        "class ExampleClass:\n",
        "    def __init__(self, val):\n",
        "        if val % 2 != 0:\n",
        "            self.a = 1\n",
        "        else:\n",
        "            self.b = 1\n",
        "\n",
        "\n",
        "example_object = ExampleClass(1)\n",
        "print(example_object.a)\n",
        "\n",
        "if hasattr(example_object, 'b'):\n",
        "    print(example_object.b)\n",
        "\n"
      ],
      "metadata": {
        "colab": {
          "base_uri": "https://localhost:8080/"
        },
        "id": "hQVYYn2KcbFE",
        "outputId": "1bfa2400-56bb-4ab6-fa8c-9433786f2ce5"
      },
      "execution_count": null,
      "outputs": [
        {
          "output_type": "stream",
          "name": "stdout",
          "text": [
            "1\n"
          ]
        }
      ]
    },
    {
      "cell_type": "code",
      "source": [
        "class ExampleClass:\n",
        "    attr = 1\n",
        "\n",
        "\n",
        "print(hasattr(ExampleClass, 'attr'))\n",
        "print(hasattr(ExampleClass, 'prop'))"
      ],
      "metadata": {
        "colab": {
          "base_uri": "https://localhost:8080/"
        },
        "id": "P-ycu4hycbqo",
        "outputId": "9573953e-4400-4e92-b92e-fd4e656980e4"
      },
      "execution_count": null,
      "outputs": [
        {
          "output_type": "stream",
          "name": "stdout",
          "text": [
            "True\n",
            "False\n"
          ]
        }
      ]
    },
    {
      "cell_type": "code",
      "source": [
        "class ExampleClass:\n",
        "    a = 1\n",
        "    def __init__(self):\n",
        "        self.b = 2\n",
        "\n",
        "\n",
        "example_object = ExampleClass()\n",
        "\n",
        "print(hasattr(example_object, 'b'))\n",
        "print(hasattr(example_object, 'a'))\n",
        "print(hasattr(ExampleClass, 'b'))\n",
        "print(hasattr(ExampleClass, 'a'))\n",
        "\n"
      ],
      "metadata": {
        "colab": {
          "base_uri": "https://localhost:8080/"
        },
        "id": "ahaKxBq3c920",
        "outputId": "f01a2ce9-f76a-4c31-90fb-9d550344afac"
      },
      "execution_count": null,
      "outputs": [
        {
          "output_type": "stream",
          "name": "stdout",
          "text": [
            "True\n",
            "True\n",
            "False\n",
            "True\n"
          ]
        }
      ]
    },
    {
      "cell_type": "code",
      "source": [
        "class Sample:\n",
        "    gamma = 0 # Class variable.\n",
        "    def __init__(self):\n",
        "        self.alpha = 1 # Instance variable.\n",
        "        self.__delta = 3 # Private instance variable.\n",
        "\n",
        "\n",
        "obj = Sample()\n",
        "obj.beta = 2  # Another instance variable (existing only inside the \"obj\" instance.)\n",
        "print(obj.__dict__)\n",
        "\n"
      ],
      "metadata": {
        "id": "-v8IqYZFc_66",
        "colab": {
          "base_uri": "https://localhost:8080/"
        },
        "outputId": "0457e958-cc41-4c12-d74a-48fa97df9307"
      },
      "execution_count": null,
      "outputs": [
        {
          "output_type": "stream",
          "name": "stdout",
          "text": [
            "{'alpha': 1, '_Sample__delta': 3, 'beta': 2}\n"
          ]
        }
      ]
    },
    {
      "cell_type": "markdown",
      "source": [
        "Methods"
      ],
      "metadata": {
        "id": "oOPUDYxMQsoq"
      }
    },
    {
      "cell_type": "code",
      "source": [
        "class Classy:\n",
        "    def method(self):\n",
        "        print(\"method\")\n",
        "\n",
        "\n",
        "obj = Classy()\n",
        "obj.method()"
      ],
      "metadata": {
        "colab": {
          "base_uri": "https://localhost:8080/"
        },
        "id": "AxVKD-3OQtxZ",
        "outputId": "e6817b67-7d14-4af3-f9c0-04e5299498cb"
      },
      "execution_count": null,
      "outputs": [
        {
          "output_type": "stream",
          "name": "stdout",
          "text": [
            "method\n"
          ]
        }
      ]
    },
    {
      "cell_type": "code",
      "source": [
        "class Classy:\n",
        "    def method(self, par,par2):\n",
        "        print(\"method:\", par ,par2)\n",
        "\n",
        "\n",
        "obj = Classy()\n",
        "obj.method(1,2)\n",
        "#obj.method(2)\n",
        "#obj.method(3)"
      ],
      "metadata": {
        "colab": {
          "base_uri": "https://localhost:8080/"
        },
        "id": "uHAHK7q4QuTk",
        "outputId": "01db1e31-41dc-49db-84a9-11965cb402b1"
      },
      "execution_count": null,
      "outputs": [
        {
          "output_type": "stream",
          "name": "stdout",
          "text": [
            "method: 1 2\n"
          ]
        }
      ]
    },
    {
      "cell_type": "code",
      "source": [
        "class Classy:\n",
        "    varia = 2\n",
        "    def method(self):\n",
        "        print(self.varia, self.var)\n",
        "\n",
        "\n",
        "obj = Classy()\n",
        "obj.var = 3\n",
        "obj.method()"
      ],
      "metadata": {
        "colab": {
          "base_uri": "https://localhost:8080/"
        },
        "id": "4JcELswAQwcr",
        "outputId": "93cc87d9-bc8d-48c4-dc08-dfe8378105f6"
      },
      "execution_count": null,
      "outputs": [
        {
          "output_type": "stream",
          "name": "stdout",
          "text": [
            "2 3\n"
          ]
        }
      ]
    },
    {
      "cell_type": "code",
      "source": [
        "class Classy:\n",
        "    def other(self):\n",
        "        print(\"other\")\n",
        "\n",
        "    def method(self):\n",
        "        print(\"method\")\n",
        "        self.other()\n",
        "\n",
        "\n",
        "obj = Classy()\n",
        "obj.method()\n",
        "\n"
      ],
      "metadata": {
        "colab": {
          "base_uri": "https://localhost:8080/"
        },
        "id": "jp7Z07TNQ6dA",
        "outputId": "353b0dd2-89fe-4bff-81b5-bbb337eb03ad"
      },
      "execution_count": null,
      "outputs": [
        {
          "output_type": "stream",
          "name": "stdout",
          "text": [
            "method\n",
            "other\n"
          ]
        }
      ]
    },
    {
      "cell_type": "code",
      "source": [
        "class Classy:\n",
        "    def __init__(self, value):\n",
        "        self.var = value\n",
        "\n",
        "\n",
        "obj_1 = Classy(\"object\")\n",
        "\n",
        "print(obj_1.var)"
      ],
      "metadata": {
        "colab": {
          "base_uri": "https://localhost:8080/"
        },
        "id": "N2Z9j5l3RFps",
        "outputId": "045e59d0-2a48-4037-f061-33cc0486ba6b"
      },
      "execution_count": null,
      "outputs": [
        {
          "output_type": "stream",
          "name": "stdout",
          "text": [
            "object\n"
          ]
        }
      ]
    },
    {
      "cell_type": "code",
      "source": [
        "class Classy:\n",
        "    def __init__(self, value = None):\n",
        "        self.var = value\n",
        "\n",
        "\n",
        "obj_1 = Classy(\"object\")\n",
        "obj_2 = Classy()\n",
        "\n",
        "print(obj_1.var)\n",
        "print(obj_2.var)"
      ],
      "metadata": {
        "colab": {
          "base_uri": "https://localhost:8080/"
        },
        "id": "PzAwLfUtRQxH",
        "outputId": "b6851993-08ea-4696-f294-3b6ff2718c5a"
      },
      "execution_count": null,
      "outputs": [
        {
          "output_type": "stream",
          "name": "stdout",
          "text": [
            "object\n",
            "None\n"
          ]
        }
      ]
    },
    {
      "cell_type": "code",
      "source": [
        "class Classy:\n",
        "    def visible(self):\n",
        "        print(\"visible\")\n",
        "\n",
        "    def __hidden(self):\n",
        "        print(\"hidden\")\n",
        "\n",
        "\n",
        "obj = Classy()\n",
        "obj.visible()\n",
        "\n",
        "try:\n",
        "    obj.__hidden()\n",
        "except:\n",
        "    print(\"failed\")\n",
        "\n",
        "obj._Classy__hidden()\n",
        "\n"
      ],
      "metadata": {
        "colab": {
          "base_uri": "https://localhost:8080/"
        },
        "id": "JpDdCQoARrqE",
        "outputId": "ea05c51a-0a88-48ff-bdf2-1249b28bcf48"
      },
      "execution_count": null,
      "outputs": [
        {
          "output_type": "stream",
          "name": "stdout",
          "text": [
            "visible\n",
            "failed\n",
            "hidden\n"
          ]
        }
      ]
    },
    {
      "cell_type": "code",
      "source": [
        "class Classy:\n",
        "    varia = 1\n",
        "    def __init__(self):\n",
        "        self.var = 2\n",
        "\n",
        "    def method(self):\n",
        "        pass\n",
        "\n",
        "    def __hidden(self):\n",
        "        pass\n",
        "\n",
        "\n",
        "obj = Classy()\n",
        "\n",
        "print(obj.__dict__)\n",
        "print(Classy.__dict__)\n"
      ],
      "metadata": {
        "colab": {
          "base_uri": "https://localhost:8080/"
        },
        "id": "Hpda6iYkR4Lc",
        "outputId": "f13b354e-674c-4650-d628-09a4cfb91f0b"
      },
      "execution_count": null,
      "outputs": [
        {
          "output_type": "stream",
          "name": "stdout",
          "text": [
            "{'var': 2}\n",
            "{'__module__': '__main__', 'varia': 1, '__init__': <function Classy.__init__ at 0x7a6e9c17d510>, 'method': <function Classy.method at 0x7a6e9c17d870>, '_Classy__hidden': <function Classy.__hidden at 0x7a6e9c17dbd0>, '__dict__': <attribute '__dict__' of 'Classy' objects>, '__weakref__': <attribute '__weakref__' of 'Classy' objects>, '__doc__': None}\n"
          ]
        }
      ]
    },
    {
      "cell_type": "code",
      "source": [
        "class Classy:\n",
        "    pass\n",
        "\n",
        "\n",
        "print(Classy.__name__)\n",
        "obj = Classy()\n",
        "print(type(obj).__name__)"
      ],
      "metadata": {
        "colab": {
          "base_uri": "https://localhost:8080/"
        },
        "id": "zO95AN9yShYl",
        "outputId": "aee27c25-37b9-4e4d-fdb7-f808dc4e989e"
      },
      "execution_count": null,
      "outputs": [
        {
          "output_type": "stream",
          "name": "stdout",
          "text": [
            "Classy\n",
            "Classy\n"
          ]
        }
      ]
    },
    {
      "cell_type": "code",
      "source": [
        "class Classy:\n",
        "    pass\n",
        "\n",
        "\n",
        "print(Classy.__module__)\n",
        "obj = Classy()\n",
        "print(obj.__module__)"
      ],
      "metadata": {
        "colab": {
          "base_uri": "https://localhost:8080/"
        },
        "id": "YBC7DDnIS0WY",
        "outputId": "455d42dc-5170-4290-9b99-9c6e4d727cf9"
      },
      "execution_count": null,
      "outputs": [
        {
          "output_type": "stream",
          "name": "stdout",
          "text": [
            "__main__\n",
            "__main__\n"
          ]
        }
      ]
    },
    {
      "cell_type": "code",
      "source": [
        "class SuperOne:\n",
        "    pass\n",
        "\n",
        "\n",
        "class SuperTwo:\n",
        "    pass\n",
        "\n",
        "\n",
        "class Sub(SuperOne, SuperTwo):\n",
        "    pass\n",
        "\n",
        "\n",
        "def printBases(cls):\n",
        "    print('( ', end='')\n",
        "\n",
        "    for x in cls.__bases__:\n",
        "        print(x.__name__, end=' ')\n",
        "    print(')')\n",
        "\n",
        "\n",
        "printBases(SuperOne)\n",
        "printBases(SuperTwo)\n",
        "printBases(Sub)\n"
      ],
      "metadata": {
        "colab": {
          "base_uri": "https://localhost:8080/"
        },
        "id": "Gdji0rAaS9Em",
        "outputId": "b91b8287-5ece-44ec-a9c1-af2cd962e8d0"
      },
      "execution_count": null,
      "outputs": [
        {
          "output_type": "stream",
          "name": "stdout",
          "text": [
            "( object )\n",
            "( object )\n",
            "( SuperOne SuperTwo )\n"
          ]
        }
      ]
    },
    {
      "cell_type": "markdown",
      "source": [
        "Lab  Step 1: Create a Class Hierarchy\n",
        "\n",
        "Create a series of classes with different types of inheritance:\n",
        "A base class Animal.\n",
        "Two subclasses, Mammal and Bird, that inherit from Animal.\n",
        "A class Bat that inherits from both Mammal and Bird (demonstrating multiple inheritance).\n",
        "Step 2: Modify the printBases() Function\n",
        "\n",
        "Use the given printBases() function to print the base classes for each of your created classes.\n",
        "Modify the printBases() function to print the class name and its base classes more clearly."
      ],
      "metadata": {
        "id": "6WuFKjoErFuX"
      }
    },
    {
      "cell_type": "code",
      "source": [
        "# Step 1: Create a class hierarchy\n",
        "class Animal:\n",
        "    pass\n",
        "\n",
        "class Mammal(Animal):\n",
        "    pass\n",
        "\n",
        "class Bird(Animal):\n",
        "    pass\n",
        "\n",
        "class Bat(Mammal, Bird):\n",
        "    pass\n",
        "\n",
        "# Step 2: Modify the printBases function\n",
        "def printBases(cls):\n",
        "    print(f'Class: {cls.__name__}, Bases: ( ', end='')\n",
        "    for x in cls.__bases__:\n",
        "        print(x.__name__, end=' ')\n",
        "    print(')')\n",
        "\n",
        "# Step 3: Test the function with various classes\n",
        "printBases(Animal)\n",
        "printBases(Mammal)\n",
        "printBases(Bird)\n",
        "printBases(Bat)\n"
      ],
      "metadata": {
        "colab": {
          "base_uri": "https://localhost:8080/"
        },
        "id": "vEHM_T4rq5VL",
        "outputId": "7515f70e-fba1-463a-f575-defc38e9ac25"
      },
      "execution_count": null,
      "outputs": [
        {
          "output_type": "stream",
          "name": "stdout",
          "text": [
            "Class: Animal, Bases: ( object )\n",
            "Class: Mammal, Bases: ( Animal )\n",
            "Class: Bird, Bases: ( Animal )\n",
            "Class: Bat, Bases: ( Mammal Bird )\n"
          ]
        }
      ]
    },
    {
      "cell_type": "code",
      "source": [
        "class MyClass:\n",
        "    pass\n",
        "\n",
        "\n",
        "obj = MyClass()\n",
        "obj.a = 1\n",
        "obj.b = 2\n",
        "obj.i = 3\n",
        "obj.ireal = 3.5\n",
        "obj.integer = 4\n",
        "obj.z = 5\n",
        "\n",
        "\n",
        "def incIntsI(obj):\n",
        "    for name in obj.__dict__.keys():\n",
        "        if name.startswith('i'):\n",
        "            val = getattr(obj, name)\n",
        "            if isinstance(val, int):\n",
        "                setattr(obj, name, val + 1)\n",
        "\n",
        "\n",
        "print(obj.__dict__)\n",
        "incIntsI(obj)\n",
        "print(obj.__dict__)"
      ],
      "metadata": {
        "colab": {
          "base_uri": "https://localhost:8080/"
        },
        "id": "bC_W4ydcUQTb",
        "outputId": "c9bcd1ba-24b5-47f2-c423-bb0b672a5ca6"
      },
      "execution_count": null,
      "outputs": [
        {
          "output_type": "stream",
          "name": "stdout",
          "text": [
            "{'a': 1, 'b': 2, 'i': 3, 'ireal': 3.5, 'integer': 4, 'z': 5}\n",
            "{'a': 1, 'b': 2, 'i': 4, 'ireal': 3.5, 'integer': 5, 'z': 5}\n"
          ]
        }
      ]
    },
    {
      "cell_type": "code",
      "source": [
        "class Sample:\n",
        "    def __init__(self):\n",
        "        self.name = Sample.__name__\n",
        "    def myself(self):\n",
        "        print(\"My name is \" + self.name + \" living in a \" + Sample.__module__)\n",
        "\n",
        "\n",
        "obj = Sample()\n",
        "obj.myself()\n",
        "\n"
      ],
      "metadata": {
        "id": "CGCn8n-YU9nZ",
        "colab": {
          "base_uri": "https://localhost:8080/"
        },
        "outputId": "87febcdd-e467-4276-87a9-2862d66695aa"
      },
      "execution_count": null,
      "outputs": [
        {
          "output_type": "stream",
          "name": "stdout",
          "text": [
            "My name is Sample living in a __main__\n"
          ]
        }
      ]
    },
    {
      "cell_type": "markdown",
      "source": [
        "Lab1"
      ],
      "metadata": {
        "id": "HnPATBbmWUh_"
      }
    },
    {
      "cell_type": "code",
      "source": [
        "class Timer:\n",
        "    def __init__(self, hours=0, minutes=0, seconds=0):\n",
        "        # Private attributes to hold hours, minutes, and seconds\n",
        "        self.__hours = hours\n",
        "        self.__minutes = minutes\n",
        "        self.__seconds = seconds\n",
        "\n",
        "    def __str__(self):\n",
        "        # String representation in hh:mm:ss format with leading zeros\n",
        "        return f\"{self.__hours:02}:{self.__minutes:02}:{self.__seconds:02}\"\n",
        "\n",
        "    def next_second(self):\n",
        "        # Increment seconds by 1\n",
        "        self.__seconds += 1\n",
        "        if self.__seconds == 60:\n",
        "            self.__seconds = 0\n",
        "            self.__minutes += 1\n",
        "            if self.__minutes == 60:\n",
        "                self.__minutes = 0\n",
        "                self.__hours += 1\n",
        "                if self.__hours == 24:\n",
        "                    self.__hours = 0\n",
        "\n",
        "    def prev_second(self):\n",
        "        # Decrement seconds by 1\n",
        "        self.__seconds -= 1\n",
        "        if self.__seconds == -1:\n",
        "            self.__seconds = 59\n",
        "            self.__minutes -= 1\n",
        "            if self.__minutes == -1:\n",
        "                self.__minutes = 59\n",
        "                self.__hours -= 1\n",
        "                if self.__hours == -1:\n",
        "                    self.__hours = 23\n",
        "\n",
        "# Example usage:\n",
        "timer = Timer(23, 59, 59)\n",
        "print(timer)         # Expected: 23:59:59\n",
        "timer.next_second()\n",
        "print(timer)         # Expected: 00:00:00\n",
        "timer.prev_second()\n",
        "print(timer)         # Expected: 23:59:59\n",
        "#timer.prev_second()\n",
        "#print(timer)\n"
      ],
      "metadata": {
        "colab": {
          "base_uri": "https://localhost:8080/"
        },
        "id": "xm7bcks7WVIZ",
        "outputId": "c65ed4b5-4a48-491c-b4dc-ef373cb6ef18"
      },
      "execution_count": null,
      "outputs": [
        {
          "output_type": "stream",
          "name": "stdout",
          "text": [
            "23:59:59\n",
            "00:00:00\n",
            "23:59:59\n"
          ]
        }
      ]
    },
    {
      "cell_type": "code",
      "source": [],
      "metadata": {
        "id": "uKjADry4WVio"
      },
      "execution_count": null,
      "outputs": []
    },
    {
      "cell_type": "markdown",
      "source": [
        "Lab2"
      ],
      "metadata": {
        "id": "_7DkhGQvmQNa"
      }
    },
    {
      "cell_type": "code",
      "source": [
        "class WeekDayError(Exception):\n",
        "    pass\n",
        "\n",
        "class Weeker:\n",
        "    # List of valid days of the week\n",
        "    __days = ['Mon', 'Tue', 'Wed', 'Thu', 'Fri', 'Sat', 'Sun']\n",
        "\n",
        "    def __init__(self, day):\n",
        "        # Validate the input day\n",
        "        if day not in Weeker.__days:\n",
        "            raise WeekDayError\n",
        "        # Store the index of the day (private)\n",
        "        self.__current_day_index = Weeker.__days.index(day)\n",
        "\n",
        "    def __str__(self):\n",
        "        # Return the string representation of the current day\n",
        "        return Weeker.__days[self.__current_day_index]\n",
        "\n",
        "    def add_days(self, n):\n",
        "        # Calculate the new day using modular arithmetic\n",
        "        self.__current_day_index = (self.__current_day_index + n) % 7\n",
        "\n",
        "    def subtract_days(self, n):\n",
        "        # Calculate the new day by subtracting n and wrapping around using modular arithmetic\n",
        "        self.__current_day_index = (self.__current_day_index - n) % 7\n",
        "\n",
        "# Example usage with error handling\n",
        "try:\n",
        "    weekday = Weeker('Mon')\n",
        "    print(weekday)              # Expected: Mon\n",
        "    weekday.add_days(15)\n",
        "    print(weekday)              # Expected: Tue (Mon + 15 days)\n",
        "    weekday.subtract_days(23)\n",
        "    print(weekday)              # Expected: Sun (Tue - 23 days)\n",
        "    weekday = Weeker('Monday')  # Invalid day, should raise WeekDayError\n",
        "except WeekDayError:\n",
        "    print(\"Sorry, I can't serve your request.\")\n"
      ],
      "metadata": {
        "colab": {
          "base_uri": "https://localhost:8080/"
        },
        "id": "dVqySmVnmQ9M",
        "outputId": "c03029fe-1dca-44c7-b54c-d854cf81653c"
      },
      "execution_count": null,
      "outputs": [
        {
          "output_type": "stream",
          "name": "stdout",
          "text": [
            "Mon\n",
            "Tue\n",
            "Sun\n",
            "Sorry, I can't serve your request.\n"
          ]
        }
      ]
    },
    {
      "cell_type": "code",
      "source": [],
      "metadata": {
        "id": "lcKPs2fBmRee"
      },
      "execution_count": null,
      "outputs": []
    },
    {
      "cell_type": "markdown",
      "source": [
        "Lab3"
      ],
      "metadata": {
        "id": "jGWAj_lxndEZ"
      }
    },
    {
      "cell_type": "code",
      "source": [
        "import math\n",
        "\n",
        "class Point:\n",
        "    # Constructor initializes x and y with default values of 0.0\n",
        "    def __init__(self, x=0.0, y=0.0):\n",
        "        self.__x = float(x)  # Store x as a private float\n",
        "        self.__y = float(y)  # Store y as a private float\n",
        "\n",
        "    # Getter method for x\n",
        "    def getx(self):\n",
        "        return self.__x\n",
        "\n",
        "    # Getter method for y\n",
        "    def gety(self):\n",
        "        return self.__y\n",
        "\n",
        "    # Calculate the distance from another point defined by coordinates (x, y)\n",
        "    def distance_from_xy(self, x, y):\n",
        "        return math.hypot(self.__x - x, self.__y - y)\n",
        "\n",
        "    # Calculate the distance from another Point object\n",
        "    def distance_from_point(self, point):\n",
        "        return math.hypot(self.__x - point.getx(), self.__y - point.gety())\n",
        "\n",
        "# Testing the Point class\n",
        "point1 = Point(0, 0)\n",
        "point2 = Point(1, 1)\n",
        "\n",
        "# Distance between point1 (0, 0) and point2 (1, 1)\n",
        "print(point1.distance_from_point(point2))  # Expected: 1.4142135623730951\n",
        "\n",
        "# Distance between point2 (1, 1) and coordinates (2, 0)\n",
        "print(point2.distance_from_xy(2, 0))  # Expected: 1.4142135623730951\n"
      ],
      "metadata": {
        "colab": {
          "base_uri": "https://localhost:8080/"
        },
        "id": "WnS3Wealndt5",
        "outputId": "09982a19-5286-43aa-8d1f-94f76a23ad4f"
      },
      "execution_count": null,
      "outputs": [
        {
          "output_type": "stream",
          "name": "stdout",
          "text": [
            "1.4142135623730951\n",
            "1.4142135623730951\n"
          ]
        }
      ]
    },
    {
      "cell_type": "code",
      "source": [
        "Lab"
      ],
      "metadata": {
        "id": "2b225JvMneFd"
      },
      "execution_count": null,
      "outputs": []
    },
    {
      "cell_type": "markdown",
      "source": [
        "Lab4"
      ],
      "metadata": {
        "id": "Prq2heyFoajj"
      }
    },
    {
      "cell_type": "code",
      "source": [
        "import math\n",
        "\n",
        "# Point class from the previous lab\n",
        "class Point:\n",
        "    def __init__(self, x=0.0, y=0.0):\n",
        "        self.__x = float(x)\n",
        "        self.__y = float(y)\n",
        "\n",
        "    def getx(self):\n",
        "        return self.__x\n",
        "\n",
        "    def gety(self):\n",
        "        return self.__y\n",
        "\n",
        "    def distance_from_xy(self, x, y):\n",
        "        return math.hypot(self.__x - x, self.__y - y)\n",
        "\n",
        "    def distance_from_point(self, point):\n",
        "        return math.hypot(self.__x - point.getx(), self.__y - point.gety())\n",
        "\n",
        "\n",
        "# Triangle class\n",
        "class Triangle:\n",
        "    def __init__(self, vertice1, vertice2, vertice3):\n",
        "        # Store the three vertices in a private list\n",
        "        self.__vertices = [vertice1, vertice2, vertice3]\n",
        "\n",
        "    def perimeter(self):\n",
        "        # Get the distances between the vertices\n",
        "        side1 = self.__vertices[0].distance_from_point(self.__vertices[1])\n",
        "        side2 = self.__vertices[1].distance_from_point(self.__vertices[2])\n",
        "        side3 = self.__vertices[2].distance_from_point(self.__vertices[0])\n",
        "\n",
        "        # Return the sum of the three sides (perimeter)\n",
        "        return side1 + side2 + side3\n",
        "\n",
        "\n",
        "# Test case\n",
        "triangle = Triangle(Point(0, 0), Point(1, 0), Point(0, 1))\n",
        "print(triangle.perimeter())\n"
      ],
      "metadata": {
        "colab": {
          "base_uri": "https://localhost:8080/"
        },
        "id": "01w4B52AobIe",
        "outputId": "ee16dda4-d150-4da6-8505-a63d7915a85b"
      },
      "execution_count": null,
      "outputs": [
        {
          "output_type": "stream",
          "name": "stdout",
          "text": [
            "3.414213562373095\n"
          ]
        }
      ]
    },
    {
      "cell_type": "code",
      "source": [
        "class Star:\n",
        "    def __init__(self, name, galaxy):\n",
        "        self.name = name\n",
        "        self.galaxy = galaxy\n",
        "\n",
        "\n",
        "sun = Star(\"Sun\", \"Milky Way\")\n",
        "print(sun) # reperesent the default string representation of the object"
      ],
      "metadata": {
        "colab": {
          "base_uri": "https://localhost:8080/"
        },
        "id": "4l4szgXGobgg",
        "outputId": "892592f8-5a4e-4c37-c113-947d477df0c7"
      },
      "execution_count": null,
      "outputs": [
        {
          "output_type": "stream",
          "name": "stdout",
          "text": [
            "<__main__.Star object at 0x7a5ad7051d80>\n"
          ]
        }
      ]
    },
    {
      "cell_type": "code",
      "source": [
        "class Star:\n",
        "    def __init__(self, name, galaxy):\n",
        "        self.name = name\n",
        "        self.galaxy = galaxy\n",
        "\n",
        "    def __str__(self):\n",
        "        return self.name + ' in ' + self.galaxy\n",
        "\n",
        "\n",
        "sun = Star(\"Sun\", \"Milky Way\")\n",
        "print(sun)\n"
      ],
      "metadata": {
        "colab": {
          "base_uri": "https://localhost:8080/"
        },
        "id": "J1EDj1e24COg",
        "outputId": "f6491435-c7cd-43a6-d41f-0c28a01c1068"
      },
      "execution_count": null,
      "outputs": [
        {
          "output_type": "stream",
          "name": "stdout",
          "text": [
            "Sun in Milky Way\n"
          ]
        }
      ]
    },
    {
      "cell_type": "markdown",
      "source": [
        "Task: Create a Planet class that contains information about a planet and its star.\n",
        "\n",
        "Define a Planet class with the following attributes:\n",
        "\n",
        "name (the planet's name),\n",
        "star (the star it orbits, which should be an instance of the Star class).\n",
        "Override the __str__() method in the Planet class to return a custom string that shows the planet's name and the star it orbits.\n",
        "\n",
        "Create an instance of the Star class for the star \"Sun\" in the \"Milky Way\" galaxy, and create an instance of the Planet class for the planet \"Earth,\" which orbits the \"Sun.\"\n",
        "\n",
        "Print the Planet object to display a custom string representation, such as:\n",
        "Earth orbits Sun in Milky Way"
      ],
      "metadata": {
        "id": "dHhPUbur3p_G"
      }
    },
    {
      "cell_type": "code",
      "source": [
        "class Star:\n",
        "    def __init__(self, name, galaxy):\n",
        "        self.name = name\n",
        "        self.galaxy = galaxy\n",
        "\n",
        "    def __str__(self):\n",
        "        return self.name + ' in ' + self.galaxy\n",
        "\n",
        "\n",
        "sun = Star(\"Sun\", \"Milky Way\")\n",
        "print(sun)\n",
        "\n",
        "class Planet:\n",
        "    def __init__(self, name, star):\n",
        "        self.name = name\n",
        "        self.star = star\n",
        "\n",
        "    def __str__(self):\n",
        "        return self.name + \" orbits \" + self.star.name + \" in \" + self.star.galaxy\n",
        "\n",
        "# Reuse the Star class from earlier\n",
        "sun = Star(\"Sun\", \"Milky Way\")\n",
        "earth = Planet(\"Earth\", sun)\n",
        "\n",
        "print(earth)\n",
        "\n"
      ],
      "metadata": {
        "colab": {
          "base_uri": "https://localhost:8080/"
        },
        "id": "CdvYN3f63tsl",
        "outputId": "02209f3e-aa67-4294-ec33-1d5767110736"
      },
      "execution_count": null,
      "outputs": [
        {
          "output_type": "stream",
          "name": "stdout",
          "text": [
            "Sun in Milky Way\n",
            "Earth orbits Sun in Milky Way\n"
          ]
        }
      ]
    },
    {
      "cell_type": "code",
      "source": [
        "class Vehicle:\n",
        "    pass\n",
        "\n",
        "\n",
        "class LandVehicle(Vehicle):\n",
        "    pass\n",
        "\n",
        "\n",
        "class TrackedVehicle(LandVehicle):\n",
        "    pass"
      ],
      "metadata": {
        "id": "37iqAArd4qwv"
      },
      "execution_count": null,
      "outputs": []
    },
    {
      "cell_type": "code",
      "source": [
        "class Vehicle:\n",
        "    pass\n",
        "\n",
        "\n",
        "class LandVehicle(Vehicle):\n",
        "    pass\n",
        "\n",
        "\n",
        "class TrackedVehicle(LandVehicle):\n",
        "    pass\n",
        "\n",
        "\n",
        "for cls1 in [Vehicle, LandVehicle, TrackedVehicle]:\n",
        "    for cls2 in [Vehicle, LandVehicle, TrackedVehicle]:\n",
        "        print(issubclass(cls1, cls2), end=\"\\t\")\n",
        "    print()\n"
      ],
      "metadata": {
        "colab": {
          "base_uri": "https://localhost:8080/"
        },
        "id": "kqFPzF1I5_ni",
        "outputId": "e73895cb-f009-40f6-879d-2caf8772090a"
      },
      "execution_count": null,
      "outputs": [
        {
          "output_type": "stream",
          "name": "stdout",
          "text": [
            "True\tFalse\tFalse\t\n",
            "True\tTrue\tFalse\t\n",
            "True\tTrue\tTrue\t\n"
          ]
        }
      ]
    },
    {
      "cell_type": "markdown",
      "source": [
        "Create a base class Appliance.\n",
        "\n",
        "Create two derived classes KitchenAppliance and CleaningAppliance that inherit from Appliance.\n",
        "\n",
        "Further subclass:\n",
        "\n",
        "Create a class Microwave that inherits from KitchenAppliance.\n",
        "Create a class Vacuum that inherits from CleaningAppliance.\n",
        "Write a nested loop sto check if one class is a subclass of another, printing the results in a table-like format."
      ],
      "metadata": {
        "id": "K8hscsgf6o1i"
      }
    },
    {
      "cell_type": "code",
      "source": [
        "class Appliance:\n",
        "    pass\n",
        "\n",
        "\n",
        "class KitchenAppliance(Appliance):\n",
        "    pass\n",
        "\n",
        "\n",
        "class CleaningAppliance(Appliance):\n",
        "    pass\n",
        "\n",
        "\n",
        "class Microwave(KitchenAppliance):\n",
        "    pass\n",
        "\n",
        "\n",
        "class Vacuum(CleaningAppliance):\n",
        "    pass\n",
        "\n",
        "\n",
        "# Check subclass relationships\n",
        "for cls1 in [Appliance, KitchenAppliance, CleaningAppliance, Microwave, Vacuum]:\n",
        "    for cls2 in [Appliance, KitchenAppliance, CleaningAppliance, Microwave, Vacuum]:\n",
        "        print(issubclass(cls1, cls2), end=\"\\t\")\n",
        "    print()\n"
      ],
      "metadata": {
        "colab": {
          "base_uri": "https://localhost:8080/"
        },
        "id": "9QQIXW0961Yb",
        "outputId": "94587323-38e1-401a-8958-9d3fc948ab05"
      },
      "execution_count": null,
      "outputs": [
        {
          "output_type": "stream",
          "name": "stdout",
          "text": [
            "True\tFalse\tFalse\tFalse\tFalse\t\n",
            "True\tTrue\tFalse\tFalse\tFalse\t\n",
            "True\tFalse\tTrue\tFalse\tFalse\t\n",
            "True\tTrue\tFalse\tTrue\tFalse\t\n",
            "True\tFalse\tTrue\tFalse\tTrue\t\n"
          ]
        }
      ]
    },
    {
      "cell_type": "code",
      "source": [
        "class Vehicle:\n",
        "    pass\n",
        "\n",
        "\n",
        "class LandVehicle(Vehicle):\n",
        "    pass\n",
        "\n",
        "\n",
        "class TrackedVehicle(LandVehicle):\n",
        "    pass\n",
        "\n",
        "\n",
        "my_vehicle = Vehicle()\n",
        "my_land_vehicle = LandVehicle()\n",
        "my_tracked_vehicle = TrackedVehicle()\n",
        "\n",
        "for obj in [my_vehicle, my_land_vehicle, my_tracked_vehicle]:\n",
        "    for cls in [Vehicle, LandVehicle, TrackedVehicle]:\n",
        "        print(isinstance(obj, cls), end=\"\\t\")\n",
        "    print()\n"
      ],
      "metadata": {
        "colab": {
          "base_uri": "https://localhost:8080/"
        },
        "id": "2i2gnJYn60Zw",
        "outputId": "331c5836-cdc0-4b00-d5fe-91e4eb696942"
      },
      "execution_count": null,
      "outputs": [
        {
          "output_type": "stream",
          "name": "stdout",
          "text": [
            "True\tFalse\tFalse\t\n",
            "True\tTrue\tFalse\t\n",
            "True\tTrue\tTrue\t\n"
          ]
        }
      ]
    },
    {
      "cell_type": "markdown",
      "source": [
        "Task: Create a hierarchy of Devices and check object-class relationships using isinstance().\n",
        "Create a base class Device.\n",
        "\n",
        "Create two derived classes:\n",
        "\n",
        "PortableDevice (inherits from Device),\n",
        "WiredDevice (inherits from Device).\n",
        "Further subclass:\n",
        "\n",
        "Create a class Smartphone that inherits from PortableDevice,\n",
        "Create a class DesktopComputer that inherits from WiredDevice.\n",
        "Create instances of each class:\n",
        "\n",
        "One instance of Device,\n",
        "One instance of Smartphone,\n",
        "One instance of DesktopComputer.\n",
        "Write a nested loop to check if each object is an instance of the respective classes and print the result."
      ],
      "metadata": {
        "id": "ny2wBbNF78hH"
      }
    },
    {
      "cell_type": "code",
      "source": [
        "class Device:\n",
        "    pass\n",
        "\n",
        "\n",
        "class PortableDevice(Device):\n",
        "    pass\n",
        "\n",
        "\n",
        "class WiredDevice(Device):\n",
        "    pass\n",
        "\n",
        "\n",
        "class Smartphone(PortableDevice):\n",
        "    pass\n",
        "\n",
        "\n",
        "class DesktopComputer(WiredDevice):\n",
        "    pass\n",
        "\n",
        "\n",
        "# Create instances\n",
        "my_device = Device()\n",
        "my_smartphone = Smartphone()\n",
        "my_desktop = DesktopComputer()\n",
        "\n",
        "# Check instance relationships\n",
        "for obj in [my_device, my_smartphone, my_desktop]:\n",
        "    for cls in [Device, PortableDevice, WiredDevice, Smartphone, DesktopComputer]:\n",
        "        print(isinstance(obj, cls), end=\"\\t\")\n",
        "    print()\n"
      ],
      "metadata": {
        "colab": {
          "base_uri": "https://localhost:8080/"
        },
        "id": "EfEtElwR8Ytb",
        "outputId": "f56fd11f-47b1-491f-eb64-85b5a91ee9f8"
      },
      "execution_count": null,
      "outputs": [
        {
          "output_type": "stream",
          "name": "stdout",
          "text": [
            "True\tFalse\tFalse\tFalse\tFalse\t\n",
            "True\tTrue\tFalse\tTrue\tFalse\t\n",
            "True\tFalse\tTrue\tFalse\tTrue\t\n"
          ]
        }
      ]
    },
    {
      "cell_type": "code",
      "source": [
        "class SampleClass:\n",
        "    def __init__(self, val):\n",
        "        self.val = val\n",
        "\n",
        "\n",
        "object_1 = SampleClass(0)\n",
        "object_2 = SampleClass(2)\n",
        "object_3 = object_1\n",
        "object_3.val += 1\n",
        "\n",
        "print(object_1 is object_2)\n",
        "print(object_2 is object_3)\n",
        "print(object_3 is object_1)\n",
        "print(object_1.val, object_2.val, object_3.val)\n",
        "\n",
        "string_1 = \"Mary had a little \"\n",
        "string_2 = \"Mary had a little lamb\"\n",
        "string_1 += \"lamb\"\n",
        "\n",
        "print(string_1 == string_2, string_1 is string_2)\n"
      ],
      "metadata": {
        "colab": {
          "base_uri": "https://localhost:8080/"
        },
        "id": "gy69jHJH7t6p",
        "outputId": "d64c9324-cae2-40b8-e80e-95b3389457bb"
      },
      "execution_count": null,
      "outputs": [
        {
          "output_type": "stream",
          "name": "stdout",
          "text": [
            "False\n",
            "False\n",
            "True\n",
            "1 2 1\n",
            "True False\n"
          ]
        }
      ]
    },
    {
      "cell_type": "code",
      "source": [
        "class Super:\n",
        "    def __init__(self, name):\n",
        "        self.name = name\n",
        "\n",
        "    def __str__(self):\n",
        "        return \"My name is \" + self.name + \".\"\n",
        "\n",
        "\n",
        "class Sub(Super):\n",
        "    def __init__(self, name):\n",
        "        Super.__init__(self, name)\n",
        "\n",
        "\n",
        "obj = Sub(\"Andy\")\n",
        "\n",
        "print(obj)\n"
      ],
      "metadata": {
        "colab": {
          "base_uri": "https://localhost:8080/"
        },
        "id": "L7zXoCOh8UgC",
        "outputId": "a4e93aa2-1dea-4ead-ad19-dd735706293b"
      },
      "execution_count": null,
      "outputs": [
        {
          "output_type": "stream",
          "name": "stdout",
          "text": [
            "My name is Andy.\n"
          ]
        }
      ]
    },
    {
      "cell_type": "code",
      "source": [
        "class Super:\n",
        "    def __init__(self, name):\n",
        "        self.name = name\n",
        "\n",
        "    def __str__(self):\n",
        "        return \"My name is \" + self.name + \".\"\n",
        "\n",
        "\n",
        "class Sub(Super):\n",
        "    def __init__(self, name):\n",
        "        super().__init__(name)\n",
        "\n",
        "\n",
        "obj = Sub(\"Andy\")\n",
        "\n",
        "print(obj)\n"
      ],
      "metadata": {
        "colab": {
          "base_uri": "https://localhost:8080/"
        },
        "id": "HekPIPsb8tFD",
        "outputId": "8b8a9d94-7cea-4fb3-97ac-42eebcff045b"
      },
      "execution_count": null,
      "outputs": [
        {
          "output_type": "stream",
          "name": "stdout",
          "text": [
            "My name is Andy.\n"
          ]
        }
      ]
    },
    {
      "cell_type": "code",
      "source": [
        "# Testing properties: class variables.\n",
        "class Super:\n",
        "    supVar = 1\n",
        "\n",
        "\n",
        "class Sub(Super):\n",
        "    subVar = 2\n",
        "\n",
        "\n",
        "obj = Sub()\n",
        "\n",
        "print(obj.subVar)\n",
        "print(obj.supVar)"
      ],
      "metadata": {
        "colab": {
          "base_uri": "https://localhost:8080/"
        },
        "id": "VVvysvCP9Gew",
        "outputId": "0d8adc0a-d81d-4d8f-e31b-3d2af4a9369e"
      },
      "execution_count": null,
      "outputs": [
        {
          "output_type": "stream",
          "name": "stdout",
          "text": [
            "2\n",
            "1\n"
          ]
        }
      ]
    },
    {
      "cell_type": "code",
      "source": [
        "# Testing properties: instance variables.\n",
        "class Super:\n",
        "    def __init__(self):\n",
        "        self.supVar = 11\n",
        "\n",
        "\n",
        "class Sub(Super):\n",
        "    def __init__(self):\n",
        "        super().__init__()\n",
        "        self.subVar = 12\n",
        "\n",
        "\n",
        "obj = Sub()\n",
        "\n",
        "print(obj.subVar)\n",
        "print(obj.supVar)\n"
      ],
      "metadata": {
        "colab": {
          "base_uri": "https://localhost:8080/"
        },
        "id": "vxUbxhGu9P15",
        "outputId": "6c2b79e8-3422-47c5-dfa3-18ceccc85864"
      },
      "execution_count": null,
      "outputs": [
        {
          "output_type": "stream",
          "name": "stdout",
          "text": [
            "12\n",
            "11\n"
          ]
        }
      ]
    },
    {
      "cell_type": "code",
      "source": [
        "class Level1:\n",
        "    variable_1 = 100\n",
        "    def __init__(self):\n",
        "        self.var_1 = 101\n",
        "\n",
        "    def fun_1(self):\n",
        "        return 102\n",
        "\n",
        "\n",
        "class Level2(Level1):\n",
        "    variable_2 = 200\n",
        "    def __init__(self):\n",
        "        super().__init__()\n",
        "        self.var_2 = 201\n",
        "\n",
        "    def fun_2(self):\n",
        "        return 202\n",
        "\n",
        "\n",
        "class Level3(Level2):\n",
        "    variable_3 = 300\n",
        "    def __init__(self):\n",
        "        super().__init__()\n",
        "        self.var_3 = 301\n",
        "\n",
        "    def fun_3(self):\n",
        "        return 302\n",
        "\n",
        "\n",
        "obj = Level3()\n",
        "\n",
        "print(obj.variable_1, obj.var_1, obj.fun_1())\n",
        "print(obj.variable_2, obj.var_2, obj.fun_2())\n",
        "print(obj.variable_3, obj.var_3, obj.fun_3())\n"
      ],
      "metadata": {
        "colab": {
          "base_uri": "https://localhost:8080/"
        },
        "id": "JYBljtl59b4k",
        "outputId": "0a719763-e155-4209-e74b-2401506382e4"
      },
      "execution_count": null,
      "outputs": [
        {
          "output_type": "stream",
          "name": "stdout",
          "text": [
            "100 101 102\n",
            "200 201 202\n",
            "300 301 302\n"
          ]
        }
      ]
    },
    {
      "cell_type": "code",
      "source": [
        "class SuperA:\n",
        "    var_a = 10\n",
        "    def fun_a(self):\n",
        "        return 11\n",
        "\n",
        "\n",
        "class SuperB:\n",
        "    var_b = 20\n",
        "    def fun_b(self):\n",
        "        return 21\n",
        "\n",
        "\n",
        "class Sub(SuperA, SuperB):\n",
        "    pass\n",
        "\n",
        "\n",
        "obj = Sub()\n",
        "\n",
        "print(obj.var_a, obj.fun_a())\n",
        "print(obj.var_b, obj.fun_b())\n"
      ],
      "metadata": {
        "colab": {
          "base_uri": "https://localhost:8080/"
        },
        "id": "kpAuUJ2i-I9b",
        "outputId": "2623488b-3c4a-4d40-e0f2-33c37de6b04b"
      },
      "execution_count": null,
      "outputs": [
        {
          "output_type": "stream",
          "name": "stdout",
          "text": [
            "10 11\n",
            "20 21\n"
          ]
        }
      ]
    },
    {
      "cell_type": "code",
      "source": [
        "class Level1:\n",
        "    var = 100\n",
        "    def fun(self):\n",
        "        return 101\n",
        "\n",
        "\n",
        "class Level2(Level1):\n",
        "    var = 200\n",
        "    def fun(self):\n",
        "        return 201\n",
        "\n",
        "\n",
        "class Level3(Level2):\n",
        "    pass\n",
        "\n",
        "\n",
        "obj = Level3()\n",
        "\n",
        "print(obj.var, obj.fun())"
      ],
      "metadata": {
        "colab": {
          "base_uri": "https://localhost:8080/"
        },
        "id": "AaiWj7Vd-Lmv",
        "outputId": "d1914938-6dac-43b5-e8e6-93a1ca1f4afe"
      },
      "execution_count": null,
      "outputs": [
        {
          "output_type": "stream",
          "name": "stdout",
          "text": [
            "200 201\n"
          ]
        }
      ]
    },
    {
      "cell_type": "code",
      "source": [
        "class Left:\n",
        "    var = \"L\"\n",
        "    var_left = \"LL\"\n",
        "    def fun(self):\n",
        "        return \"Left\"\n",
        "\n",
        "\n",
        "class Right:\n",
        "    var = \"R\"\n",
        "    var_right = \"RR\"\n",
        "    def fun(self):\n",
        "        return \"Right\"\n",
        "\n",
        "\n",
        "class Sub(Right, Left):\n",
        "    pass\n",
        "\n",
        "\n",
        "obj = Sub()\n",
        "\n",
        "print(obj.var, obj.var_left, obj.var_right, obj.fun())\n"
      ],
      "metadata": {
        "colab": {
          "base_uri": "https://localhost:8080/"
        },
        "id": "t1QASSy9_H_p",
        "outputId": "35b0f7f6-764f-49f2-e9d6-74b1d8014f73"
      },
      "execution_count": null,
      "outputs": [
        {
          "output_type": "stream",
          "name": "stdout",
          "text": [
            "R LL RR Right\n"
          ]
        }
      ]
    },
    {
      "cell_type": "markdown",
      "source": [
        "polymorphism"
      ],
      "metadata": {
        "id": "aJfWw2maFRUi"
      }
    },
    {
      "cell_type": "code",
      "source": [
        "class Dog:\n",
        "    def speak(self):\n",
        "        return \"Woof!\"\n",
        "\n",
        "class Cat:\n",
        "    def speak(self):\n",
        "        return \"Meow!\"\n",
        "\n",
        "# Function that accepts any object and calls its speak method\n",
        "def animal_sound(animal):\n",
        "    return animal.speak()\n",
        "\n",
        "# Instances of Dog and Cat\n",
        "dog = Dog()\n",
        "cat = Cat()\n",
        "\n",
        "# Polymorphism in action\n",
        "print(animal_sound(dog))  # Outputs: Woof!\n",
        "print(animal_sound(cat))  # Outputs: Meow!\n"
      ],
      "metadata": {
        "colab": {
          "base_uri": "https://localhost:8080/"
        },
        "id": "EQp6DSdiFS7x",
        "outputId": "22c8a6a3-6b5a-4999-ea56-209367f6ee77"
      },
      "execution_count": null,
      "outputs": [
        {
          "output_type": "stream",
          "name": "stdout",
          "text": [
            "Woof!\n",
            "Meow!\n"
          ]
        }
      ]
    },
    {
      "cell_type": "code",
      "source": [
        "class One:\n",
        "    def do_it(self):\n",
        "        print(\"do_it from One\")\n",
        "\n",
        "    def doanything(self):\n",
        "        self.do_it()\n",
        "\n",
        "\n",
        "class Two(One):\n",
        "    def do_it(self):\n",
        "        print(\"do_it from Two\")\n",
        "\n",
        "\n",
        "one = One()\n",
        "two = Two()\n",
        "\n",
        "one.doanything()\n",
        "two.doanything()\n"
      ],
      "metadata": {
        "colab": {
          "base_uri": "https://localhost:8080/"
        },
        "id": "ax8Sd72q_pJ5",
        "outputId": "05dc2eb9-d240-437e-9290-2437e673ff2f"
      },
      "execution_count": null,
      "outputs": [
        {
          "output_type": "stream",
          "name": "stdout",
          "text": [
            "do_it from One\n",
            "do_it from Two\n"
          ]
        }
      ]
    },
    {
      "cell_type": "code",
      "source": [
        "import time\n",
        "\n",
        "class Tracks:\n",
        "    def change_direction(self, left, on):\n",
        "        print(\"tracks: \", left, on)\n",
        "\n",
        "\n",
        "class Wheels:\n",
        "    def change_direction(self, left, on):\n",
        "        print(\"wheels: \", left, on)\n",
        "\n",
        "\n",
        "class Vehicle:\n",
        "    def __init__(self, controller):\n",
        "        self.controller = controller\n",
        "\n",
        "    def turn(self, left):\n",
        "        self.controller.change_direction(left, True)\n",
        "        time.sleep(0.25)\n",
        "        self.controller.change_direction(left, False)\n",
        "\n",
        "\n",
        "wheeled = Vehicle(Wheels())\n",
        "tracked = Vehicle(Tracks())\n",
        "\n",
        "wheeled.turn(True)\n",
        "tracked.turn(False)\n"
      ],
      "metadata": {
        "id": "CqeNULbtARvI",
        "outputId": "6871c849-79aa-4bee-c23f-0cf7ccde533b",
        "colab": {
          "base_uri": "https://localhost:8080/"
        }
      },
      "execution_count": null,
      "outputs": [
        {
          "output_type": "stream",
          "name": "stdout",
          "text": [
            "wheels:  True True\n",
            "wheels:  True False\n",
            "tracks:  False True\n",
            "tracks:  False False\n"
          ]
        }
      ]
    },
    {
      "cell_type": "markdown",
      "source": [
        "Implement a Shape Hierarchy Using Polymorphism\n",
        "Create a base class Shape with a method area() that raises a NotImplementedError. This will act as the base class for different types of shapes.\n",
        "\n",
        "Create two subclasses:\n",
        "\n",
        "Rectangle class with attributes width and height, and an area() method that calculates the area of a rectangle.\n",
        "Circle class with an attribute radius, and an area() method that calculates the area of a circle.\n",
        "Implement a function print_area(shape) that accepts any shape object and prints the area by calling the area() method. Use polymorphism to handle different shapes."
      ],
      "metadata": {
        "id": "QQk6WLb_HBUo"
      }
    },
    {
      "cell_type": "code",
      "source": [
        "import math\n",
        "\n",
        "# Base class\n",
        "class Shape:\n",
        "    def area(self):\n",
        "        raise NotImplementedError(\"Subclasses must implement this method\")\n",
        "\n",
        "# Subclass for Rectangle\n",
        "class Rectangle(Shape):\n",
        "    def __init__(self, width, height):\n",
        "        self.width = width\n",
        "        self.height = height\n",
        "\n",
        "    def area(self):\n",
        "        return self.width * self.height #E\n",
        "\n",
        "# Subclass for Circle\n",
        "class Circle(Shape):\n",
        "    def __init__(self, radius):\n",
        "        self.radius = radius\n",
        "\n",
        "    def area(self):\n",
        "        return math.pi * self.radius ** 2\n",
        "\n",
        "# Function to print area (polymorphic)\n",
        "def print_area(shape):\n",
        "    print(f\"The area is: {shape.area()}\")\n",
        "\n",
        "# Create objects\n",
        "rectangle = Rectangle(5, 3)\n",
        "circle = Circle(4)\n",
        "\n",
        "# Polymorphism in action\n",
        "print_area(rectangle)  # Outputs: The area is: 15\n",
        "print_area(circle)     # Outputs: The area is: 50.27 (approximately)\n"
      ],
      "metadata": {
        "colab": {
          "base_uri": "https://localhost:8080/"
        },
        "id": "40PxPTyPHEWy",
        "outputId": "07521f06-1300-4b90-b31c-a79faa861177"
      },
      "execution_count": null,
      "outputs": [
        {
          "output_type": "stream",
          "name": "stdout",
          "text": [
            "The area is: 15\n",
            "The area is: 50.26548245743669\n"
          ]
        }
      ]
    },
    {
      "cell_type": "code",
      "source": [
        "class Top:\n",
        "    def m_top(self):\n",
        "        print(\"top\")\n",
        "\n",
        "\n",
        "class Middle_Left(Top):\n",
        "    def m_middle(self):\n",
        "        print(\"middle_left\")\n",
        "\n",
        "\n",
        "class Middle_Right(Top):\n",
        "    def m_middle(self):\n",
        "        print(\"middle_right\")\n",
        "\n",
        "\n",
        "class Bottom(Middle_Left, Middle_Right):\n",
        "    def m_bottom(self):\n",
        "        print(\"bottom\")\n",
        "\n",
        "\n",
        "object = Bottom()\n",
        "object.m_bottom()\n",
        "object.m_middle()\n",
        "object.m_top()\n",
        "\n"
      ],
      "metadata": {
        "id": "G30eiKswN5n4",
        "colab": {
          "base_uri": "https://localhost:8080/"
        },
        "outputId": "00386af3-6438-4422-e8a5-6925e9326885"
      },
      "execution_count": null,
      "outputs": [
        {
          "output_type": "stream",
          "name": "stdout",
          "text": [
            "bottom\n",
            "middle_left\n",
            "top\n"
          ]
        }
      ]
    },
    {
      "cell_type": "code",
      "source": [
        "\n"
      ],
      "metadata": {
        "id": "72y8o-XuC9Wa"
      },
      "execution_count": null,
      "outputs": []
    },
    {
      "cell_type": "code",
      "source": [
        "def reciprocal(n):\n",
        "    try:\n",
        "        n = 1 / n\n",
        "    except ZeroDivisionError:\n",
        "        print(\"Division failed\")\n",
        "        return None\n",
        "    else:\n",
        "        print(\"Everything went fine\")\n",
        "        return n\n",
        "\n",
        "\n",
        "print(reciprocal(2))\n",
        "print(reciprocal(0))"
      ],
      "metadata": {
        "colab": {
          "base_uri": "https://localhost:8080/"
        },
        "id": "WAhkFibAJn8u",
        "outputId": "d99bde5a-1c2c-498a-ba25-cd5f40838371"
      },
      "execution_count": null,
      "outputs": [
        {
          "output_type": "stream",
          "name": "stdout",
          "text": [
            "Everything went fine\n",
            "0.5\n",
            "Division failed\n",
            "None\n"
          ]
        }
      ]
    },
    {
      "cell_type": "markdown",
      "source": [
        "Update the reciprocal function to also handle cases where the input is not a number (for example, a string or a list). Raise a TypeError if the input is not a valid number, and handle it in the exception block."
      ],
      "metadata": {
        "id": "hlYsOwNSU6jC"
      }
    },
    {
      "cell_type": "code",
      "source": [
        "def reciprocal(n):\n",
        "    try:\n",
        "        if not isinstance(n, (int, float)):\n",
        "            raise TypeError(\"Input must be a number\")\n",
        "        n = 1 / n\n",
        "    except ZeroDivisionError:\n",
        "        print(\"Division failed: cannot divide by zero\")\n",
        "        return None\n",
        "    except TypeError as te:\n",
        "        print(te)\n",
        "        return None\n",
        "    else:\n",
        "        print(\"Everything went fine\")\n",
        "        return n\n",
        "\n",
        "\n",
        "# Test cases\n",
        "print(reciprocal(5))\n",
        "print(reciprocal(0))\n",
        "print(reciprocal(\"hello\"))\n"
      ],
      "metadata": {
        "colab": {
          "base_uri": "https://localhost:8080/"
        },
        "id": "NwksABYTU7hQ",
        "outputId": "f6ef4977-61f8-4aef-f215-859a2e58569d"
      },
      "execution_count": null,
      "outputs": [
        {
          "output_type": "stream",
          "name": "stdout",
          "text": [
            "Everything went fine\n",
            "0.2\n",
            "Division failed: cannot divide by zero\n",
            "None\n",
            "Input must be a number\n",
            "None\n"
          ]
        }
      ]
    },
    {
      "cell_type": "code",
      "source": [
        "def reciprocal(n):\n",
        "    try:\n",
        "        n = 1 / n\n",
        "    except ZeroDivisionError:\n",
        "        print(\"Division failed\")\n",
        "        n = None\n",
        "    else:\n",
        "        print(\"Everything went fine\")\n",
        "    finally:\n",
        "        print(\"It's time to say goodbye\")\n",
        "        return n\n",
        "\n",
        "\n",
        "print(reciprocal(2))\n",
        "print(reciprocal(0))"
      ],
      "metadata": {
        "colab": {
          "base_uri": "https://localhost:8080/"
        },
        "id": "JSIybwlVK4JQ",
        "outputId": "2e2e85fd-c559-4ade-b5a8-b7f98b6297d3"
      },
      "execution_count": null,
      "outputs": [
        {
          "output_type": "stream",
          "name": "stdout",
          "text": [
            "Everything went fine\n",
            "It's time to say goodbye\n",
            "0.5\n",
            "Division failed\n",
            "It's time to say goodbye\n",
            "None\n"
          ]
        }
      ]
    },
    {
      "cell_type": "markdown",
      "source": [
        "Modify the function to handle additional exceptions, such as TypeError, in case the input is not a valid number (e.g., a string or a list). The finally block should still execute regardless of what happens in the try or except blocks."
      ],
      "metadata": {
        "id": "IEfr-9g2WRTp"
      }
    },
    {
      "cell_type": "markdown",
      "source": [],
      "metadata": {
        "id": "MIuphvzDWOvf"
      }
    },
    {
      "cell_type": "code",
      "source": [
        "def reciprocal_with_type_error(n):\n",
        "    try:\n",
        "        n = 1 / n\n",
        "    except ZeroDivisionError:\n",
        "        print(\"Division failed: cannot divide by zero\")\n",
        "        n = None\n",
        "    except TypeError:\n",
        "        print(\"Invalid input: must be a number\")\n",
        "        n = None\n",
        "    else:\n",
        "        print(\"Everything went fine\")\n",
        "    finally:\n",
        "        print(\"It's time to say goodbye\")\n",
        "        return n\n",
        "\n",
        "# Test cases\n",
        "print(reciprocal_with_type_error(5))\n",
        "print(reciprocal_with_type_error(0))\n",
        "print(reciprocal_with_type_error(\"abc\"))\n"
      ],
      "metadata": {
        "colab": {
          "base_uri": "https://localhost:8080/"
        },
        "id": "pkJ1dbD3WPUH",
        "outputId": "382da883-a51b-47f3-f3a9-137d83a25bf5"
      },
      "execution_count": null,
      "outputs": [
        {
          "output_type": "stream",
          "name": "stdout",
          "text": [
            "Everything went fine\n",
            "It's time to say goodbye\n",
            "0.2\n",
            "Division failed: cannot divide by zero\n",
            "It's time to say goodbye\n",
            "None\n",
            "Invalid input: must be a number\n",
            "It's time to say goodbye\n",
            "None\n"
          ]
        }
      ]
    },
    {
      "cell_type": "code",
      "source": [
        "try:\n",
        "    i = int(\"Hello!\")\n",
        "except Exception as e:\n",
        "    print(e)\n",
        "    print(e.__str__())\n"
      ],
      "metadata": {
        "colab": {
          "base_uri": "https://localhost:8080/"
        },
        "id": "JBTCz-WhLWsb",
        "outputId": "eca436a3-1110-4a28-d782-b601ffb49c70"
      },
      "execution_count": null,
      "outputs": [
        {
          "output_type": "stream",
          "name": "stdout",
          "text": [
            "invalid literal for int() with base 10: 'Hello!'\n",
            "invalid literal for int() with base 10: 'Hello!'\n"
          ]
        }
      ]
    },
    {
      "cell_type": "markdown",
      "source": [
        "Modify the code to handle multiple specific exceptions such as ValueError and TypeError. If any of these exceptions are raised, print a custom message for each type. If the exception doesn't match any specific ones, catch it using a generic Exception."
      ],
      "metadata": {
        "id": "fC-B3cqeXPc-"
      }
    },
    {
      "cell_type": "code",
      "source": [
        "try:\n",
        "    i = int(\"Hello!\")\n",
        "except ValueError as ve:\n",
        "    print(\"ValueError occurred:\", ve)\n",
        "except TypeError as te:\n",
        "    print(\"TypeError occurred:\", te)\n",
        "except Exception as e:\n",
        "    print(\"An unexpected error occurred:\", e)\n"
      ],
      "metadata": {
        "colab": {
          "base_uri": "https://localhost:8080/"
        },
        "id": "WCbWeY0zXRtu",
        "outputId": "e2ae5aeb-d6a4-471f-a116-773ae53938fa"
      },
      "execution_count": null,
      "outputs": [
        {
          "output_type": "stream",
          "name": "stdout",
          "text": [
            "ValueError occurred: invalid literal for int() with base 10: 'Hello!'\n"
          ]
        }
      ]
    },
    {
      "cell_type": "code",
      "source": [],
      "metadata": {
        "id": "orSPsKY8ZAis"
      },
      "execution_count": null,
      "outputs": []
    },
    {
      "cell_type": "code",
      "source": [
        "def print_exception_tree(thisclass, nest = 0):\n",
        "    if nest > 1:\n",
        "        print(\"   |\" * (nest - 1), end=\"\")\n",
        "    if nest > 0:\n",
        "        print(\"   +---\", end=\"\")\n",
        "\n",
        "    print(thisclass.__name__)\n",
        "\n",
        "    for subclass in thisclass.__subclasses__():\n",
        "        print_exception_tree(subclass, nest + 1)\n",
        "\n",
        "\n",
        "print_exception_tree(BaseException)"
      ],
      "metadata": {
        "colab": {
          "base_uri": "https://localhost:8080/"
        },
        "id": "Sdaht43gMVPx",
        "outputId": "e6a14415-c2a0-4a9d-8a92-42dfc1e6cdca"
      },
      "execution_count": null,
      "outputs": [
        {
          "output_type": "stream",
          "name": "stdout",
          "text": [
            "BaseException\n",
            "   +---Exception\n",
            "   |   +---TypeError\n",
            "   |   |   +---MultipartConversionError\n",
            "   |   |   +---FloatOperation\n",
            "   |   |   +---DTypePromotionError\n",
            "   |   |   +---UFuncTypeError\n",
            "   |   |   |   +---UFuncTypeError\n",
            "   |   |   |   |   +---UFuncTypeError\n",
            "   |   |   |   +---UFuncTypeError\n",
            "   |   |   |   |   +---UFuncTypeError\n",
            "   |   |   |   |   +---UFuncTypeError\n",
            "   |   |   +---ConversionError\n",
            "   |   +---StopAsyncIteration\n",
            "   |   +---StopIteration\n",
            "   |   +---ImportError\n",
            "   |   |   +---ModuleNotFoundError\n",
            "   |   |   |   +---PackageNotFoundError\n",
            "   |   |   +---ZipImportError\n",
            "   |   +---OSError\n",
            "   |   |   +---ConnectionError\n",
            "   |   |   |   +---BrokenPipeError\n",
            "   |   |   |   +---ConnectionAbortedError\n",
            "   |   |   |   +---ConnectionRefusedError\n",
            "   |   |   |   +---ConnectionResetError\n",
            "   |   |   |   |   +---RemoteDisconnected\n",
            "   |   |   +---BlockingIOError\n",
            "   |   |   +---ChildProcessError\n",
            "   |   |   +---FileExistsError\n",
            "   |   |   +---FileNotFoundError\n",
            "   |   |   |   +---ExecutableNotFoundError\n",
            "   |   |   +---IsADirectoryError\n",
            "   |   |   +---NotADirectoryError\n",
            "   |   |   +---InterruptedError\n",
            "   |   |   |   +---InterruptedSystemCall\n",
            "   |   |   +---PermissionError\n",
            "   |   |   +---ProcessLookupError\n",
            "   |   |   +---TimeoutError\n",
            "   |   |   +---UnsupportedOperation\n",
            "   |   |   +---itimer_error\n",
            "   |   |   +---Error\n",
            "   |   |   |   +---SameFileError\n",
            "   |   |   +---SpecialFileError\n",
            "   |   |   +---ExecError\n",
            "   |   |   +---ReadError\n",
            "   |   |   +---herror\n",
            "   |   |   +---gaierror\n",
            "   |   |   +---SSLError\n",
            "   |   |   |   +---SSLCertVerificationError\n",
            "   |   |   |   +---SSLZeroReturnError\n",
            "   |   |   |   +---SSLWantWriteError\n",
            "   |   |   |   +---SSLWantReadError\n",
            "   |   |   |   +---SSLSyscallError\n",
            "   |   |   |   +---SSLEOFError\n",
            "   |   |   +---URLError\n",
            "   |   |   |   +---HTTPError\n",
            "   |   |   |   +---ContentTooShortError\n",
            "   |   |   +---UnidentifiedImageError\n",
            "   |   |   +---BadGzipFile\n",
            "   |   |   +---ProxyError\n",
            "   |   |   |   +---GeneralProxyError\n",
            "   |   |   |   +---ProxyConnectionError\n",
            "   |   |   |   +---SOCKS5AuthError\n",
            "   |   |   |   +---SOCKS5Error\n",
            "   |   |   |   +---SOCKS4Error\n",
            "   |   |   |   +---HTTPError\n",
            "   |   +---EOFError\n",
            "   |   |   +---IncompleteReadError\n",
            "   |   +---RuntimeError\n",
            "   |   |   +---RecursionError\n",
            "   |   |   +---NotImplementedError\n",
            "   |   |   |   +---StdinNotImplementedError\n",
            "   |   |   |   +---ZMQVersionError\n",
            "   |   |   +---_DeadlockError\n",
            "   |   |   +---BrokenBarrierError\n",
            "   |   |   +---BrokenExecutor\n",
            "   |   |   |   +---BrokenThreadPool\n",
            "   |   |   +---SendfileNotAvailableError\n",
            "   |   |   +---RemovedCommandError\n",
            "   |   |   +---PackageDiscoveryError\n",
            "   |   |   +---TooHardError\n",
            "   |   |   +---ExtractionError\n",
            "   |   |   +---VariableError\n",
            "   |   +---NameError\n",
            "   |   |   +---UnboundLocalError\n",
            "   |   +---AttributeError\n",
            "   |   |   +---FrozenInstanceError\n",
            "   |   +---SyntaxError\n",
            "   |   |   +---IndentationError\n",
            "   |   |   |   +---TabError\n",
            "   |   |   +---ParseError\n",
            "   |   +---LookupError\n",
            "   |   |   +---IndexError\n",
            "   |   |   |   +---AxisError\n",
            "   |   |   |   +---OutOfBounds\n",
            "   |   |   +---KeyError\n",
            "   |   |   |   +---UnknownBackend\n",
            "   |   |   |   +---NoSuchKernel\n",
            "   |   |   +---CodecRegistryError\n",
            "   |   +---ValueError\n",
            "   |   |   +---UnicodeError\n",
            "   |   |   |   +---UnicodeEncodeError\n",
            "   |   |   |   +---UnicodeDecodeError\n",
            "   |   |   |   +---UnicodeTranslateError\n",
            "   |   |   +---UnsupportedOperation\n",
            "   |   |   +---JSONDecodeError\n",
            "   |   |   +---UnsupportedDigestmodError\n",
            "   |   |   +---Error\n",
            "   |   |   +---IllegalMonthError\n",
            "   |   |   +---IllegalWeekdayError\n",
            "   |   |   +---MessageDefect\n",
            "   |   |   |   +---NoBoundaryInMultipartDefect\n",
            "   |   |   |   +---StartBoundaryNotFoundDefect\n",
            "   |   |   |   +---CloseBoundaryNotFoundDefect\n",
            "   |   |   |   +---FirstHeaderLineIsContinuationDefect\n",
            "   |   |   |   +---MisplacedEnvelopeHeaderDefect\n",
            "   |   |   |   +---MissingHeaderBodySeparatorDefect\n",
            "   |   |   |   +---MultipartInvariantViolationDefect\n",
            "   |   |   |   +---InvalidMultipartContentTransferEncodingDefect\n",
            "   |   |   |   +---UndecodableBytesDefect\n",
            "   |   |   |   +---InvalidBase64PaddingDefect\n",
            "   |   |   |   +---InvalidBase64CharactersDefect\n",
            "   |   |   |   +---InvalidBase64LengthDefect\n",
            "   |   |   |   +---HeaderDefect\n",
            "   |   |   |   |   +---InvalidHeaderDefect\n",
            "   |   |   |   |   +---HeaderMissingRequiredValue\n",
            "   |   |   |   |   +---NonPrintableDefect\n",
            "   |   |   |   |   +---ObsoleteHeaderDefect\n",
            "   |   |   |   |   +---NonASCIILocalPartDefect\n",
            "   |   |   |   |   +---InvalidDateDefect\n",
            "   |   |   +---ClassNotFound\n",
            "   |   |   +---SSLCertVerificationError\n",
            "   |   |   +---ClipboardEmpty\n",
            "   |   |   +---MacroToEdit\n",
            "   |   |   +---ParserError\n",
            "   |   |   +---UnequalIterablesError\n",
            "   |   |   +---ELFInvalid\n",
            "   |   |   +---InvalidVersion\n",
            "   |   |   +---InvalidName\n",
            "   |   |   +---InvalidWheelFilename\n",
            "   |   |   +---InvalidSdistFilename\n",
            "   |   |   +---InvalidVersion\n",
            "   |   |   +---UnequalIterablesError\n",
            "   |   |   +---ELFInvalid\n",
            "   |   |   +---InvalidName\n",
            "   |   |   +---InvalidWheelFilename\n",
            "   |   |   +---InvalidSdistFilename\n",
            "   |   |   +---InvalidSpecifier\n",
            "   |   |   +---InvalidMarker\n",
            "   |   |   +---UndefinedComparison\n",
            "   |   |   +---UndefinedEnvironmentName\n",
            "   |   |   +---InvalidRequirement\n",
            "   |   |   |   +---RequirementParseError\n",
            "   |   |   +---DisabledFunctionError\n",
            "   |   |   +---AxisError\n",
            "   |   |   +---LinAlgError\n",
            "   |   |   +---DefusedXmlException\n",
            "   |   |   |   +---DTDForbidden\n",
            "   |   |   |   +---EntitiesForbidden\n",
            "   |   |   |   +---ExternalReferenceForbidden\n",
            "   |   |   |   +---NotSupportedError\n",
            "   |   |   +---NonIntersectingPathException\n",
            "   |   |   +---InvalidFileException\n",
            "   |   +---AssertionError\n",
            "   |   +---ArithmeticError\n",
            "   |   |   +---FloatingPointError\n",
            "   |   |   +---OverflowError\n",
            "   |   |   +---ZeroDivisionError\n",
            "   |   |   |   +---DivisionByZero\n",
            "   |   |   |   +---DivisionUndefined\n",
            "   |   |   +---DecimalException\n",
            "   |   |   |   +---Clamped\n",
            "   |   |   |   +---Rounded\n",
            "   |   |   |   |   +---Underflow\n",
            "   |   |   |   |   +---Overflow\n",
            "   |   |   |   +---Inexact\n",
            "   |   |   |   |   +---Underflow\n",
            "   |   |   |   |   +---Overflow\n",
            "   |   |   |   +---Subnormal\n",
            "   |   |   |   |   +---Underflow\n",
            "   |   |   |   +---DivisionByZero\n",
            "   |   |   |   +---FloatOperation\n",
            "   |   |   |   +---InvalidOperation\n",
            "   |   |   |   |   +---ConversionSyntax\n",
            "   |   |   |   |   +---DivisionImpossible\n",
            "   |   |   |   |   +---DivisionUndefined\n",
            "   |   |   |   |   +---InvalidContext\n",
            "   |   +---SystemError\n",
            "   |   |   +---CodecRegistryError\n",
            "   |   +---ReferenceError\n",
            "   |   +---MemoryError\n",
            "   |   |   +---MemoryError\n",
            "   |   +---BufferError\n",
            "   |   +---Warning\n",
            "   |   |   +---UserWarning\n",
            "   |   |   |   +---GetPassWarning\n",
            "   |   |   |   +---FormatterWarning\n",
            "   |   |   |   +---SetuptoolsWarning\n",
            "   |   |   |   |   +---InformationOnly\n",
            "   |   |   |   |   +---SetuptoolsDeprecationWarning\n",
            "   |   |   |   |   |   +---_AmbiguousMarker\n",
            "   |   |   |   |   |   +---_DeprecatedConfig\n",
            "   |   |   |   |   |   +---DistDeprecationWarning\n",
            "   |   |   |   |   +---_MissingDynamic\n",
            "   |   |   |   |   +---_ExperimentalConfiguration\n",
            "   |   |   |   |   +---_ToolsTypoInMetadata\n",
            "   |   |   |   +---VisibleDeprecationWarning\n",
            "   |   |   |   +---RankWarning\n",
            "   |   |   |   +---ConversionWarning\n",
            "   |   |   |   +---RankWarning\n",
            "   |   |   +---EncodingWarning\n",
            "   |   |   +---DeprecationWarning\n",
            "   |   |   |   +---ProvisionalWarning\n",
            "   |   |   |   +---ModuleDeprecationWarning\n",
            "   |   |   |   +---MatplotlibDeprecationWarning\n",
            "   |   |   +---PendingDeprecationWarning\n",
            "   |   |   +---SyntaxWarning\n",
            "   |   |   +---RuntimeWarning\n",
            "   |   |   |   +---ProactorSelectorThreadWarning\n",
            "   |   |   |   +---UnknownTimezoneWarning\n",
            "   |   |   |   +---ComplexWarning\n",
            "   |   |   |   +---DecompressionBombWarning\n",
            "   |   |   |   +---PEP440Warning\n",
            "   |   |   +---FutureWarning\n",
            "   |   |   |   +---ProvisionalCompleterWarning\n",
            "   |   |   |   +---MaskedArrayFutureWarning\n",
            "   |   |   +---ImportWarning\n",
            "   |   |   +---UnicodeWarning\n",
            "   |   |   +---BytesWarning\n",
            "   |   |   +---ResourceWarning\n",
            "   |   |   +---DeprecatedTzFormatWarning\n",
            "   |   |   +---MathTextWarning\n",
            "   |   |   +---PkgResourcesDeprecationWarning\n",
            "   |   +---_OptionError\n",
            "   |   +---error\n",
            "   |   +---Verbose\n",
            "   |   +---Error\n",
            "   |   +---_Error\n",
            "   |   +---SubprocessError\n",
            "   |   |   +---CalledProcessError\n",
            "   |   |   +---TimeoutExpired\n",
            "   |   +---Error\n",
            "   |   +---TokenError\n",
            "   |   +---StopTokenizing\n",
            "   |   +---error\n",
            "   |   +---LZMAError\n",
            "   |   +---RegistryError\n",
            "   |   +---_GiveupOnFastCopy\n",
            "   |   +---ClassFoundException\n",
            "   |   +---EndOfBlock\n",
            "   |   +---TraitError\n",
            "   |   +---_GiveupOnSendfile\n",
            "   |   +---error\n",
            "   |   +---PickleError\n",
            "   |   |   +---PicklingError\n",
            "   |   |   +---UnpicklingError\n",
            "   |   +---_Stop\n",
            "   |   +---Empty\n",
            "   |   +---Full\n",
            "   |   +---ArgumentError\n",
            "   |   +---ArgumentTypeError\n",
            "   |   +---ConfigError\n",
            "   |   |   +---ConfigLoaderError\n",
            "   |   |   |   +---ArgumentError\n",
            "   |   |   +---ConfigFileNotFound\n",
            "   |   +---ConfigurableError\n",
            "   |   |   +---MultipleInstanceError\n",
            "   |   +---ApplicationError\n",
            "   |   +---ErrorDuringImport\n",
            "   |   +---BdbQuit\n",
            "   |   +---Restart\n",
            "   |   +---ExceptionPexpect\n",
            "   |   |   +---EOF\n",
            "   |   |   +---TIMEOUT\n",
            "   |   +---error\n",
            "   |   +---PtyProcessError\n",
            "   |   +---FindCmdError\n",
            "   |   +---HomeDirError\n",
            "   |   +---ProfileDirError\n",
            "   |   +---IPythonCoreError\n",
            "   |   |   +---TryNext\n",
            "   |   |   +---UsageError\n",
            "   |   |   +---StdinNotImplementedError\n",
            "   |   +---InputRejected\n",
            "   |   +---GetoptError\n",
            "   |   +---Incomplete\n",
            "   |   +---Error\n",
            "   |   +---BadZipFile\n",
            "   |   +---LargeZipFile\n",
            "   |   +---Error\n",
            "   |   +---MessageError\n",
            "   |   |   +---MessageParseError\n",
            "   |   |   |   +---HeaderParseError\n",
            "   |   |   |   |   +---_InvalidEwError\n",
            "   |   |   |   +---BoundaryError\n",
            "   |   |   +---MultipartConversionError\n",
            "   |   |   +---CharsetError\n",
            "   |   |   +---HeaderWriteError\n",
            "   |   +---OptionError\n",
            "   |   +---ErrorToken\n",
            "   |   +---PrefilterError\n",
            "   |   +---AliasError\n",
            "   |   |   +---InvalidAliasError\n",
            "   |   +---Error\n",
            "   |   |   +---InterfaceError\n",
            "   |   |   +---DatabaseError\n",
            "   |   |   |   +---InternalError\n",
            "   |   |   |   +---OperationalError\n",
            "   |   |   |   +---ProgrammingError\n",
            "   |   |   |   +---IntegrityError\n",
            "   |   |   |   +---DataError\n",
            "   |   |   |   +---NotSupportedError\n",
            "   |   +---Warning\n",
            "   |   +---Error\n",
            "   |   |   +---CancelledError\n",
            "   |   |   +---TimeoutError\n",
            "   |   |   +---InvalidStateError\n",
            "   |   +---TimeoutError\n",
            "   |   +---InvalidStateError\n",
            "   |   +---LimitOverrunError\n",
            "   |   +---QueueEmpty\n",
            "   |   +---QueueFull\n",
            "   |   +---SpaceInInput\n",
            "   |   +---DOMException\n",
            "   |   |   +---IndexSizeErr\n",
            "   |   |   +---DomstringSizeErr\n",
            "   |   |   +---HierarchyRequestErr\n",
            "   |   |   +---WrongDocumentErr\n",
            "   |   |   +---InvalidCharacterErr\n",
            "   |   |   +---NoDataAllowedErr\n",
            "   |   |   +---NoModificationAllowedErr\n",
            "   |   |   +---NotFoundErr\n",
            "   |   |   +---NotSupportedErr\n",
            "   |   |   +---InuseAttributeErr\n",
            "   |   |   +---InvalidStateErr\n",
            "   |   |   +---SyntaxErr\n",
            "   |   |   +---InvalidModificationErr\n",
            "   |   |   +---NamespaceErr\n",
            "   |   |   +---InvalidAccessErr\n",
            "   |   |   +---ValidationErr\n",
            "   |   +---ValidationError\n",
            "   |   +---EditReadOnlyBuffer\n",
            "   |   +---_Retry\n",
            "   |   +---InvalidLayoutError\n",
            "   |   +---HeightIsUnknownError\n",
            "   |   +---ExpatError\n",
            "   |   +---ParseEscape\n",
            "   |   +---HTTPException\n",
            "   |   |   +---NotConnected\n",
            "   |   |   +---InvalidURL\n",
            "   |   |   +---UnknownProtocol\n",
            "   |   |   +---UnknownTransferEncoding\n",
            "   |   |   +---UnimplementedFileMode\n",
            "   |   |   +---IncompleteRead\n",
            "   |   |   +---ImproperConnectionState\n",
            "   |   |   |   +---CannotSendRequest\n",
            "   |   |   |   +---CannotSendHeader\n",
            "   |   |   |   +---ResponseNotReady\n",
            "   |   |   +---BadStatusLine\n",
            "   |   |   |   +---RemoteDisconnected\n",
            "   |   |   +---LineTooLong\n",
            "   |   +---InteractivelyDefined\n",
            "   |   +---KillEmbedded\n",
            "   |   +---ArgumentError\n",
            "   |   +---ZMQBaseError\n",
            "   |   |   +---ZMQError\n",
            "   |   |   |   +---ContextTerminated\n",
            "   |   |   |   +---Again\n",
            "   |   |   |   +---InterruptedSystemCall\n",
            "   |   |   +---ZMQBindError\n",
            "   |   |   +---NotDone\n",
            "   |   +---NoIPAddresses\n",
            "   |   +---Error\n",
            "   |   |   +---NoSectionError\n",
            "   |   |   +---DuplicateSectionError\n",
            "   |   |   +---DuplicateOptionError\n",
            "   |   |   +---NoOptionError\n",
            "   |   |   +---InterpolationError\n",
            "   |   |   |   +---InterpolationMissingOptionError\n",
            "   |   |   |   +---InterpolationSyntaxError\n",
            "   |   |   |   +---InterpolationDepthError\n",
            "   |   |   +---ParsingError\n",
            "   |   |   |   +---MissingSectionHeaderError\n",
            "   |   +---InvalidPortNumber\n",
            "   |   +---DuplicateKernelError\n",
            "   |   +---error\n",
            "   |   +---ReturnValueIgnoredError\n",
            "   |   +---KeyReuseError\n",
            "   |   +---UnknownKeyError\n",
            "   |   +---LeakedCallbackError\n",
            "   |   +---BadYieldError\n",
            "   |   +---ReturnValueIgnoredError\n",
            "   |   +---Return\n",
            "   |   +---QueueEmpty\n",
            "   |   +---QueueFull\n",
            "   |   +---IPythonError\n",
            "   |   |   +---KernelError\n",
            "   |   |   |   +---EngineError\n",
            "   |   |   |   +---NoEnginesRegistered\n",
            "   |   |   |   +---TaskAborted\n",
            "   |   |   |   +---TaskTimeout\n",
            "   |   |   |   +---UnmetDependency\n",
            "   |   |   |   |   +---ImpossibleDependency\n",
            "   |   |   |   |   |   +---DependencyTimeout\n",
            "   |   |   |   |   |   +---InvalidDependency\n",
            "   |   |   |   +---RemoteError\n",
            "   |   |   |   |   +---CompositeError\n",
            "   |   |   |   |   +---AlreadyDisplayedError\n",
            "   |   |   |   +---TaskRejectError\n",
            "   |   +---ProcessError\n",
            "   |   |   +---BufferTooShort\n",
            "   |   |   +---TimeoutError\n",
            "   |   |   +---AuthenticationError\n",
            "   |   +---BadEntryPoint\n",
            "   |   +---NoSuchEntryPoint\n",
            "   |   +---Error\n",
            "   |   |   +---NoSuchProcess\n",
            "   |   |   |   +---ZombieProcess\n",
            "   |   |   +---AccessDenied\n",
            "   |   |   +---TimeoutExpired\n",
            "   |   +---_Ipv6UnsupportedError\n",
            "   |   +---LauncherError\n",
            "   |   |   +---ProcessStateError\n",
            "   |   |   +---UnknownStatus\n",
            "   |   |   +---NotRunning\n",
            "   |   +---DistutilsError\n",
            "   |   |   +---DistutilsModuleError\n",
            "   |   |   +---DistutilsClassError\n",
            "   |   |   +---DistutilsGetoptError\n",
            "   |   |   +---DistutilsArgError\n",
            "   |   |   +---DistutilsFileError\n",
            "   |   |   +---DistutilsOptionError\n",
            "   |   |   |   +---InvalidConfigError\n",
            "   |   |   |   +---RemovedConfigError\n",
            "   |   |   +---DistutilsSetupError\n",
            "   |   |   +---DistutilsPlatformError\n",
            "   |   |   +---DistutilsExecError\n",
            "   |   |   +---DistutilsInternalError\n",
            "   |   |   +---DistutilsTemplateError\n",
            "   |   |   +---DistutilsByteCompileError\n",
            "   |   |   +---RemovedCommandError\n",
            "   |   |   +---PackageDiscoveryError\n",
            "   |   +---CCompilerError\n",
            "   |   |   +---PreprocessError\n",
            "   |   |   +---CompileError\n",
            "   |   |   +---LibError\n",
            "   |   |   +---LinkError\n",
            "   |   |   +---UnknownFileError\n",
            "   |   +---ParserSyntaxError\n",
            "   |   +---TarError\n",
            "   |   |   +---ExtractError\n",
            "   |   |   +---ReadError\n",
            "   |   |   +---CompressionError\n",
            "   |   |   +---StreamError\n",
            "   |   |   +---HeaderError\n",
            "   |   |   |   +---EmptyHeaderError\n",
            "   |   |   |   +---TruncatedHeaderError\n",
            "   |   |   |   +---EOFHeaderError\n",
            "   |   |   |   +---InvalidHeaderError\n",
            "   |   |   |   +---SubsequentHeaderError\n",
            "   |   |   +---FilterError\n",
            "   |   |   |   +---AbsolutePathError\n",
            "   |   |   |   +---OutsideDestinationError\n",
            "   |   |   |   +---SpecialFileError\n",
            "   |   |   |   +---AbsoluteLinkError\n",
            "   |   |   |   +---LinkOutsideDestinationError\n",
            "   |   +---Error\n",
            "   |   |   +---AuthorizationError\n",
            "   |   |   +---RuntimeManagementError\n",
            "   |   |   +---MessageError\n",
            "   |   +---WidgetException\n",
            "   |   +---JsException\n",
            "   |   +---ConverterError\n",
            "   |   |   +---ConverterLockError\n",
            "   |   +---MAError\n",
            "   |   |   +---MaskError\n",
            "   |   +---FormattedTracebackError\n",
            "   |   +---ParseBaseException\n",
            "   |   |   +---ParseException\n",
            "   |   |   +---ParseFatalException\n",
            "   |   |   |   +---ParseSyntaxException\n",
            "   |   +---RecursiveGrammarException\n",
            "   |   +---HttpLib2Error\n",
            "   |   |   +---HttpLib2ErrorWithResponse\n",
            "   |   |   |   +---RedirectMissingLocation\n",
            "   |   |   |   +---RedirectLimit\n",
            "   |   |   |   +---FailedToDecompressContent\n",
            "   |   |   |   +---UnimplementedDigestAuthOptionError\n",
            "   |   |   |   +---UnimplementedHmacDigestAuthOptionError\n",
            "   |   |   +---MalformedHeader\n",
            "   |   |   +---RelativeURIError\n",
            "   |   |   +---ServerNotFoundError\n",
            "   |   |   +---ProxiesUnavailableError\n",
            "   |   +---DecompressionBombError\n",
            "   |   +---FFIError\n",
            "   |   +---CDefError\n",
            "   |   +---VerificationError\n",
            "   |   +---VerificationMissing\n",
            "   |   +---PkgConfigError\n",
            "   |   +---BadRequiredStrength\n",
            "   |   +---DuplicateConstraint\n",
            "   |   +---DuplicateEditVariable\n",
            "   |   +---UnknownConstraint\n",
            "   |   +---UnknownEditVariable\n",
            "   |   +---UnsatisfiableConstraint\n",
            "   |   +---NonGuiException\n",
            "   |   +---InvalidIndexError\n",
            "   |   +---TerminateTrajectory\n",
            "   |   +---NoFreePortFoundError\n",
            "   |   +---DebuggerInitializationError\n",
            "   |   +---Error\n",
            "   |   |   +---ProtocolError\n",
            "   |   |   +---ResponseError\n",
            "   |   |   +---Fault\n",
            "   |   +---ResolutionError\n",
            "   |   |   +---VersionConflict\n",
            "   |   |   |   +---ContextualVersionConflict\n",
            "   |   |   +---DistributionNotFound\n",
            "   |   |   +---UnknownExtra\n",
            "   |   +---_Error\n",
            "   |   +---UnableToResolveVariableException\n",
            "   |   +---InvalidTypeInArgsException\n",
            "   +---GeneratorExit\n",
            "   +---SystemExit\n",
            "   +---KeyboardInterrupt\n",
            "   +---CancelledError\n",
            "   +---AbortThread\n"
          ]
        }
      ]
    },
    {
      "cell_type": "code",
      "source": [
        "def print_args(args):\n",
        "    lng = len(args)\n",
        "    if lng == 0:\n",
        "        print(\"\")\n",
        "    elif lng == 1:\n",
        "        print(args[0])\n",
        "    else:\n",
        "        print(str(args))\n",
        "\n",
        "\n",
        "try:\n",
        "    raise Exception\n",
        "except Exception as e:\n",
        "    print(e, e.__str__(), sep=' : ' ,end=' : ')\n",
        "    print_args(e.args)\n",
        "\n",
        "try:\n",
        "    raise Exception(\"my exception\")\n",
        "except Exception as e:\n",
        "    print(e, e.__str__(), sep=' : ', end=' : ')\n",
        "    print_args(e.args)\n",
        "\n",
        "try:\n",
        "    raise Exception(\"my\", \"exception\")\n",
        "except Exception as e:\n",
        "    print(e, e.__str__(), sep=' : ', end=' : ')\n",
        "    print_args(e.args)"
      ],
      "metadata": {
        "id": "3WszjmpPM3WG",
        "colab": {
          "base_uri": "https://localhost:8080/"
        },
        "outputId": "2a7410aa-d80c-4929-bc15-cd5794815758"
      },
      "execution_count": null,
      "outputs": [
        {
          "output_type": "stream",
          "name": "stdout",
          "text": [
            " :  : \n",
            "my exception : my exception : my exception\n",
            "('my', 'exception') : ('my', 'exception') : ('my', 'exception')\n"
          ]
        }
      ]
    },
    {
      "cell_type": "markdown",
      "source": [
        "Create a custom exception class called CustomError that accepts three arguments: message, code, and severity. Modify the exception handling block to catch CustomError and print its arguments in a formatted way."
      ],
      "metadata": {
        "id": "ME0YSrlqbJ7r"
      }
    },
    {
      "cell_type": "code",
      "source": [
        "class CustomError(Exception):\n",
        "    def __init__(self, message, code, severity):\n",
        "        super().__init__(message)\n",
        "        self.code = code\n",
        "        self.severity = severity\n",
        "\n",
        "def raise_custom_error():\n",
        "    raise CustomError(\"An error occurred\", 404, \"High\")\n",
        "\n",
        "try:\n",
        "    raise_custom_error()\n",
        "except CustomError as e:\n",
        "    print(f\"Error: {e}\")\n",
        "    print(f\"Code: {e.code}, Severity: {e.severity}\")\n"
      ],
      "metadata": {
        "colab": {
          "base_uri": "https://localhost:8080/"
        },
        "id": "Z9Kh2oK_bKeR",
        "outputId": "527e6a5d-8c7a-43d0-fca8-e03c7e4a7f6e"
      },
      "execution_count": null,
      "outputs": [
        {
          "output_type": "stream",
          "name": "stdout",
          "text": [
            "Error: An error occurred\n",
            "Code: 404, Severity: High\n"
          ]
        }
      ]
    },
    {
      "cell_type": "code",
      "source": [
        "class MyZeroDivisionError(ZeroDivisionError):\n",
        "    pass\n",
        "\n",
        "\n",
        "def do_the_division(mine):\n",
        "    if mine:\n",
        "        raise MyZeroDivisionError(\"some worse news\")\n",
        "    else:\n",
        "        raise ZeroDivisionError(\"some bad news\")\n",
        "\n",
        "\n",
        "for mode in [False, True]:\n",
        "    try:\n",
        "        do_the_division(mode)\n",
        "    except ZeroDivisionError:\n",
        "        print('Division by zero')\n",
        "\n",
        "for mode in [False, True]:\n",
        "    try:\n",
        "        do_the_division(mode)\n",
        "    except MyZeroDivisionError:\n",
        "        print('My division by zero')\n",
        "    except ZeroDivisionError:\n",
        "        print('Original division by zero')\n"
      ],
      "metadata": {
        "colab": {
          "base_uri": "https://localhost:8080/"
        },
        "id": "h5GZgm9JbQEo",
        "outputId": "085aa9d9-0519-4137-c73e-e67656965eb3"
      },
      "execution_count": null,
      "outputs": [
        {
          "output_type": "stream",
          "name": "stdout",
          "text": [
            "Division by zero\n",
            "Division by zero\n",
            "Original division by zero\n",
            "My division by zero\n"
          ]
        }
      ]
    },
    {
      "cell_type": "code",
      "source": [],
      "metadata": {
        "id": "aLB5c2BodY-d"
      },
      "execution_count": null,
      "outputs": []
    },
    {
      "cell_type": "markdown",
      "source": [
        "Create two additional custom exceptions: MyOverflowError (inheriting from OverflowError) and MyUnderflowError (inheriting from ArithmeticError). Modify the do_the_division function so that:\n",
        "\n",
        "It raises MyOverflowError if the input value is too large (greater than 100).\n",
        "It raises MyUnderflowError if the input value is negative.\n",
        "Write a loop that tests all possible errors (MyZeroDivisionError, MyOverflowError, and MyUnderflowError), and handle each exception type with a specific message."
      ],
      "metadata": {
        "id": "DPZb9ZRHduBO"
      }
    },
    {
      "cell_type": "code",
      "source": [
        "# Define custom exceptions\n",
        "class MyZeroDivisionError(ZeroDivisionError):\n",
        "    pass\n",
        "\n",
        "class MyOverflowError(OverflowError):\n",
        "    pass\n",
        "\n",
        "class MyUnderflowError(ArithmeticError):\n",
        "    pass\n",
        "\n",
        "# Function to raise specific exceptions based on input value\n",
        "def do_the_division(n):\n",
        "    if n == 0:\n",
        "        raise MyZeroDivisionError(\"Division by zero!\")\n",
        "    elif n > 100:\n",
        "        raise MyOverflowError(f\"Value {n} is too large! Overflow error.\")\n",
        "    elif n < 0:\n",
        "        raise MyUnderflowError(f\"Value {n} is negative! Underflow error.\")\n",
        "    else:\n",
        "        return 1 / n\n",
        "\n",
        "# Testing different scenarios\n",
        "test_values = [0, 50, 150, -10]\n",
        "\n",
        "for value in test_values:\n",
        "    try:\n",
        "        result = do_the_division(value)\n",
        "        print(f\"Result for {value}: {result}\")\n",
        "    except MyZeroDivisionError as zde:\n",
        "        print(f\"Error: {zde}\")\n",
        "    except MyOverflowError as oe:\n",
        "        print(f\"Error: {oe}\")\n",
        "    except MyUnderflowError as ue:\n",
        "        print(f\"Error: {ue}\")\n"
      ],
      "metadata": {
        "colab": {
          "base_uri": "https://localhost:8080/"
        },
        "id": "wzQJm-Bldujc",
        "outputId": "426de14e-defc-447b-e496-3932eb08c583"
      },
      "execution_count": null,
      "outputs": [
        {
          "output_type": "stream",
          "name": "stdout",
          "text": [
            "Error: Division by zero!\n",
            "Result for 50: 0.02\n",
            "Error: Value 150 is too large! Overflow error.\n",
            "Error: Value -10 is negative! Underflow error.\n"
          ]
        }
      ]
    },
    {
      "cell_type": "code",
      "source": [
        "class PizzaError(Exception):\n",
        "    def __init__(self, pizza, message):\n",
        "        Exception.__init__(self, message)\n",
        "        self.pizza = pizza\n",
        "\n",
        "\n",
        "class TooMuchCheeseError(PizzaError):\n",
        "    def __init__(self, pizza, cheese, message):\n",
        "        PizzaError.__init__(self, pizza, message)\n",
        "        self.cheese = cheese\n",
        "\n",
        "\n",
        "def make_pizza(pizza, cheese):\n",
        "    if pizza not in ['margherita', 'capricciosa', 'calzone']:\n",
        "        raise PizzaError(pizza, \"no such pizza on the menu\")\n",
        "    if cheese > 100:\n",
        "        raise TooMuchCheeseError(pizza, cheese, \"too much cheese\")\n",
        "    print(\"Pizza ready!\")\n",
        "\n",
        "for (pz, ch) in [('calzone', 0), ('margherita', 110), ('mafia', 20)]:\n",
        "    try:\n",
        "        make_pizza(pz, ch)\n",
        "    except TooMuchCheeseError as tmce:\n",
        "        print(tmce, ':', tmce.cheese)\n",
        "    except PizzaError as pe:\n",
        "        print(pe, ':', pe.pizza)\n"
      ],
      "metadata": {
        "colab": {
          "base_uri": "https://localhost:8080/"
        },
        "id": "AWL8evBed0uO",
        "outputId": "0f7cdbea-f681-4844-9a18-bb2ef50839ce"
      },
      "execution_count": null,
      "outputs": [
        {
          "output_type": "stream",
          "name": "stdout",
          "text": [
            "Pizza ready!\n",
            "too much cheese : 110\n",
            "no such pizza on the menu : mafia\n"
          ]
        }
      ]
    },
    {
      "cell_type": "code",
      "source": [
        "class PizzaError(Exception):\n",
        "    def __init__(self, pizza='unknown', message=''):\n",
        "        Exception.__init__(self, message)\n",
        "        self.pizza = pizza\n",
        "\n",
        "\n",
        "class TooMuchCheeseError(PizzaError):\n",
        "    def __init__(self, pizza='uknown', cheese='>100', message=''):\n",
        "        PizzaError.__init__(self, pizza, message)\n",
        "        self.cheese = cheese\n",
        "\n",
        "\n",
        "def make_pizza(pizza, cheese):\n",
        "    if pizza not in ['margherita', 'capricciosa', 'calzone']:\n",
        "        raise PizzaError\n",
        "    if cheese > 100:\n",
        "        raise TooMuchCheeseError\n",
        "    print(\"Pizza ready!\")\n",
        "\n",
        "\n",
        "for (pz, ch) in [('calzone', 0), ('margherita', 110), ('mafia', 20)]:\n",
        "    try:\n",
        "        make_pizza(pz, ch)\n",
        "    except TooMuchCheeseError as tmce:\n",
        "        print(tmce, ':', tmce.cheese)\n",
        "    except PizzaError as pe:\n",
        "        print(pe, ':', pe.pizza)\n",
        "\n"
      ],
      "metadata": {
        "colab": {
          "base_uri": "https://localhost:8080/"
        },
        "id": "Ya_piCPGegXn",
        "outputId": "06448a2d-0f6f-4bb1-b49c-d9199f765691"
      },
      "execution_count": null,
      "outputs": [
        {
          "output_type": "stream",
          "name": "stdout",
          "text": [
            "Pizza ready!\n",
            " : >100\n",
            " : unknown\n"
          ]
        }
      ]
    },
    {
      "cell_type": "code",
      "source": [],
      "metadata": {
        "id": "9cfLPsJveiHQ"
      },
      "execution_count": null,
      "outputs": []
    },
    {
      "cell_type": "markdown",
      "source": [
        "Extend the PizzaError hierarchy by adding more specific exceptions:\n",
        "\n",
        "Create a NoSauceError exception that is raised when the amount of sauce is 0.\n",
        "Create a TooManyToppingsError exception that is raised if the number of toppings is more than 5.\n",
        "Modify the make_pizza function to raise these exceptions when appropriate, and update the try-except block to handle them with specific error messages. write the code"
      ],
      "metadata": {
        "id": "QKEUMD5SfIe-"
      }
    },
    {
      "cell_type": "code",
      "source": [
        "# Base exception class for pizza-related errors\n",
        "class PizzaError(Exception):\n",
        "    def __init__(self, pizza, message):\n",
        "        Exception.__init__(self, message)\n",
        "        self.pizza = pizza\n",
        "\n",
        "# Custom exception for too much cheese\n",
        "class TooMuchCheeseError(PizzaError):\n",
        "    def __init__(self, pizza, cheese, message):\n",
        "        PizzaError.__init__(self, pizza, message)\n",
        "        self.cheese = cheese\n",
        "\n",
        "# Custom exception for no sauce\n",
        "class NoSauceError(PizzaError):\n",
        "    def __init__(self, pizza, message):\n",
        "        PizzaError.__init__(self, pizza, message)\n",
        "\n",
        "# Custom exception for too many toppings\n",
        "class TooManyToppingsError(PizzaError):\n",
        "    def __init__(self, pizza, toppings, message):\n",
        "        PizzaError.__init__(self, pizza, message)\n",
        "        self.toppings = toppings\n",
        "\n",
        "# Function to make a pizza and raise errors if any issues are found\n",
        "def make_pizza(pizza, cheese, sauce, toppings):\n",
        "    if pizza not in ['margherita', 'capricciosa', 'calzone']:\n",
        "        raise PizzaError(pizza, \"no such pizza on the menu\")\n",
        "    if cheese > 100:\n",
        "        raise TooMuchCheeseError(pizza, cheese, \"too much cheese\")\n",
        "    if sauce == 0:\n",
        "        raise NoSauceError(pizza, \"no sauce added\")\n",
        "    if len(toppings) > 5:\n",
        "        raise TooManyToppingsError(pizza, toppings, \"too many toppings\")\n",
        "    print(\"Pizza ready!\")\n",
        "\n",
        "# Test the function with various scenarios\n",
        "pizzas = [\n",
        "    ('calzone', 90, 10, ['mushroom', 'ham']),\n",
        "    ('margherita', 110, 5, ['tomato', 'basil']),\n",
        "    ('capricciosa', 80, 0, ['ham', 'olives']),\n",
        "    ('mafia', 50, 10, ['chicken', 'onion']),\n",
        "    ('calzone', 70, 15, ['pepperoni', 'mushrooms', 'onions', 'ham', 'olives', 'extra cheese']),\n",
        "]\n",
        "\n",
        "for (pz, ch, sauce, toppings) in pizzas:\n",
        "    try:\n",
        "        make_pizza(pz, ch, sauce, toppings)\n",
        "    except TooMuchCheeseError as tmce:\n",
        "        print(tmce, ':', tmce.cheese)\n",
        "    except NoSauceError as nse:\n",
        "        print(nse, ':', \"No sauce\")\n",
        "    except TooManyToppingsError as tmte:\n",
        "        print(tmte, ':', tmte.toppings)\n",
        "    except PizzaError as pe:\n",
        "        print(pe, ':', pe.pizza)\n"
      ],
      "metadata": {
        "colab": {
          "base_uri": "https://localhost:8080/"
        },
        "id": "mcnOWUBLfGOs",
        "outputId": "21e96eef-5ac6-4dee-d16f-3a647cec3526"
      },
      "execution_count": null,
      "outputs": [
        {
          "output_type": "stream",
          "name": "stdout",
          "text": [
            "Pizza ready!\n",
            "too much cheese : 110\n",
            "no sauce added : No sauce\n",
            "no such pizza on the menu : mafia\n",
            "too many toppings : ['pepperoni', 'mushrooms', 'onions', 'ham', 'olives', 'extra cheese']\n"
          ]
        }
      ]
    },
    {
      "cell_type": "code",
      "source": [],
      "metadata": {
        "id": "LIhS9jhCfScG"
      },
      "execution_count": null,
      "outputs": []
    }
  ]
}
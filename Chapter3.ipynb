{
  "cells": [
    {
      "cell_type": "markdown",
      "metadata": {
        "id": "view-in-github",
        "colab_type": "text"
      },
      "source": [
        "<a href=\"https://colab.research.google.com/github/ShahzadaFahimJan/NAVTTC-advance-python/blob/main/Chapter3.ipynb\" target=\"_parent\"><img src=\"https://colab.research.google.com/assets/colab-badge.svg\" alt=\"Open In Colab\"/></a>"
      ]
    },
    {
      "cell_type": "code",
      "execution_count": null,
      "metadata": {
        "colab": {
          "base_uri": "https://localhost:8080/",
          "height": 53
        },
        "id": "tvdH-HZ-N7WO",
        "outputId": "c1e46004-ed93-4361-d2c1-0a197ccda1da"
      },
      "outputs": [
        {
          "name": "stdout",
          "output_type": "stream",
          "text": [
            "hi\n"
          ]
        },
        {
          "data": {
            "application/vnd.google.colaboratory.intrinsic+json": {
              "type": "string"
            },
            "text/plain": [
              "'5'"
            ]
          },
          "execution_count": 4,
          "metadata": {},
          "output_type": "execute_result"
        }
      ],
      "source": [
        "print(\"hi\")\n",
        "str(5)\n",
        "\n"
      ]
    },
    {
      "cell_type": "code",
      "execution_count": null,
      "metadata": {
        "colab": {
          "base_uri": "https://localhost:8080/",
          "height": 35
        },
        "id": "MEwMBjCuQC1V",
        "outputId": "5441449d-f198-42b8-ba29-911c6da94d1d"
      },
      "outputs": [
        {
          "data": {
            "application/vnd.google.colaboratory.intrinsic+json": {
              "type": "string"
            },
            "text/plain": [
              "'5.5'"
            ]
          },
          "execution_count": 8,
          "metadata": {},
          "output_type": "execute_result"
        }
      ],
      "source": [
        "str(5.5)\n",
        "\n"
      ]
    },
    {
      "cell_type": "code",
      "execution_count": null,
      "metadata": {
        "colab": {
          "base_uri": "https://localhost:8080/"
        },
        "id": "izu4L12cQXr4",
        "outputId": "40f4a290-8611-459d-a568-4cf97359a49d"
      },
      "outputs": [
        {
          "data": {
            "text/plain": [
              "5"
            ]
          },
          "execution_count": 9,
          "metadata": {},
          "output_type": "execute_result"
        }
      ],
      "source": [
        "int(\"5\")\n"
      ]
    },
    {
      "cell_type": "code",
      "execution_count": null,
      "metadata": {
        "colab": {
          "base_uri": "https://localhost:8080/"
        },
        "id": "k6itZHPRQaA3",
        "outputId": "8ce7adb3-4fa3-4b53-8281-9f085d2c3073"
      },
      "outputs": [
        {
          "data": {
            "text/plain": [
              "5.5"
            ]
          },
          "execution_count": 10,
          "metadata": {},
          "output_type": "execute_result"
        }
      ],
      "source": [
        "float(\"5.5\")\n"
      ]
    },
    {
      "cell_type": "code",
      "execution_count": null,
      "metadata": {
        "colab": {
          "base_uri": "https://localhost:8080/",
          "height": 35
        },
        "id": "1sP7DffrQemP",
        "outputId": "a05141eb-abb5-46f4-bf3b-73b560bb2efc"
      },
      "outputs": [
        {
          "data": {
            "application/vnd.google.colaboratory.intrinsic+json": {
              "type": "string"
            },
            "text/plain": [
              "'True'"
            ]
          },
          "execution_count": 11,
          "metadata": {},
          "output_type": "execute_result"
        }
      ],
      "source": [
        "str(True)"
      ]
    },
    {
      "cell_type": "code",
      "execution_count": null,
      "metadata": {
        "colab": {
          "base_uri": "https://localhost:8080/"
        },
        "id": "oxJTwiwPQgzR",
        "outputId": "1d9c8521-c1f1-4cef-f1f4-0c1842919404"
      },
      "outputs": [
        {
          "data": {
            "text/plain": [
              "True"
            ]
          },
          "execution_count": 12,
          "metadata": {},
          "output_type": "execute_result"
        }
      ],
      "source": [
        "bool(\"True\")"
      ]
    },
    {
      "cell_type": "code",
      "execution_count": null,
      "metadata": {
        "colab": {
          "base_uri": "https://localhost:8080/"
        },
        "id": "m8H38KcIQhP_",
        "outputId": "d69ecf4c-4cf1-4c8b-d823-e456a5200b92"
      },
      "outputs": [
        {
          "data": {
            "text/plain": [
              "5"
            ]
          },
          "execution_count": 14,
          "metadata": {},
          "output_type": "execute_result"
        }
      ],
      "source": [
        "len(\"hello\")\n"
      ]
    },
    {
      "cell_type": "code",
      "execution_count": null,
      "metadata": {
        "colab": {
          "base_uri": "https://localhost:8080/"
        },
        "id": "9b8X_cULQ9S6",
        "outputId": "8a215a69-0ca0-484c-a6d3-3f9634c86425"
      },
      "outputs": [
        {
          "data": {
            "text/plain": [
              "5"
            ]
          },
          "execution_count": 15,
          "metadata": {},
          "output_type": "execute_result"
        }
      ],
      "source": [
        "len([1,2,3,4,5])\n"
      ]
    },
    {
      "cell_type": "code",
      "execution_count": null,
      "metadata": {
        "colab": {
          "base_uri": "https://localhost:8080/"
        },
        "id": "Flpv4lySQ_wU",
        "outputId": "194e115e-48d5-42f2-949f-5557f4627c15"
      },
      "outputs": [
        {
          "data": {
            "text/plain": [
              "2"
            ]
          },
          "execution_count": 16,
          "metadata": {},
          "output_type": "execute_result"
        }
      ],
      "source": [
        "len([\"hello\",\"world\"])"
      ]
    },
    {
      "cell_type": "code",
      "execution_count": null,
      "metadata": {
        "colab": {
          "base_uri": "https://localhost:8080/"
        },
        "id": "dsfIaBekRAHK",
        "outputId": "71335fc9-2d5f-4a74-eb97-ebb4a88934cd"
      },
      "outputs": [
        {
          "data": {
            "text/plain": [
              "[1, 2, 3, 3, 5, 23, 34, 56]"
            ]
          },
          "execution_count": 17,
          "metadata": {},
          "output_type": "execute_result"
        }
      ],
      "source": [
        "sorted([34,23,56,3,2,3,1,5])"
      ]
    },
    {
      "cell_type": "code",
      "execution_count": null,
      "metadata": {
        "colab": {
          "base_uri": "https://localhost:8080/"
        },
        "id": "JP7iLY2wRDm-",
        "outputId": "30e4e483-83b4-4684-bca4-ea572777d442"
      },
      "outputs": [
        {
          "data": {
            "text/plain": [
              "['A', 'R', 'S']"
            ]
          },
          "execution_count": 18,
          "metadata": {},
          "output_type": "execute_result"
        }
      ],
      "source": [
        "sorted([\"R\",\"S\",\"A\"])"
      ]
    },
    {
      "cell_type": "code",
      "execution_count": null,
      "metadata": {
        "colab": {
          "base_uri": "https://localhost:8080/"
        },
        "id": "8ZWHDvoORHPG",
        "outputId": "7abf80c3-9807-484b-9df1-f330e29fe7f4"
      },
      "outputs": [
        {
          "data": {
            "text/plain": [
              "['A', 'R', 'S', 'b']"
            ]
          },
          "execution_count": 19,
          "metadata": {},
          "output_type": "execute_result"
        }
      ],
      "source": [
        "sorted([\"R\",\"S\",\"A\",\"b\"])"
      ]
    },
    {
      "cell_type": "code",
      "execution_count": null,
      "metadata": {
        "colab": {
          "base_uri": "https://localhost:8080/",
          "height": 141
        },
        "id": "M9cakpWORTuP",
        "outputId": "682d8464-a2f4-484a-f12e-ec2c87babaa7"
      },
      "outputs": [
        {
          "ename": "TypeError",
          "evalue": "'<' not supported between instances of 'int' and 'str'",
          "output_type": "error",
          "traceback": [
            "\u001b[0;31m---------------------------------------------------------------------------\u001b[0m",
            "\u001b[0;31mTypeError\u001b[0m                                 Traceback (most recent call last)",
            "\u001b[0;32m<ipython-input-20-424ec80d41b2>\u001b[0m in \u001b[0;36m<cell line: 1>\u001b[0;34m()\u001b[0m\n\u001b[0;32m----> 1\u001b[0;31m \u001b[0msorted\u001b[0m\u001b[0;34m(\u001b[0m\u001b[0;34m[\u001b[0m\u001b[0;34m\"R\"\u001b[0m\u001b[0;34m,\u001b[0m\u001b[0;34m\"S\"\u001b[0m\u001b[0;34m,\u001b[0m\u001b[0;34m\"A\"\u001b[0m\u001b[0;34m,\u001b[0m\u001b[0;36m5\u001b[0m\u001b[0;34m]\u001b[0m\u001b[0;34m)\u001b[0m\u001b[0;31m#can't do this\u001b[0m\u001b[0;34m\u001b[0m\u001b[0;34m\u001b[0m\u001b[0m\n\u001b[0m",
            "\u001b[0;31mTypeError\u001b[0m: '<' not supported between instances of 'int' and 'str'"
          ]
        }
      ],
      "source": [
        "sorted([\"R\",\"S\",\"A\",5])#can't do this"
      ]
    },
    {
      "cell_type": "code",
      "execution_count": null,
      "metadata": {
        "colab": {
          "base_uri": "https://localhost:8080/"
        },
        "id": "ZNhOujv6RWbJ",
        "outputId": "5182e906-2b55-4558-bbb6-31e9975dc4c7"
      },
      "outputs": [
        {
          "data": {
            "text/plain": [
              "['5', '6.6', 'A', 'R', 'S', 'a', 'b']"
            ]
          },
          "execution_count": 22,
          "metadata": {},
          "output_type": "execute_result"
        }
      ],
      "source": [
        "sorted([\"R\",\"S\",\"A\",\"5\",\"6.6\",\"a\",\"b\"])"
      ]
    },
    {
      "cell_type": "code",
      "execution_count": null,
      "metadata": {
        "id": "0fm9Ei5IRjAE"
      },
      "outputs": [],
      "source": []
    },
    {
      "cell_type": "markdown",
      "metadata": {
        "id": "KTqmf_PqTjzB"
      },
      "source": [
        "# Defining Functions in Python"
      ]
    },
    {
      "cell_type": "code",
      "execution_count": null,
      "metadata": {
        "colab": {
          "base_uri": "https://localhost:8080/"
        },
        "id": "NXuu0qWOTmNL",
        "outputId": "359db3f8-752d-43d0-b489-ef3732b27036"
      },
      "outputs": [
        {
          "name": "stdout",
          "output_type": "stream",
          "text": [
            "inside the function\n",
            "another string inside the function\n"
          ]
        }
      ],
      "source": [
        "def my_function():\n",
        "  print(\"inside the function\")\n",
        "  print(\"another string inside the function\")\n",
        "my_function()"
      ]
    },
    {
      "cell_type": "code",
      "execution_count": null,
      "metadata": {
        "id": "kh8GazijTsbu"
      },
      "outputs": [],
      "source": []
    },
    {
      "cell_type": "markdown",
      "metadata": {
        "id": "SM4eg6nzUR-P"
      },
      "source": [
        "# Adding Argument to a function"
      ]
    },
    {
      "cell_type": "code",
      "execution_count": null,
      "metadata": {
        "colab": {
          "base_uri": "https://localhost:8080/"
        },
        "id": "W5mU2JepUU99",
        "outputId": "adb5af41-e20e-4499-e806-2c45d572c9ec"
      },
      "outputs": [
        {
          "name": "stdout",
          "output_type": "stream",
          "text": [
            "string1\n",
            "String2\n"
          ]
        }
      ],
      "source": [
        "def my_function(str1,str2):\n",
        "  print(str1)\n",
        "  print(str2)\n",
        "my_function(\"string1\",\"String2\")"
      ]
    },
    {
      "cell_type": "code",
      "execution_count": null,
      "metadata": {
        "id": "K9OZe5GcUdIX"
      },
      "outputs": [],
      "source": []
    },
    {
      "cell_type": "markdown",
      "metadata": {
        "id": "gS-ItZgXVAWV"
      },
      "source": [
        "# Default Paramters"
      ]
    },
    {
      "cell_type": "code",
      "execution_count": null,
      "metadata": {
        "colab": {
          "base_uri": "https://localhost:8080/"
        },
        "id": "R0gY1tLtVCMy",
        "outputId": "57b4fc85-5d80-45fa-c8d4-534b02bdbb8f"
      },
      "outputs": [
        {
          "name": "stdout",
          "output_type": "stream",
          "text": [
            "My name is Nameand my age is 19\n"
          ]
        }
      ],
      "source": [
        "def my_function(name,age):\n",
        "  print(\"My name is \" + name + \"and my age is \" +age)\n",
        "my_function(\"Name\",\"19\")"
      ]
    },
    {
      "cell_type": "code",
      "execution_count": null,
      "metadata": {
        "colab": {
          "base_uri": "https://localhost:8080/"
        },
        "id": "2sz8zmIHAozo",
        "outputId": "e8409f60-051d-412b-ea74-a176b9d7dffb"
      },
      "outputs": [
        {
          "name": "stdout",
          "output_type": "stream",
          "text": [
            "My name is  Name and my age is  19\n"
          ]
        }
      ],
      "source": [
        "def my_function(name,age):\n",
        "  print(\"My name is \" , name , \"and my age is \" ,age)\n",
        "my_function(\"Name\",19)"
      ]
    },
    {
      "cell_type": "code",
      "execution_count": null,
      "metadata": {
        "colab": {
          "base_uri": "https://localhost:8080/"
        },
        "id": "wo2s5WrSA4OQ",
        "outputId": "102c636e-0797-4d9d-f8d7-4be51cddf06e"
      },
      "outputs": [
        {
          "name": "stdout",
          "output_type": "stream",
          "text": [
            "My name is  Name and my age is  20\n"
          ]
        }
      ],
      "source": [
        "def my_function(name=\"name1\",age=20):\n",
        "  print(\"My name is \" , name , \"and my age is \" ,age)\n",
        "my_function(\"Name\")"
      ]
    },
    {
      "cell_type": "code",
      "execution_count": null,
      "metadata": {
        "id": "HFumQ-MXBCPf"
      },
      "outputs": [],
      "source": []
    },
    {
      "cell_type": "markdown",
      "metadata": {
        "id": "g3FTSKRdCILm"
      },
      "source": [
        "# Keyword Argument"
      ]
    },
    {
      "cell_type": "code",
      "execution_count": null,
      "metadata": {
        "colab": {
          "base_uri": "https://localhost:8080/"
        },
        "id": "dzuiN9rZCKch",
        "outputId": "0b0ab8e1-bd9d-4459-fcb3-c0fb27dc9cd3"
      },
      "outputs": [
        {
          "name": "stdout",
          "output_type": "stream",
          "text": [
            "My name is  22 and my age is  20\n"
          ]
        }
      ],
      "source": [
        "def my_function(name=\"name1\",age=20):\n",
        "  print(\"My name is \" , name , \"and my age is \" ,age)\n",
        "my_function(22)"
      ]
    },
    {
      "cell_type": "code",
      "execution_count": null,
      "metadata": {
        "colab": {
          "base_uri": "https://localhost:8080/"
        },
        "id": "oh344ykuCM38",
        "outputId": "ebd78a8e-bc3e-49d6-b93c-986a0a911bbc"
      },
      "outputs": [
        {
          "name": "stdout",
          "output_type": "stream",
          "text": [
            "My name is  None and my age is  21\n"
          ]
        }
      ],
      "source": [
        "def my_function(name=\"name1\",age=20):\n",
        "  print(\"My name is \" , name , \"and my age is \" ,age)\n",
        "my_function(None,21)"
      ]
    },
    {
      "cell_type": "code",
      "execution_count": null,
      "metadata": {
        "colab": {
          "base_uri": "https://localhost:8080/"
        },
        "id": "NIOuUeOwCQYO",
        "outputId": "0933da68-22c8-43f9-f199-9f1f94fe48df"
      },
      "outputs": [
        {
          "name": "stdout",
          "output_type": "stream",
          "text": [
            "My name is  name2 and my age is  22\n"
          ]
        }
      ],
      "source": [
        "def my_function(name=\"name1\",age=20):\n",
        "  print(\"My name is \" , name , \"and my age is \" ,age)\n",
        "my_function(age=22,name=\"name2\")"
      ]
    },
    {
      "cell_type": "code",
      "execution_count": null,
      "metadata": {
        "id": "ZAuLHRJrCTUn"
      },
      "outputs": [],
      "source": []
    },
    {
      "cell_type": "markdown",
      "metadata": {
        "id": "1g_eL5xHC832"
      },
      "source": [
        "# Infinte Arguments"
      ]
    },
    {
      "cell_type": "code",
      "execution_count": null,
      "metadata": {
        "colab": {
          "base_uri": "https://localhost:8080/"
        },
        "id": "kbS9-VZvC-7w",
        "outputId": "f4d9076e-b615-4592-9474-5c1b5b58c0f6"
      },
      "outputs": [
        {
          "name": "stdout",
          "output_type": "stream",
          "text": [
            "this person is  name1\n",
            "this person is  name2\n",
            "this person is  name3\n",
            "this person is  name4\n"
          ]
        }
      ],
      "source": [
        "def print_people(*people):\n",
        "  for person in people:\n",
        "    print(\"this person is \",person)\n",
        "\n",
        "print_people(\"name1\",\"name2\",\"name3\",\"name4\")"
      ]
    },
    {
      "cell_type": "code",
      "execution_count": null,
      "metadata": {
        "id": "4h-hDAnyDMJV"
      },
      "outputs": [],
      "source": []
    },
    {
      "cell_type": "markdown",
      "metadata": {
        "id": "Ej3B9SBoDv6L"
      },
      "source": [
        "# Return values"
      ]
    },
    {
      "cell_type": "code",
      "execution_count": null,
      "metadata": {
        "colab": {
          "base_uri": "https://localhost:8080/"
        },
        "id": "5pEPZSO1DxvB",
        "outputId": "b299b215-f638-4fb0-8953-dc04de003f17"
      },
      "outputs": [
        {
          "name": "stdout",
          "output_type": "stream",
          "text": [
            "the first sum is 4\n",
            "the second sum is 8\n"
          ]
        }
      ],
      "source": [
        "def do_math(num1,num2):\n",
        "  return num1 + num2\n",
        "math1=do_math(2,2)\n",
        "print(\"the first sum is\",math1)\n",
        "math2=do_math(3,5)\n",
        "print(\"the second sum is\",math2)\n"
      ]
    },
    {
      "cell_type": "code",
      "execution_count": null,
      "metadata": {
        "id": "lPYEJB83D3Cq"
      },
      "outputs": [],
      "source": [
        "\n"
      ]
    },
    {
      "cell_type": "markdown",
      "metadata": {
        "id": "dJbl46hYE2rT"
      },
      "source": [
        "# If else Statements"
      ]
    },
    {
      "cell_type": "code",
      "execution_count": null,
      "metadata": {
        "colab": {
          "base_uri": "https://localhost:8080/"
        },
        "id": "KKp8xj7hE4iG",
        "outputId": "4e2cd10e-7b93-4cc7-fd95-72bc81b68643"
      },
      "outputs": [
        {
          "name": "stdout",
          "output_type": "stream",
          "text": [
            "it is false\n"
          ]
        }
      ],
      "source": [
        "check =False\n",
        "if check==False:\n",
        "  print(\"it is false\")"
      ]
    },
    {
      "cell_type": "code",
      "execution_count": null,
      "metadata": {
        "colab": {
          "base_uri": "https://localhost:8080/"
        },
        "id": "eNfErlk8E8US",
        "outputId": "449a9890-2c1b-4018-f1c7-03a4f39e40fb"
      },
      "outputs": [
        {
          "name": "stdout",
          "output_type": "stream",
          "text": [
            "it is True\n"
          ]
        }
      ],
      "source": [
        "check =True\n",
        "if check==False:\n",
        "  print(\"it is False\")\n",
        "else:\n",
        "  print(\"it is True\")"
      ]
    },
    {
      "cell_type": "code",
      "execution_count": null,
      "metadata": {
        "colab": {
          "base_uri": "https://localhost:8080/"
        },
        "id": "x_zLRS0zFB3r",
        "outputId": "d73f2a31-3481-4062-a422-b515ee55dff1"
      },
      "outputs": [
        {
          "name": "stdout",
          "output_type": "stream",
          "text": [
            "it is yes\n"
          ]
        }
      ],
      "source": [
        "check =\"yes\"\n",
        "if check==False:\n",
        "  print(\"it is False\")\n",
        "elif check==\"yes\":\n",
        "  print(\"it is yes\")\n",
        "else:\n",
        "  print(\"it is True\")"
      ]
    },
    {
      "cell_type": "code",
      "execution_count": null,
      "metadata": {
        "id": "AxhIfwN5FJQe"
      },
      "outputs": [],
      "source": []
    },
    {
      "cell_type": "markdown",
      "metadata": {
        "id": "T-0CgE9pFnrs"
      },
      "source": [
        "# For and While Loop"
      ]
    },
    {
      "cell_type": "code",
      "execution_count": null,
      "metadata": {
        "colab": {
          "base_uri": "https://localhost:8080/"
        },
        "id": "BNaK1sgiFpwO",
        "outputId": "0ca703cf-9efa-40bf-d9bb-587fda301116"
      },
      "outputs": [
        {
          "name": "stdout",
          "output_type": "stream",
          "text": [
            "1\n",
            "2\n",
            "3\n",
            "4\n",
            "5\n",
            "6\n",
            "The name is  name1\n",
            "The name is  name2\n",
            "The name is  name3\n"
          ]
        }
      ],
      "source": [
        "numbers=[1,2,3,4,5,6]\n",
        "for item in numbers:\n",
        "  print(item)\n",
        "name=[\"name1\",\"name2\",\"name3\"]\n",
        "for item in name:\n",
        "  print(\"The name is \",item)"
      ]
    },
    {
      "cell_type": "code",
      "execution_count": null,
      "metadata": {
        "colab": {
          "background_save": true,
          "base_uri": "https://localhost:8080/"
        },
        "id": "keq2fH4NFtiy",
        "outputId": "09819893-67da-4104-c268-072b2d34e53d"
      },
      "outputs": [
        {
          "name": "stdout",
          "output_type": "stream",
          "text": [
            "1\n",
            "2\n",
            "3\n",
            "4\n",
            "5\n",
            "6\n",
            "7\n",
            "8\n",
            "9\n"
          ]
        }
      ],
      "source": [
        "run = True\n",
        "current = 1\n",
        "while run:\n",
        "  if(current==10):\n",
        "    run == False\n",
        "  else:\n",
        "    print(current)\n",
        "    current +=1\n"
      ]
    },
    {
      "cell_type": "code",
      "execution_count": null,
      "metadata": {
        "id": "2av3E0YoGZmk"
      },
      "outputs": [],
      "source": []
    },
    {
      "cell_type": "markdown",
      "metadata": {
        "id": "6GUeB-g8HsD2"
      },
      "source": [
        "#  Importing Modules in Python"
      ]
    },
    {
      "cell_type": "code",
      "execution_count": null,
      "metadata": {
        "id": "RNvwvNdIHuwk"
      },
      "outputs": [],
      "source": [
        "import re"
      ]
    },
    {
      "cell_type": "code",
      "execution_count": null,
      "metadata": {
        "id": "k8OudPOUHwHb"
      },
      "outputs": [],
      "source": [
        "\n",
        "string = \"'Ahmad said',Im going to Lahore\"\n",
        "new = re.sub('[A-Z]','',string)\n",
        "print(new)\n"
      ]
    },
    {
      "cell_type": "code",
      "execution_count": null,
      "metadata": {
        "id": "kt9yK5riH3HX"
      },
      "outputs": [],
      "source": [
        "string = \"'Ahmad said',Im going to Lahore\"\n",
        "new = re.sub('[a-z]','',string)\n",
        "print(new)"
      ]
    },
    {
      "cell_type": "code",
      "execution_count": null,
      "metadata": {
        "id": "sZ_RN8VXIXFm"
      },
      "outputs": [],
      "source": [
        "string = \"'Ahmad said',Im going to Lahore\"\n",
        "new = re.sub('[.,\\']','',string)\n",
        "print(new)"
      ]
    },
    {
      "cell_type": "code",
      "execution_count": null,
      "metadata": {
        "id": "uAX8I6tCIavk"
      },
      "outputs": [],
      "source": [
        "string = \"'Ahmad said',Im going to Lahore\"\n",
        "new = re.sub('[.,\\'a-z]','',string)\n",
        "print(new)"
      ]
    },
    {
      "cell_type": "code",
      "execution_count": null,
      "metadata": {
        "id": "qrlT4fnUIlKQ"
      },
      "outputs": [],
      "source": [
        "string = \"'Ahmad said',Im going to Lahore\"\n",
        "new = re.sub('[.,\\'a-zA-Z]','',string)\n",
        "print(new)"
      ]
    },
    {
      "cell_type": "code",
      "execution_count": null,
      "metadata": {
        "id": "NP3tjYTUIsI0"
      },
      "outputs": [],
      "source": [
        "string = \"'Ahmad said',Im going to Lahore\"\n",
        "new = re.sub('[.,\\'A-Z]','',string)\n",
        "print(new)"
      ]
    },
    {
      "cell_type": "code",
      "execution_count": null,
      "metadata": {
        "id": "qsBLd51hIxqQ"
      },
      "outputs": [],
      "source": []
    }
  ],
  "metadata": {
    "colab": {
      "toc_visible": true,
      "provenance": [],
      "authorship_tag": "ABX9TyPL6kqOwSSJ0nk4DLcKCojT",
      "include_colab_link": true
    },
    "kernelspec": {
      "display_name": "Python 3",
      "name": "python3"
    },
    "language_info": {
      "name": "python"
    }
  },
  "nbformat": 4,
  "nbformat_minor": 0
}
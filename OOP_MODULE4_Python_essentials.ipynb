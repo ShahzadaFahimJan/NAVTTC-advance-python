{
  "cells": [
    {
      "cell_type": "markdown",
      "metadata": {
        "id": "view-in-github",
        "colab_type": "text"
      },
      "source": [
        "<a href=\"https://colab.research.google.com/github/ShahzadaFahimJan/NAVTTC-advance-python/blob/main/OOP_MODULE4_Python_essentials.ipynb\" target=\"_parent\"><img src=\"https://colab.research.google.com/assets/colab-badge.svg\" alt=\"Open In Colab\"/></a>"
      ]
    },
    {
      "cell_type": "code",
      "execution_count": null,
      "metadata": {
        "colab": {
          "base_uri": "https://localhost:8080/"
        },
        "id": "sCnnnnjU0vm6",
        "outputId": "a8d05d00-002a-4202-e3c1-61c9eba80236"
      },
      "outputs": [
        {
          "name": "stdout",
          "output_type": "stream",
          "text": [
            "0\n",
            "1\n",
            "2\n",
            "3\n",
            "4\n"
          ]
        }
      ],
      "source": [
        "for i in range(5):\n",
        "    print(i)\n"
      ]
    },
    {
      "cell_type": "code",
      "execution_count": null,
      "metadata": {
        "colab": {
          "base_uri": "https://localhost:8080/"
        },
        "id": "tCXu7G3A02lJ",
        "outputId": "459c68e5-062f-49c6-d625-5cbf10ca8c99"
      },
      "outputs": [
        {
          "name": "stdout",
          "output_type": "stream",
          "text": [
            "__init__\n",
            "__iter__\n",
            "__next__\n",
            "1\n",
            "__next__\n",
            "1\n",
            "__next__\n",
            "2\n",
            "__next__\n",
            "3\n",
            "__next__\n",
            "5\n",
            "__next__\n",
            "8\n",
            "__next__\n",
            "13\n",
            "__next__\n",
            "21\n",
            "__next__\n",
            "34\n",
            "__next__\n",
            "55\n",
            "__next__\n"
          ]
        }
      ],
      "source": [
        "class Fib:\n",
        "    def __init__(self, nn):\n",
        "        print(\"__init__\")\n",
        "        self.__n = nn\n",
        "        self.__i = 0\n",
        "        self.__p1 = self.__p2 = 1\n",
        "\n",
        "    def __iter__(self):\n",
        "        print(\"__iter__\")\n",
        "        return self\n",
        "\n",
        "    def __next__(self):\n",
        "        print(\"__next__\")\n",
        "        self.__i += 1\n",
        "        if self.__i > self.__n:\n",
        "            raise StopIteration\n",
        "        if self.__i in [1, 2]:\n",
        "            return 1\n",
        "        ret = self.__p1 + self.__p2\n",
        "        self.__p1, self.__p2 = self.__p2, ret\n",
        "        return ret\n",
        "\n",
        "\n",
        "for i in Fib(10):\n",
        "    print(i)\n"
      ]
    },
    {
      "cell_type": "code",
      "execution_count": null,
      "metadata": {
        "id": "KWsYVkvQey66"
      },
      "outputs": [],
      "source": []
    },
    {
      "cell_type": "markdown",
      "metadata": {
        "id": "eT8J1Hg4expa"
      },
      "source": [
        "Write a class PrimeIterator that generates the first n prime numbers using the iterator protocol (__iter__() and __next__() methods)."
      ]
    },
    {
      "cell_type": "code",
      "execution_count": null,
      "metadata": {
        "colab": {
          "base_uri": "https://localhost:8080/"
        },
        "id": "YKL7fyexexQ_",
        "outputId": "73a965d8-ce7c-446e-a0c5-76dea207874b"
      },
      "outputs": [
        {
          "name": "stdout",
          "output_type": "stream",
          "text": [
            "2\n",
            "3\n",
            "5\n",
            "7\n",
            "11\n"
          ]
        }
      ],
      "source": [
        "class PrimeIterator:\n",
        "    def __init__(self, n):\n",
        "        self.__n = n\n",
        "        self.__i = 0\n",
        "        self.__current = 1\n",
        "\n",
        "    def __iter__(self):\n",
        "        return self\n",
        "\n",
        "    def __next__(self):\n",
        "        self.__current += 1\n",
        "        while not self.__is_prime(self.__current):\n",
        "            self.__current += 1\n",
        "\n",
        "        self.__i += 1\n",
        "        if self.__i > self.__n:\n",
        "            raise StopIteration\n",
        "\n",
        "        return self.__current\n",
        "\n",
        "    def __is_prime(self, num):\n",
        "        if num < 2:\n",
        "            return False\n",
        "        for i in range(2, int(num ** 0.5) + 1):\n",
        "            if num % i == 0:\n",
        "                return False\n",
        "        return True\n",
        "\n",
        "# Using PrimeIterator to generate the first 5 primes\n",
        "for prime in PrimeIterator(5):\n",
        "    print(prime)\n",
        "\n"
      ]
    },
    {
      "cell_type": "markdown",
      "metadata": {
        "id": "sVgIGFmSfhyb"
      },
      "source": [
        "Write a class ReverseString that takes a string and iterates through it in reverse using the iterator protocol"
      ]
    },
    {
      "cell_type": "code",
      "execution_count": null,
      "metadata": {
        "colab": {
          "base_uri": "https://localhost:8080/"
        },
        "id": "yWuxb4m7fjjO",
        "outputId": "997f8ef2-0681-4ba9-c2b8-9003f0892cee"
      },
      "outputs": [
        {
          "name": "stdout",
          "output_type": "stream",
          "text": [
            "o l l e H "
          ]
        }
      ],
      "source": [
        "class ReverseString:\n",
        "    def __init__(self, string):\n",
        "        self.__string = string\n",
        "        self.__i = len(string)\n",
        "\n",
        "    def __iter__(self):\n",
        "        return self\n",
        "\n",
        "    def __next__(self):\n",
        "        if self.__i == 0:\n",
        "            raise StopIteration\n",
        "        self.__i -= 1\n",
        "        return self.__string[self.__i]\n",
        "\n",
        "\n",
        "reversed_string = ReverseString(\"Hello\")\n",
        "for char in reversed_string:\n",
        "    print(char, end=\" \")\n",
        "\n",
        "\n"
      ]
    },
    {
      "cell_type": "code",
      "execution_count": null,
      "metadata": {
        "colab": {
          "base_uri": "https://localhost:8080/"
        },
        "id": "pUXbm5tp05XD",
        "outputId": "53ce8bd8-a756-40f0-a83c-17a6bac9b4d6"
      },
      "outputs": [
        {
          "name": "stdout",
          "output_type": "stream",
          "text": [
            "Class iter\n",
            "1\n",
            "1\n",
            "2\n",
            "3\n",
            "5\n",
            "8\n",
            "13\n",
            "21\n"
          ]
        }
      ],
      "source": [
        "class Fib:\n",
        "    def __init__(self, nn):\n",
        "        self.__n = nn\n",
        "        self.__i = 0\n",
        "        self.__p1 = self.__p2 = 1\n",
        "\n",
        "    def __iter__(self):\n",
        "        print(\"Fib iter\")\n",
        "        return self\n",
        "\n",
        "    def __next__(self):\n",
        "        self.__i += 1\n",
        "        if self.__i > self.__n:\n",
        "            raise StopIteration\n",
        "        if self.__i in [1, 2]:\n",
        "            return 1\n",
        "        ret = self.__p1 + self.__p2\n",
        "        self.__p1, self.__p2 = self.__p2, ret\n",
        "        return ret\n",
        "\n",
        "class Class:\n",
        "    def __init__(self, n):\n",
        "        self.__iter = Fib(n)\n",
        "\n",
        "    def __iter__(self):\n",
        "        print(\"Class iter\")\n",
        "        return self.__iter;\n",
        "\n",
        "\n",
        "object = Class(8)\n",
        "\n",
        "for i in object:\n",
        "    print(i)\n"
      ]
    },
    {
      "cell_type": "code",
      "execution_count": null,
      "metadata": {
        "colab": {
          "base_uri": "https://localhost:8080/",
          "height": 211
        },
        "id": "4DoNOYh24n-0",
        "outputId": "8953e2d9-57a1-4d32-d221-baf82407c232"
      },
      "outputs": [
        {
          "name": "stdout",
          "output_type": "stream",
          "text": [
            "0\n"
          ]
        },
        {
          "ename": "TypeError",
          "evalue": "'int' object is not iterable",
          "output_type": "error",
          "traceback": [
            "\u001b[0;31m---------------------------------------------------------------------------\u001b[0m",
            "\u001b[0;31mTypeError\u001b[0m                                 Traceback (most recent call last)",
            "\u001b[0;32m<ipython-input-4-02b48096052c>\u001b[0m in \u001b[0;36m<cell line: 5>\u001b[0;34m()\u001b[0m\n\u001b[1;32m      3\u001b[0m         \u001b[0;32mreturn\u001b[0m \u001b[0mi\u001b[0m\u001b[0;34m\u001b[0m\u001b[0;34m\u001b[0m\u001b[0m\n\u001b[1;32m      4\u001b[0m \u001b[0mprint\u001b[0m\u001b[0;34m(\u001b[0m\u001b[0mfun\u001b[0m\u001b[0;34m(\u001b[0m\u001b[0;36m10\u001b[0m\u001b[0;34m)\u001b[0m\u001b[0;34m)\u001b[0m\u001b[0;34m\u001b[0m\u001b[0;34m\u001b[0m\u001b[0m\n\u001b[0;32m----> 5\u001b[0;31m \u001b[0;32mfor\u001b[0m \u001b[0mv\u001b[0m \u001b[0;32min\u001b[0m \u001b[0mfun\u001b[0m\u001b[0;34m(\u001b[0m\u001b[0;36m5\u001b[0m\u001b[0;34m)\u001b[0m\u001b[0;34m:\u001b[0m\u001b[0;34m\u001b[0m\u001b[0;34m\u001b[0m\u001b[0m\n\u001b[0m\u001b[1;32m      6\u001b[0m     \u001b[0mprint\u001b[0m\u001b[0;34m(\u001b[0m\u001b[0mv\u001b[0m\u001b[0;34m)\u001b[0m\u001b[0;34m\u001b[0m\u001b[0;34m\u001b[0m\u001b[0m\n",
            "\u001b[0;31mTypeError\u001b[0m: 'int' object is not iterable"
          ]
        }
      ],
      "source": [
        "def fun(n):\n",
        "    for i in range(n):\n",
        "        return i\n",
        "print(fun(10))\n",
        "for v in fun(5):\n",
        "    print(v)"
      ]
    },
    {
      "cell_type": "code",
      "execution_count": null,
      "metadata": {
        "colab": {
          "base_uri": "https://localhost:8080/"
        },
        "id": "BK8csBwN0_CM",
        "outputId": "8ca32b31-3b1b-4682-e062-bf9f64948a11"
      },
      "outputs": [
        {
          "name": "stdout",
          "output_type": "stream",
          "text": [
            "0\n",
            "1\n",
            "2\n",
            "3\n",
            "4\n"
          ]
        }
      ],
      "source": [
        "def fun(n):\n",
        "    for i in range(n):\n",
        "        yield i\n",
        "\n",
        "\n",
        "for v in fun(5):\n",
        "    print(v)\n",
        "\n"
      ]
    },
    {
      "cell_type": "code",
      "execution_count": null,
      "metadata": {
        "colab": {
          "base_uri": "https://localhost:8080/"
        },
        "id": "RJ_o4Eex1KgW",
        "outputId": "2744b532-c4b8-4593-9b8f-3f9f77442021"
      },
      "outputs": [
        {
          "name": "stdout",
          "output_type": "stream",
          "text": [
            "1\n",
            "2\n",
            "4\n",
            "8\n",
            "16\n",
            "32\n",
            "64\n",
            "128\n"
          ]
        }
      ],
      "source": [
        "def powers_of_2(n):\n",
        "    power = 1\n",
        "    for i in range(n):\n",
        "        yield power\n",
        "        power *= 2\n",
        "\n",
        "\n",
        "for v in powers_of_2(8):\n",
        "    print(v)"
      ]
    },
    {
      "cell_type": "code",
      "execution_count": null,
      "metadata": {
        "colab": {
          "base_uri": "https://localhost:8080/"
        },
        "id": "8igDHoFHqR2w",
        "outputId": "5f185d61-705b-441f-afe8-86cd75e523b1"
      },
      "outputs": [
        {
          "name": "stdout",
          "output_type": "stream",
          "text": [
            "[1, 2, 4, 8, 16]\n"
          ]
        }
      ],
      "source": [
        "def powers_of_2(n):\n",
        "    power = 1\n",
        "    for i in range(n):\n",
        "        yield power\n",
        "        power *= 2\n",
        "\n",
        "\n",
        "t = [x for x in powers_of_2(5)]\n",
        "print(t)"
      ]
    },
    {
      "cell_type": "code",
      "execution_count": null,
      "metadata": {
        "colab": {
          "base_uri": "https://localhost:8080/"
        },
        "id": "4zMzFv72q2B9",
        "outputId": "43f564bc-9191-4fb4-a7ad-0ff42a63adfa"
      },
      "outputs": [
        {
          "name": "stdout",
          "output_type": "stream",
          "text": [
            "[1, 2, 4]\n"
          ]
        }
      ],
      "source": [
        "def powers_of_2(n):\n",
        "    power = 1\n",
        "    for i in range(n):\n",
        "        yield power\n",
        "        power *= 2\n",
        "\n",
        "\n",
        "t = list(powers_of_2(3))\n",
        "print(t)"
      ]
    },
    {
      "cell_type": "code",
      "execution_count": null,
      "metadata": {
        "colab": {
          "base_uri": "https://localhost:8080/"
        },
        "id": "lZCBMpIDrQTN",
        "outputId": "85b2ebec-6fd4-4042-aea2-a4798aa9777e"
      },
      "outputs": [
        {
          "name": "stdout",
          "output_type": "stream",
          "text": [
            "1\n",
            "2\n",
            "4\n",
            "8\n"
          ]
        }
      ],
      "source": [
        "def powers_of_2(n):\n",
        "    power = 1\n",
        "    for i in range(n):\n",
        "        yield power\n",
        "        power *= 2\n",
        "\n",
        "\n",
        "for i in range(20):\n",
        "    if i in powers_of_2(4):\n",
        "        print(i)\n"
      ]
    },
    {
      "cell_type": "code",
      "execution_count": null,
      "metadata": {
        "colab": {
          "base_uri": "https://localhost:8080/"
        },
        "id": "QS_bn4EvrYNN",
        "outputId": "4377ba22-c253-413b-dfcc-1ab98daa7f82"
      },
      "outputs": [
        {
          "name": "stdout",
          "output_type": "stream",
          "text": [
            "[1, 1, 2, 3, 5, 8, 13, 21, 34, 55]\n"
          ]
        }
      ],
      "source": [
        "def fibonacci(n):\n",
        "    p = pp = 1\n",
        "    for i in range(n):\n",
        "        if i in [0, 1]:\n",
        "            yield 1\n",
        "        else:\n",
        "            n = p + pp\n",
        "            pp, p = p, n\n",
        "            yield n\n",
        "\n",
        "fibs = list(fibonacci(10))\n",
        "print(fibs)\n",
        "\n"
      ]
    },
    {
      "cell_type": "code",
      "execution_count": null,
      "metadata": {
        "colab": {
          "base_uri": "https://localhost:8080/"
        },
        "id": "PfW2jvI2rhMg",
        "outputId": "8286fc0a-43a8-4bef-82b6-acb98fd9d4fd"
      },
      "outputs": [
        {
          "name": "stdout",
          "output_type": "stream",
          "text": [
            "[1, 10, 100, 1000, 10000, 100000]\n",
            "[1, 10, 100, 1000, 10000, 100000]\n"
          ]
        }
      ],
      "source": [
        "list_1 = []\n",
        "\n",
        "for ex in range(6):\n",
        "    list_1.append(10 ** ex)\n",
        "\n",
        "list_2 = [10 ** ex for ex in range(6)]\n",
        "\n",
        "print(list_1)\n",
        "print(list_2)\n"
      ]
    },
    {
      "cell_type": "markdown",
      "metadata": {
        "id": "jxzP2CMJliau"
      },
      "source": [
        "Create an empty list called squares.\n",
        "Use a for loop to calculate the squares of numbers from 0 to 9 and append them to the squares list.\n",
        "\n",
        "\n",
        "Using List Comprehension:\n",
        "\n",
        "Create a new list called squares_comprehension that uses list comprehension to achieve the same result."
      ]
    },
    {
      "cell_type": "code",
      "execution_count": null,
      "metadata": {
        "colab": {
          "base_uri": "https://localhost:8080/"
        },
        "id": "LpVXKSCTlwXj",
        "outputId": "4819de9b-63ec-433a-cf9d-d08626d115e2"
      },
      "outputs": [
        {
          "name": "stdout",
          "output_type": "stream",
          "text": [
            "Squares using for loop: [0, 1, 4, 9, 16, 25, 36, 49, 64, 81]\n",
            "Squares using list comprehension: [0, 1, 4, 9, 16, 25, 36, 49, 64, 81]\n"
          ]
        }
      ],
      "source": [
        "# Using a for loop\n",
        "squares = []\n",
        "for i in range(10):\n",
        "    squares.append(i ** 2)\n",
        "\n",
        "print(\"Squares using for loop:\", squares)\n",
        "\n",
        "# Using list comprehension\n",
        "squares_comprehension = [i ** 2 for i in range(10)]\n",
        "\n",
        "print(\"Squares using list comprehension:\", squares_comprehension)\n"
      ]
    },
    {
      "cell_type": "code",
      "execution_count": null,
      "metadata": {
        "colab": {
          "base_uri": "https://localhost:8080/"
        },
        "id": "QP9qgkT7r0Ol",
        "outputId": "0850e0a2-b765-498e-86d4-2838447fed55"
      },
      "outputs": [
        {
          "name": "stdout",
          "output_type": "stream",
          "text": [
            "[1, 0, 1, 0, 1, 0, 1, 0, 1, 0]\n"
          ]
        }
      ],
      "source": [
        "the_list = []\n",
        "\n",
        "for x in range(10):\n",
        "    the_list.append(1 if x % 2 == 0 else 0)\n",
        "\n",
        "print(the_list)"
      ]
    },
    {
      "cell_type": "code",
      "execution_count": null,
      "metadata": {
        "colab": {
          "base_uri": "https://localhost:8080/"
        },
        "id": "sQsISTYdsr-D",
        "outputId": "3ba1e2fe-57df-480d-ff0d-96f5295919ba"
      },
      "outputs": [
        {
          "name": "stdout",
          "output_type": "stream",
          "text": [
            "[1, 0, 1, 0, 1, 0, 1, 0, 1, 0]\n"
          ]
        }
      ],
      "source": [
        "the_list = [1 if x % 2 == 0 else 0 for x in range(10)]\n",
        "\n",
        "print(the_list) # list comprehension"
      ]
    },
    {
      "cell_type": "code",
      "execution_count": null,
      "metadata": {
        "colab": {
          "base_uri": "https://localhost:8080/"
        },
        "id": "ve6E_7Tv8aZ6",
        "outputId": "5e2087bc-00ca-44fa-e606-5f9f3e15499a"
      },
      "outputs": [
        {
          "name": "stdout",
          "output_type": "stream",
          "text": [
            "1 0 1 0 1 0 1 0 1 0 \n",
            "1 0 1 0 1 0 1 0 1 0 \n"
          ]
        }
      ],
      "source": [
        "the_list = [1 if x % 2 == 0 else 0 for x in range(10)]\n",
        "the_generator = (1 if x % 2 == 0 else 0 for x in range(10))\n",
        "\n",
        "for v in the_list:\n",
        "    print(v, end=\" \")\n",
        "print()\n",
        "\n",
        "for v in the_generator:\n",
        "    print(v, end=\" \")\n",
        "print()\n",
        "\n"
      ]
    },
    {
      "cell_type": "code",
      "execution_count": null,
      "metadata": {
        "colab": {
          "base_uri": "https://localhost:8080/",
          "height": 228
        },
        "id": "4l_Thg6S8uE3",
        "outputId": "0ab60cde-a670-44cf-f5f5-567189d2085d"
      },
      "outputs": [
        {
          "name": "stdout",
          "output_type": "stream",
          "text": [
            "1 0 1 0 1 0 1 0 1 0 \n",
            "1 0 1 0 1 0 1 0 1 0 \n",
            "10\n"
          ]
        },
        {
          "ename": "TypeError",
          "evalue": "object of type 'generator' has no len()",
          "output_type": "error",
          "traceback": [
            "\u001b[0;31m---------------------------------------------------------------------------\u001b[0m",
            "\u001b[0;31mTypeError\u001b[0m                                 Traceback (most recent call last)",
            "\u001b[0;32m<ipython-input-5-7972d8f8d136>\u001b[0m in \u001b[0;36m<cell line: 12>\u001b[0;34m()\u001b[0m\n\u001b[1;32m     10\u001b[0m \u001b[0mprint\u001b[0m\u001b[0;34m(\u001b[0m\u001b[0;34m)\u001b[0m\u001b[0;34m\u001b[0m\u001b[0;34m\u001b[0m\u001b[0m\n\u001b[1;32m     11\u001b[0m \u001b[0mprint\u001b[0m\u001b[0;34m(\u001b[0m\u001b[0mlen\u001b[0m\u001b[0;34m(\u001b[0m\u001b[0mthe_list\u001b[0m\u001b[0;34m)\u001b[0m\u001b[0;34m)\u001b[0m\u001b[0;34m\u001b[0m\u001b[0;34m\u001b[0m\u001b[0m\n\u001b[0;32m---> 12\u001b[0;31m \u001b[0mprint\u001b[0m\u001b[0;34m(\u001b[0m\u001b[0mlen\u001b[0m\u001b[0;34m(\u001b[0m\u001b[0mthe_generator\u001b[0m\u001b[0;34m)\u001b[0m\u001b[0;34m)\u001b[0m\u001b[0;34m\u001b[0m\u001b[0;34m\u001b[0m\u001b[0m\n\u001b[0m",
            "\u001b[0;31mTypeError\u001b[0m: object of type 'generator' has no len()"
          ]
        }
      ],
      "source": [
        "the_list = [1 if x % 2 == 0 else 0 for x in range(10)]\n",
        "the_generator = (1 if x % 2 == 0 else 0 for x in range(10))\n",
        "\n",
        "for v in the_list:\n",
        "    print(v, end=\" \")\n",
        "print()\n",
        "\n",
        "for v in the_generator:\n",
        "    print(v, end=\" \")\n",
        "print()\n",
        "print(len(the_list))\n",
        "print(len(the_generator))"
      ]
    },
    {
      "cell_type": "code",
      "execution_count": null,
      "metadata": {
        "colab": {
          "base_uri": "https://localhost:8080/"
        },
        "id": "zAZywmEAmqPB",
        "outputId": "d1e758ad-ce15-4382-8733-458190480c37"
      },
      "outputs": [
        {
          "name": "stdout",
          "output_type": "stream",
          "text": [
            "1 0 1 0 1 0 1 0 1 0 \n",
            "1 0 1 0 1 0 1 0 1 0 \n"
          ]
        }
      ],
      "source": [
        "for v in [1 if x % 2 == 0 else 0 for x in range(10)]:\n",
        "    print(v, end=\" \")\n",
        "print()\n",
        "\n",
        "for v in (1 if x % 2 == 0 else 0 for x in range(10)):\n",
        "    print(v, end=\" \")\n",
        "print()\n",
        "\n"
      ]
    },
    {
      "cell_type": "code",
      "execution_count": null,
      "metadata": {
        "colab": {
          "base_uri": "https://localhost:8080/"
        },
        "id": "WOJkG0Vj9KS7",
        "outputId": "5304139e-e0d5-47c3-b9d9-6a7f4d27b6d4"
      },
      "outputs": [
        {
          "name": "stdout",
          "output_type": "stream",
          "text": [
            "4 4\n",
            "1 1\n",
            "0 0\n",
            "1 1\n",
            "4 4\n"
          ]
        }
      ],
      "source": [
        "two = lambda: 2\n",
        "sqr = lambda x: x * x\n",
        "pwr = lambda x, y: x ** y\n",
        "\n",
        "for a in range(-2, 3):\n",
        "    print(sqr(a), end=\" \")\n",
        "    print(pwr(a, two()))\n",
        "\n"
      ]
    },
    {
      "cell_type": "code",
      "execution_count": null,
      "metadata": {
        "colab": {
          "base_uri": "https://localhost:8080/"
        },
        "id": "dzoGZPWB99zw",
        "outputId": "60bd2e00-71cd-45e7-beb4-e2373fe6b015"
      },
      "outputs": [
        {
          "name": "stdout",
          "output_type": "stream",
          "text": [
            "f(-2)=18\n",
            "f(-1)=8\n",
            "f(0)=2\n",
            "f(1)=0\n",
            "f(2)=2\n"
          ]
        }
      ],
      "source": [
        "def print_function(args, fun):\n",
        "    for x in args:\n",
        "        print('f(', x,')=', fun(x), sep='')\n",
        "\n",
        "\n",
        "def poly(x):\n",
        "    return 2 * x**2 - 4 * x + 2\n",
        "\n",
        "\n",
        "print_function([x for x in range(-2, 3)], poly)"
      ]
    },
    {
      "cell_type": "code",
      "execution_count": null,
      "metadata": {
        "colab": {
          "base_uri": "https://localhost:8080/"
        },
        "id": "FxrAE0x1_4t0",
        "outputId": "28400329-0221-465c-f878-66776a1ac49a"
      },
      "outputs": [
        {
          "name": "stdout",
          "output_type": "stream",
          "text": [
            "f(-2)=18\n",
            "f(-1)=8\n",
            "f(0)=2\n",
            "f(1)=0\n",
            "f(2)=2\n"
          ]
        }
      ],
      "source": [
        "def print_function(args, fun):\n",
        "    for x in args:\n",
        "        print('f(', x,')=', fun(x), sep='')\n",
        "\n",
        "print_function([x for x in range(-2, 3)], lambda x: 2 * x**2 - 4 * x + 2)\n",
        "\n"
      ]
    },
    {
      "cell_type": "code",
      "execution_count": null,
      "metadata": {
        "colab": {
          "base_uri": "https://localhost:8080/"
        },
        "id": "asiZyxUp_8H8",
        "outputId": "f849e8a2-d05d-4589-ed4e-13a7d9c9a1cd"
      },
      "outputs": [
        {
          "name": "stdout",
          "output_type": "stream",
          "text": [
            "[1, 2, 4, 8, 16]\n",
            "1 4 16 64 256 \n"
          ]
        }
      ],
      "source": [
        "list_1 = [x for x in range(5)]\n",
        "list_2 = list(map(lambda x: 2 ** x, list_1))\n",
        "print(list_2)\n",
        "\n",
        "for x in map(lambda x: x * x, list_2):\n",
        "    print(x, end=' ')\n",
        "print()"
      ]
    },
    {
      "cell_type": "code",
      "execution_count": null,
      "metadata": {
        "colab": {
          "base_uri": "https://localhost:8080/"
        },
        "id": "6xYUTjHWAb8B",
        "outputId": "97bb87fb-1775-4a9c-db81-50ea7aca9d6c"
      },
      "outputs": [
        {
          "name": "stdout",
          "output_type": "stream",
          "text": [
            "[-1, 8, -7, -3, 7]\n",
            "[8]\n"
          ]
        }
      ],
      "source": [
        "from random import seed, randint\n",
        "\n",
        "seed()\n",
        "data = [randint(-10,10) for x in range(5)]\n",
        "filtered = list(filter(lambda x: x > 0 and x % 2 == 0, data))\n",
        "\n",
        "print(data)\n",
        "print(filtered)\n"
      ]
    },
    {
      "cell_type": "code",
      "execution_count": null,
      "metadata": {
        "colab": {
          "base_uri": "https://localhost:8080/"
        },
        "id": "nbZ20mIBAz4E",
        "outputId": "a9e566a2-0e5e-4d13-8eb2-248eaffb6378"
      },
      "outputs": [
        {
          "name": "stdout",
          "output_type": "stream",
          "text": [
            "1\n"
          ]
        }
      ],
      "source": [
        "def outer(par):\n",
        "    loc = par\n",
        "\n",
        "    def inner():\n",
        "        return loc\n",
        "    return inner\n",
        "\n",
        "\n",
        "var = 1\n",
        "fun = outer(var)\n",
        "print(fun())"
      ]
    },
    {
      "cell_type": "code",
      "execution_count": null,
      "metadata": {
        "colab": {
          "base_uri": "https://localhost:8080/"
        },
        "id": "_TPoaGfCDq3S",
        "outputId": "a1989ed1-a260-4e9e-cc40-36d622535e8a"
      },
      "outputs": [
        {
          "name": "stdout",
          "output_type": "stream",
          "text": [
            "0 0 0\n",
            "1 1 1\n",
            "2 4 8\n",
            "3 9 27\n",
            "4 16 64\n"
          ]
        }
      ],
      "source": [
        "def make_closure(par):\n",
        "    loc = par\n",
        "\n",
        "    def power(p):\n",
        "        return p ** loc\n",
        "    return power\n",
        "\n",
        "\n",
        "fsqr = make_closure(2)\n",
        "fcub = make_closure(3)\n",
        "\n",
        "for i in range(5):\n",
        "    print(i, fsqr(i), fcub(i))"
      ]
    },
    {
      "cell_type": "code",
      "execution_count": null,
      "metadata": {
        "colab": {
          "base_uri": "https://localhost:8080/",
          "height": 124
        },
        "id": "yWHc1M7iECty",
        "outputId": "0208301e-e355-42d4-d172-f5a5311e8298"
      },
      "outputs": [
        {
          "ename": "SyntaxError",
          "evalue": "(unicode error) 'unicodeescape' codec can't decode bytes in position 2-3: truncated \\UXXXXXXXX escape (<ipython-input-1-dfa7db8d0eae>, line 2)",
          "output_type": "error",
          "traceback": [
            "\u001b[0;36m  File \u001b[0;32m\"<ipython-input-1-dfa7db8d0eae>\"\u001b[0;36m, line \u001b[0;32m2\u001b[0m\n\u001b[0;31m    stream = open(\"C:\\Users\\User\\Desktop\\file.txt\", \"rt\")\u001b[0m\n\u001b[0m                                                  ^\u001b[0m\n\u001b[0;31mSyntaxError\u001b[0m\u001b[0;31m:\u001b[0m (unicode error) 'unicodeescape' codec can't decode bytes in position 2-3: truncated \\UXXXXXXXX escape\n"
          ]
        }
      ],
      "source": [
        "try:\n",
        "    stream = open(\"C:\\Users\\User\\Desktop\\file.txt\", \"rt\")\n",
        "    # Processing goes here.\n",
        "    stream.close()\n",
        "except Exception as exc:\n",
        "    print(\"Cannot open the file:\", exc)\n",
        "\n"
      ]
    },
    {
      "cell_type": "code",
      "execution_count": null,
      "metadata": {
        "colab": {
          "base_uri": "https://localhost:8080/"
        },
        "id": "nmuV1U90gFve",
        "outputId": "ba41964b-9ed6-4cb3-e223-6575a5d5fabf"
      },
      "outputs": [
        {
          "name": "stdout",
          "output_type": "stream",
          "text": [
            "0\n"
          ]
        }
      ],
      "source": [
        "def fun(n):\n",
        "    for i in range(n):\n",
        "        return i\n",
        "\n",
        "print(fun(4))"
      ]
    },
    {
      "cell_type": "code",
      "execution_count": null,
      "metadata": {
        "colab": {
          "base_uri": "https://localhost:8080/"
        },
        "id": "EUt2VHFXJyiS",
        "outputId": "eda6f420-aedb-4c9b-c227-e6f3ba0167da"
      },
      "outputs": [
        {
          "name": "stdout",
          "output_type": "stream",
          "text": [
            "The file could not be opened: No such file or directory\n"
          ]
        }
      ],
      "source": [
        "from os import strerror\n",
        "\n",
        "try:\n",
        "    s = open(\"c:/users/user/Desktop/file.txt\", \"rt\")\n",
        "    # Actual processing goes here.\n",
        "    s.close()\n",
        "except Exception as exc:\n",
        "    print(\"The file could not be opened:\", strerror(exc.errno))\n",
        "\n"
      ]
    },
    {
      "cell_type": "code",
      "execution_count": null,
      "metadata": {
        "colab": {
          "base_uri": "https://localhost:8080/"
        },
        "id": "mZ_Mfu-8Pt3O",
        "outputId": "49f19b88-5fb7-4048-e78a-95e7db8fda28"
      },
      "outputs": [
        {
          "name": "stdout",
          "output_type": "stream",
          "text": [
            "The file doesn't exist.\n"
          ]
        }
      ],
      "source": [
        "import errno\n",
        "\n",
        "try:\n",
        "    s = open(\"c:/users/user/Desktop/file.txt\", \"rt\")\n",
        "    # Actual processing goes here.\n",
        "    s.close()\n",
        "except Exception as exc:\n",
        "    if exc.errno == errno.ENOENT:\n",
        "        print(\"The file doesn't exist.\")\n",
        "    elif exc.errno == errno.EMFILE:\n",
        "        print(\"You've opened too many files.\")\n",
        "    else:\n",
        "        print(\"The error number is:\", exc.errno)"
      ]
    },
    {
      "cell_type": "code",
      "execution_count": null,
      "metadata": {
        "colab": {
          "base_uri": "https://localhost:8080/"
        },
        "id": "Y6-BzRjsP50J",
        "outputId": "b42aa126-d8af-41d9-d340-9f8077c454f0"
      },
      "outputs": [
        {
          "name": "stdout",
          "output_type": "stream",
          "text": [
            "absent\n"
          ]
        }
      ],
      "source": [
        "import errno\n",
        "\n",
        "try:\n",
        "    stream = open(\"file\", \"rb\")\n",
        "    print(\"exists\")\n",
        "    stream.close()\n",
        "except IOError as error:\n",
        "    if error.errno == errno.ENOENT:\n",
        "        print(\"absent\")\n",
        "    else:\n",
        "        print(\"unknown\")"
      ]
    },
    {
      "cell_type": "code",
      "execution_count": null,
      "metadata": {
        "colab": {
          "base_uri": "https://localhost:8080/",
          "height": 90
        },
        "id": "6b6PLO8GQUZw",
        "outputId": "25504d1d-b225-4312-9a89-315ffd217f71"
      },
      "outputs": [
        {
          "data": {
            "text/html": [
              "\n",
              "     <input type=\"file\" id=\"files-62ab5f9a-8b91-4973-ba3a-8ad31187a4e3\" name=\"files[]\" multiple disabled\n",
              "        style=\"border:none\" />\n",
              "     <output id=\"result-62ab5f9a-8b91-4973-ba3a-8ad31187a4e3\">\n",
              "      Upload widget is only available when the cell has been executed in the\n",
              "      current browser session. Please rerun this cell to enable.\n",
              "      </output>\n",
              "      <script>// Copyright 2017 Google LLC\n",
              "//\n",
              "// Licensed under the Apache License, Version 2.0 (the \"License\");\n",
              "// you may not use this file except in compliance with the License.\n",
              "// You may obtain a copy of the License at\n",
              "//\n",
              "//      http://www.apache.org/licenses/LICENSE-2.0\n",
              "//\n",
              "// Unless required by applicable law or agreed to in writing, software\n",
              "// distributed under the License is distributed on an \"AS IS\" BASIS,\n",
              "// WITHOUT WARRANTIES OR CONDITIONS OF ANY KIND, either express or implied.\n",
              "// See the License for the specific language governing permissions and\n",
              "// limitations under the License.\n",
              "\n",
              "/**\n",
              " * @fileoverview Helpers for google.colab Python module.\n",
              " */\n",
              "(function(scope) {\n",
              "function span(text, styleAttributes = {}) {\n",
              "  const element = document.createElement('span');\n",
              "  element.textContent = text;\n",
              "  for (const key of Object.keys(styleAttributes)) {\n",
              "    element.style[key] = styleAttributes[key];\n",
              "  }\n",
              "  return element;\n",
              "}\n",
              "\n",
              "// Max number of bytes which will be uploaded at a time.\n",
              "const MAX_PAYLOAD_SIZE = 100 * 1024;\n",
              "\n",
              "function _uploadFiles(inputId, outputId) {\n",
              "  const steps = uploadFilesStep(inputId, outputId);\n",
              "  const outputElement = document.getElementById(outputId);\n",
              "  // Cache steps on the outputElement to make it available for the next call\n",
              "  // to uploadFilesContinue from Python.\n",
              "  outputElement.steps = steps;\n",
              "\n",
              "  return _uploadFilesContinue(outputId);\n",
              "}\n",
              "\n",
              "// This is roughly an async generator (not supported in the browser yet),\n",
              "// where there are multiple asynchronous steps and the Python side is going\n",
              "// to poll for completion of each step.\n",
              "// This uses a Promise to block the python side on completion of each step,\n",
              "// then passes the result of the previous step as the input to the next step.\n",
              "function _uploadFilesContinue(outputId) {\n",
              "  const outputElement = document.getElementById(outputId);\n",
              "  const steps = outputElement.steps;\n",
              "\n",
              "  const next = steps.next(outputElement.lastPromiseValue);\n",
              "  return Promise.resolve(next.value.promise).then((value) => {\n",
              "    // Cache the last promise value to make it available to the next\n",
              "    // step of the generator.\n",
              "    outputElement.lastPromiseValue = value;\n",
              "    return next.value.response;\n",
              "  });\n",
              "}\n",
              "\n",
              "/**\n",
              " * Generator function which is called between each async step of the upload\n",
              " * process.\n",
              " * @param {string} inputId Element ID of the input file picker element.\n",
              " * @param {string} outputId Element ID of the output display.\n",
              " * @return {!Iterable<!Object>} Iterable of next steps.\n",
              " */\n",
              "function* uploadFilesStep(inputId, outputId) {\n",
              "  const inputElement = document.getElementById(inputId);\n",
              "  inputElement.disabled = false;\n",
              "\n",
              "  const outputElement = document.getElementById(outputId);\n",
              "  outputElement.innerHTML = '';\n",
              "\n",
              "  const pickedPromise = new Promise((resolve) => {\n",
              "    inputElement.addEventListener('change', (e) => {\n",
              "      resolve(e.target.files);\n",
              "    });\n",
              "  });\n",
              "\n",
              "  const cancel = document.createElement('button');\n",
              "  inputElement.parentElement.appendChild(cancel);\n",
              "  cancel.textContent = 'Cancel upload';\n",
              "  const cancelPromise = new Promise((resolve) => {\n",
              "    cancel.onclick = () => {\n",
              "      resolve(null);\n",
              "    };\n",
              "  });\n",
              "\n",
              "  // Wait for the user to pick the files.\n",
              "  const files = yield {\n",
              "    promise: Promise.race([pickedPromise, cancelPromise]),\n",
              "    response: {\n",
              "      action: 'starting',\n",
              "    }\n",
              "  };\n",
              "\n",
              "  cancel.remove();\n",
              "\n",
              "  // Disable the input element since further picks are not allowed.\n",
              "  inputElement.disabled = true;\n",
              "\n",
              "  if (!files) {\n",
              "    return {\n",
              "      response: {\n",
              "        action: 'complete',\n",
              "      }\n",
              "    };\n",
              "  }\n",
              "\n",
              "  for (const file of files) {\n",
              "    const li = document.createElement('li');\n",
              "    li.append(span(file.name, {fontWeight: 'bold'}));\n",
              "    li.append(span(\n",
              "        `(${file.type || 'n/a'}) - ${file.size} bytes, ` +\n",
              "        `last modified: ${\n",
              "            file.lastModifiedDate ? file.lastModifiedDate.toLocaleDateString() :\n",
              "                                    'n/a'} - `));\n",
              "    const percent = span('0% done');\n",
              "    li.appendChild(percent);\n",
              "\n",
              "    outputElement.appendChild(li);\n",
              "\n",
              "    const fileDataPromise = new Promise((resolve) => {\n",
              "      const reader = new FileReader();\n",
              "      reader.onload = (e) => {\n",
              "        resolve(e.target.result);\n",
              "      };\n",
              "      reader.readAsArrayBuffer(file);\n",
              "    });\n",
              "    // Wait for the data to be ready.\n",
              "    let fileData = yield {\n",
              "      promise: fileDataPromise,\n",
              "      response: {\n",
              "        action: 'continue',\n",
              "      }\n",
              "    };\n",
              "\n",
              "    // Use a chunked sending to avoid message size limits. See b/62115660.\n",
              "    let position = 0;\n",
              "    do {\n",
              "      const length = Math.min(fileData.byteLength - position, MAX_PAYLOAD_SIZE);\n",
              "      const chunk = new Uint8Array(fileData, position, length);\n",
              "      position += length;\n",
              "\n",
              "      const base64 = btoa(String.fromCharCode.apply(null, chunk));\n",
              "      yield {\n",
              "        response: {\n",
              "          action: 'append',\n",
              "          file: file.name,\n",
              "          data: base64,\n",
              "        },\n",
              "      };\n",
              "\n",
              "      let percentDone = fileData.byteLength === 0 ?\n",
              "          100 :\n",
              "          Math.round((position / fileData.byteLength) * 100);\n",
              "      percent.textContent = `${percentDone}% done`;\n",
              "\n",
              "    } while (position < fileData.byteLength);\n",
              "  }\n",
              "\n",
              "  // All done.\n",
              "  yield {\n",
              "    response: {\n",
              "      action: 'complete',\n",
              "    }\n",
              "  };\n",
              "}\n",
              "\n",
              "scope.google = scope.google || {};\n",
              "scope.google.colab = scope.google.colab || {};\n",
              "scope.google.colab._files = {\n",
              "  _uploadFiles,\n",
              "  _uploadFilesContinue,\n",
              "};\n",
              "})(self);\n",
              "</script> "
            ],
            "text/plain": [
              "<IPython.core.display.HTML object>"
            ]
          },
          "metadata": {},
          "output_type": "display_data"
        },
        {
          "name": "stdout",
          "output_type": "stream",
          "text": [
            "Saving file.txt to file (2).txt\n",
            "Some thing inside the notepad\n"
          ]
        }
      ],
      "source": [
        "# Opening tzop.txt in read mode, returning it as a file object:\n",
        "from google.colab import files\n",
        "uploaded = files.upload()\n",
        "stream = open(\"file.txt\", \"rt\", encoding = \"utf-8\")\n",
        "print(stream.read()) # printing the content of the file\n",
        "\n"
      ]
    },
    {
      "cell_type": "code",
      "execution_count": null,
      "metadata": {
        "colab": {
          "base_uri": "https://localhost:8080/"
        },
        "id": "JPwPr-sLQ9ql",
        "outputId": "8db01b84-f67a-406d-efee-7c8adc984fb9"
      },
      "outputs": [
        {
          "name": "stdout",
          "output_type": "stream",
          "text": [
            "Some thing inside the notepad\n",
            "\n",
            "Characters in file: 29\n"
          ]
        }
      ],
      "source": [
        "from os import strerror\n",
        "\n",
        "try:\n",
        "    cnt = 0\n",
        "    s = open('file.txt', \"rt\")\n",
        "    ch = s.read(1)\n",
        "    while ch != '':\n",
        "        print(ch, end='')\n",
        "        cnt += 1\n",
        "        ch = s.read(1)\n",
        "    s.close()\n",
        "    print(\"\\n\\nCharacters in file:\", cnt)\n",
        "except IOError as e:\n",
        "    print(\"I/O error occurred: \", strerror(e.errno))"
      ]
    },
    {
      "cell_type": "code",
      "execution_count": null,
      "metadata": {
        "colab": {
          "base_uri": "https://localhost:8080/"
        },
        "id": "8Inq5UJ1TLZg",
        "outputId": "5f3c0567-6644-4bf7-fb8a-a1a4f24d9499"
      },
      "outputs": [
        {
          "name": "stdout",
          "output_type": "stream",
          "text": [
            "Some thing inside the notepad\n",
            "\n",
            "Characters in file: 29\n"
          ]
        }
      ],
      "source": [
        "from os import strerror\n",
        "\n",
        "try:\n",
        "    cnt = 0\n",
        "    s = open('file.txt', \"rt\")\n",
        "    content = s.read()\n",
        "    for ch in content:\n",
        "        print(ch, end='')\n",
        "        cnt += 1\n",
        "    s.close()\n",
        "    print(\"\\n\\nCharacters in file:\", cnt)\n",
        "except IOError as e:\n",
        "    print(\"I/O error occurred: \", strerr(e.errno))"
      ]
    },
    {
      "cell_type": "code",
      "execution_count": null,
      "metadata": {
        "colab": {
          "base_uri": "https://localhost:8080/"
        },
        "id": "WzTSMnPpTfOy",
        "outputId": "c85b4d36-9c70-4ab7-e413-88d4bfdcf3d7"
      },
      "outputs": [
        {
          "name": "stdout",
          "output_type": "stream",
          "text": [
            "Some thing inside the notepad\n",
            "\n",
            "Characters in file: 29\n",
            "Lines in file:      1\n"
          ]
        }
      ],
      "source": [
        "from os import strerror\n",
        "\n",
        "try:\n",
        "    ccnt = lcnt = 0\n",
        "    s = open('file.txt', 'rt')\n",
        "    line = s.readline()\n",
        "    while line != '':\n",
        "        lcnt += 1\n",
        "        for ch in line:\n",
        "            print(ch, end='')\n",
        "            ccnt += 1\n",
        "        line = s.readline()\n",
        "    s.close()\n",
        "    print(\"\\n\\nCharacters in file:\", ccnt)\n",
        "    print(\"Lines in file:     \", lcnt)\n",
        "except IOError as e:\n",
        "    print(\"I/O error occurred:\", strerror(e.errno))\n"
      ]
    },
    {
      "cell_type": "code",
      "execution_count": null,
      "metadata": {
        "colab": {
          "base_uri": "https://localhost:8080/"
        },
        "id": "WMVcUKBxTyRR",
        "outputId": "ad34233d-4d39-4a51-810f-1d81b6f64266"
      },
      "outputs": [
        {
          "name": "stdout",
          "output_type": "stream",
          "text": [
            "Some thing inside the notepad\n",
            "\n",
            "Characters in file: 29\n",
            "Lines in file:      1\n"
          ]
        }
      ],
      "source": [
        "from os import strerror\n",
        "\n",
        "try:\n",
        "    ccnt = lcnt = 0\n",
        "    s = open('file.txt', 'rt')\n",
        "    lines = s.readlines(20)\n",
        "    while len(lines) != 0:\n",
        "        for line in lines:\n",
        "            lcnt += 1\n",
        "            for ch in line:\n",
        "                print(ch, end='')\n",
        "                ccnt += 1\n",
        "        lines = s.readlines(10)\n",
        "    s.close()\n",
        "    print(\"\\n\\nCharacters in file:\", ccnt)\n",
        "    print(\"Lines in file:     \", lcnt)\n",
        "except IOError as e:\n",
        "    print(\"I/O error occurred:\", strerror(e.errno))\n"
      ]
    },
    {
      "cell_type": "code",
      "execution_count": null,
      "metadata": {
        "colab": {
          "base_uri": "https://localhost:8080/"
        },
        "id": "TxFtAVQ_Uzh_",
        "outputId": "238fb132-0c5d-4149-acc2-581e96fe6274"
      },
      "outputs": [
        {
          "name": "stdout",
          "output_type": "stream",
          "text": [
            "Some thing inside the notepad\n",
            "\n",
            "Characters in file: 29\n",
            "Lines in file:      1\n"
          ]
        }
      ],
      "source": [
        "from os import strerror\n",
        "\n",
        "try:\n",
        "\tccnt = lcnt = 0\n",
        "\tfor line in open('file.txt', 'rt'):\n",
        "\t\tlcnt += 1\n",
        "\t\tfor ch in line:\n",
        "\t\t\tprint(ch, end='')\n",
        "\t\t\tccnt += 1\n",
        "\tprint(\"\\n\\nCharacters in file:\", ccnt)\n",
        "\tprint(\"Lines in file:     \", lcnt)\n",
        "except IOError as e:\n",
        "\tprint(\"I/O error occurred: \", strerror(e.errno))\n"
      ]
    },
    {
      "cell_type": "code",
      "execution_count": null,
      "metadata": {
        "id": "ITohhX8CVPPx"
      },
      "outputs": [],
      "source": [
        "from os import strerror\n",
        "\n",
        "try:\n",
        "\tfo = open('newtext.txt', 'wt') # A new file (newtext.txt) is created.\n",
        "\tfor i in range(10):\n",
        "\t\ts = \"line #\" + str(i+1) + \"\\n\"\n",
        "\t\tfor ch in s:\n",
        "\t\t\tfo.write(ch)\n",
        "\tfo.close()\n",
        "except IOError as e:\n",
        "\tprint(\"I/O error occurred: \", strerror(e.errno))"
      ]
    },
    {
      "cell_type": "code",
      "execution_count": null,
      "metadata": {
        "colab": {
          "base_uri": "https://localhost:8080/"
        },
        "id": "sdfmP2XlViYL",
        "outputId": "0f57eca5-17f0-4348-d693-b7fe6ef24c20"
      },
      "outputs": [
        {
          "name": "stdout",
          "output_type": "stream",
          "text": [
            "I/O error occurred: No such file or directory\n"
          ]
        }
      ],
      "source": [
        "from os import strerror\n",
        "\n",
        "try:\n",
        "    bf = open('file.bin', 'rb')\n",
        "    data = bytearray(bf.read())\n",
        "    bf.close()\n",
        "\n",
        "    for b in data:\n",
        "        print(hex(b), end=' ')\n",
        "\n",
        "except IOError as e:\n",
        "    print(\"I/O error occurred:\", strerror(e.errno))\n",
        "\n"
      ]
    },
    {
      "cell_type": "code",
      "execution_count": null,
      "metadata": {
        "colab": {
          "base_uri": "https://localhost:8080/"
        },
        "id": "-WTQBrH3Azhz",
        "outputId": "fe705881-5b6a-46a2-a567-095a3d8a7ade"
      },
      "outputs": [
        {
          "name": "stdout",
          "output_type": "stream",
          "text": [
            "I/O error occurred: No such file or directory\n"
          ]
        }
      ],
      "source": [
        "try:\n",
        "    bf = open('file.bin', 'rb')\n",
        "    data = bytearray(bf.read(5))\n",
        "    bf.close()\n",
        "\n",
        "    for b in data:\n",
        "        print(hex(b), end=' ')\n",
        "\n",
        "except IOError as e:\n",
        "    print(\"I/O error occurred:\", strerror(e.errno))\n",
        "\n"
      ]
    },
    {
      "cell_type": "code",
      "execution_count": null,
      "metadata": {
        "colab": {
          "base_uri": "https://localhost:8080/",
          "height": 90
        },
        "id": "vHzbyZjwIVMY",
        "outputId": "4c69beed-60be-4650-e47d-a4e33ddc643d"
      },
      "outputs": [
        {
          "data": {
            "text/html": [
              "\n",
              "     <input type=\"file\" id=\"files-332e87b4-34d4-472b-ae6f-00a03a74223b\" name=\"files[]\" multiple disabled\n",
              "        style=\"border:none\" />\n",
              "     <output id=\"result-332e87b4-34d4-472b-ae6f-00a03a74223b\">\n",
              "      Upload widget is only available when the cell has been executed in the\n",
              "      current browser session. Please rerun this cell to enable.\n",
              "      </output>\n",
              "      <script>// Copyright 2017 Google LLC\n",
              "//\n",
              "// Licensed under the Apache License, Version 2.0 (the \"License\");\n",
              "// you may not use this file except in compliance with the License.\n",
              "// You may obtain a copy of the License at\n",
              "//\n",
              "//      http://www.apache.org/licenses/LICENSE-2.0\n",
              "//\n",
              "// Unless required by applicable law or agreed to in writing, software\n",
              "// distributed under the License is distributed on an \"AS IS\" BASIS,\n",
              "// WITHOUT WARRANTIES OR CONDITIONS OF ANY KIND, either express or implied.\n",
              "// See the License for the specific language governing permissions and\n",
              "// limitations under the License.\n",
              "\n",
              "/**\n",
              " * @fileoverview Helpers for google.colab Python module.\n",
              " */\n",
              "(function(scope) {\n",
              "function span(text, styleAttributes = {}) {\n",
              "  const element = document.createElement('span');\n",
              "  element.textContent = text;\n",
              "  for (const key of Object.keys(styleAttributes)) {\n",
              "    element.style[key] = styleAttributes[key];\n",
              "  }\n",
              "  return element;\n",
              "}\n",
              "\n",
              "// Max number of bytes which will be uploaded at a time.\n",
              "const MAX_PAYLOAD_SIZE = 100 * 1024;\n",
              "\n",
              "function _uploadFiles(inputId, outputId) {\n",
              "  const steps = uploadFilesStep(inputId, outputId);\n",
              "  const outputElement = document.getElementById(outputId);\n",
              "  // Cache steps on the outputElement to make it available for the next call\n",
              "  // to uploadFilesContinue from Python.\n",
              "  outputElement.steps = steps;\n",
              "\n",
              "  return _uploadFilesContinue(outputId);\n",
              "}\n",
              "\n",
              "// This is roughly an async generator (not supported in the browser yet),\n",
              "// where there are multiple asynchronous steps and the Python side is going\n",
              "// to poll for completion of each step.\n",
              "// This uses a Promise to block the python side on completion of each step,\n",
              "// then passes the result of the previous step as the input to the next step.\n",
              "function _uploadFilesContinue(outputId) {\n",
              "  const outputElement = document.getElementById(outputId);\n",
              "  const steps = outputElement.steps;\n",
              "\n",
              "  const next = steps.next(outputElement.lastPromiseValue);\n",
              "  return Promise.resolve(next.value.promise).then((value) => {\n",
              "    // Cache the last promise value to make it available to the next\n",
              "    // step of the generator.\n",
              "    outputElement.lastPromiseValue = value;\n",
              "    return next.value.response;\n",
              "  });\n",
              "}\n",
              "\n",
              "/**\n",
              " * Generator function which is called between each async step of the upload\n",
              " * process.\n",
              " * @param {string} inputId Element ID of the input file picker element.\n",
              " * @param {string} outputId Element ID of the output display.\n",
              " * @return {!Iterable<!Object>} Iterable of next steps.\n",
              " */\n",
              "function* uploadFilesStep(inputId, outputId) {\n",
              "  const inputElement = document.getElementById(inputId);\n",
              "  inputElement.disabled = false;\n",
              "\n",
              "  const outputElement = document.getElementById(outputId);\n",
              "  outputElement.innerHTML = '';\n",
              "\n",
              "  const pickedPromise = new Promise((resolve) => {\n",
              "    inputElement.addEventListener('change', (e) => {\n",
              "      resolve(e.target.files);\n",
              "    });\n",
              "  });\n",
              "\n",
              "  const cancel = document.createElement('button');\n",
              "  inputElement.parentElement.appendChild(cancel);\n",
              "  cancel.textContent = 'Cancel upload';\n",
              "  const cancelPromise = new Promise((resolve) => {\n",
              "    cancel.onclick = () => {\n",
              "      resolve(null);\n",
              "    };\n",
              "  });\n",
              "\n",
              "  // Wait for the user to pick the files.\n",
              "  const files = yield {\n",
              "    promise: Promise.race([pickedPromise, cancelPromise]),\n",
              "    response: {\n",
              "      action: 'starting',\n",
              "    }\n",
              "  };\n",
              "\n",
              "  cancel.remove();\n",
              "\n",
              "  // Disable the input element since further picks are not allowed.\n",
              "  inputElement.disabled = true;\n",
              "\n",
              "  if (!files) {\n",
              "    return {\n",
              "      response: {\n",
              "        action: 'complete',\n",
              "      }\n",
              "    };\n",
              "  }\n",
              "\n",
              "  for (const file of files) {\n",
              "    const li = document.createElement('li');\n",
              "    li.append(span(file.name, {fontWeight: 'bold'}));\n",
              "    li.append(span(\n",
              "        `(${file.type || 'n/a'}) - ${file.size} bytes, ` +\n",
              "        `last modified: ${\n",
              "            file.lastModifiedDate ? file.lastModifiedDate.toLocaleDateString() :\n",
              "                                    'n/a'} - `));\n",
              "    const percent = span('0% done');\n",
              "    li.appendChild(percent);\n",
              "\n",
              "    outputElement.appendChild(li);\n",
              "\n",
              "    const fileDataPromise = new Promise((resolve) => {\n",
              "      const reader = new FileReader();\n",
              "      reader.onload = (e) => {\n",
              "        resolve(e.target.result);\n",
              "      };\n",
              "      reader.readAsArrayBuffer(file);\n",
              "    });\n",
              "    // Wait for the data to be ready.\n",
              "    let fileData = yield {\n",
              "      promise: fileDataPromise,\n",
              "      response: {\n",
              "        action: 'continue',\n",
              "      }\n",
              "    };\n",
              "\n",
              "    // Use a chunked sending to avoid message size limits. See b/62115660.\n",
              "    let position = 0;\n",
              "    do {\n",
              "      const length = Math.min(fileData.byteLength - position, MAX_PAYLOAD_SIZE);\n",
              "      const chunk = new Uint8Array(fileData, position, length);\n",
              "      position += length;\n",
              "\n",
              "      const base64 = btoa(String.fromCharCode.apply(null, chunk));\n",
              "      yield {\n",
              "        response: {\n",
              "          action: 'append',\n",
              "          file: file.name,\n",
              "          data: base64,\n",
              "        },\n",
              "      };\n",
              "\n",
              "      let percentDone = fileData.byteLength === 0 ?\n",
              "          100 :\n",
              "          Math.round((position / fileData.byteLength) * 100);\n",
              "      percent.textContent = `${percentDone}% done`;\n",
              "\n",
              "    } while (position < fileData.byteLength);\n",
              "  }\n",
              "\n",
              "  // All done.\n",
              "  yield {\n",
              "    response: {\n",
              "      action: 'complete',\n",
              "    }\n",
              "  };\n",
              "}\n",
              "\n",
              "scope.google = scope.google || {};\n",
              "scope.google.colab = scope.google.colab || {};\n",
              "scope.google.colab._files = {\n",
              "  _uploadFiles,\n",
              "  _uploadFilesContinue,\n",
              "};\n",
              "})(self);\n",
              "</script> "
            ],
            "text/plain": [
              "<IPython.core.display.HTML object>"
            ]
          },
          "metadata": {},
          "output_type": "display_data"
        },
        {
          "name": "stdout",
          "output_type": "stream",
          "text": [
            "Saving file.txt to file.txt\n",
            "Some thing inside the notepad\n"
          ]
        }
      ],
      "source": [
        "from google.colab import files\n",
        "uploaded = files.upload()\n",
        "stream = open(\"file.txt\", \"rt\", encoding = \"utf-8\")\n",
        "print(stream.read()) # printing the content of the file"
      ]
    },
    {
      "cell_type": "code",
      "execution_count": null,
      "metadata": {
        "colab": {
          "base_uri": "https://localhost:8080/"
        },
        "id": "SCSsPSmoFTQW",
        "outputId": "833d368d-fdc8-4924-ab73-9aa1be402810"
      },
      "outputs": [
        {
          "name": "stdout",
          "output_type": "stream",
          "text": [
            "Enter the source file name: file.txt\n",
            "Enter the destination file name: file2.txt\n",
            "29 byte(s) succesfully written\n"
          ]
        }
      ],
      "source": [
        "from os import strerror\n",
        "\n",
        "srcname = input(\"Enter the source file name: \")\n",
        "try:\n",
        "    src = open(srcname, 'rb')\n",
        "except IOError as e:\n",
        "    print(\"Cannot open the source file: \", strerror(e.errno))\n",
        "    exit(e.errno)\n",
        "\n",
        "dstname = input(\"Enter the destination file name: \")\n",
        "try:\n",
        "    dst = open(dstname, 'wb')\n",
        "except Exception as e:\n",
        "    print(\"Cannot create the destination file: \", strerror(e.errno))\n",
        "    src.close()\n",
        "    exit(e.errno)\n",
        "\n",
        "buffer = bytearray(65536)\n",
        "total  = 0\n",
        "try:\n",
        "    readin = src.readinto(buffer)\n",
        "    while readin > 0:\n",
        "        written = dst.write(buffer[:readin])\n",
        "        total += written\n",
        "        readin = src.readinto(buffer)\n",
        "except IOError as e:\n",
        "    print(\"Cannot create the destination file: \", strerror(e.errno))\n",
        "    exit(e.errno)\n",
        "\n",
        "print(total,'byte(s) succesfully written')\n",
        "src.close()\n",
        "dst.close()\n"
      ]
    },
    {
      "cell_type": "markdown",
      "metadata": {
        "id": "XePW91c5IHdm"
      },
      "source": [
        "\n",
        "\n",
        "\n",
        "After copying the file, verify that the source and destination files are identical by comparing their contents byte by byte.\n",
        "\n",
        "Hint: Open both files after the copy is complete and compare each byte using a loop."
      ]
    },
    {
      "cell_type": "code",
      "execution_count": null,
      "metadata": {
        "colab": {
          "base_uri": "https://localhost:8080/"
        },
        "id": "x47OhWNhIIFw",
        "outputId": "ded70445-485d-4f54-fbff-8369996b3772"
      },
      "outputs": [
        {
          "name": "stdout",
          "output_type": "stream",
          "text": [
            "Enter the source file name: file.txt\n",
            "Enter the destination file name: file2.txt\n",
            "29 byte(s) successfully written\n",
            "Files are identical.\n"
          ]
        }
      ],
      "source": [
        "from os import strerror\n",
        "\n",
        "\n",
        "srcname = input(\"Enter the source file name: \")\n",
        "try:\n",
        "    src = open(srcname, 'rb')\n",
        "except IOError as e:\n",
        "    print(\"Cannot open the source file: \", strerror(e.errno))\n",
        "    exit(e.errno)\n",
        "\n",
        "\n",
        "dstname = input(\"Enter the destination file name: \")\n",
        "try:\n",
        "    dst = open(dstname, 'wb')\n",
        "except IOError as e:\n",
        "    print(\"Cannot create the destination file: \", strerror(e.errno))\n",
        "    src.close()\n",
        "    exit(e.errno)\n",
        "\n",
        "\n",
        "buffer = bytearray(65536)\n",
        "total = 0\n",
        "\n",
        "\n",
        "try:\n",
        "    readin = src.readinto(buffer)\n",
        "    while readin > 0:\n",
        "        written = dst.write(buffer[:readin])\n",
        "        total += written\n",
        "        readin = src.readinto(buffer)\n",
        "except IOError as e:\n",
        "    print(\"Cannot create the destination file: \", strerror(e.errno))\n",
        "    src.close()\n",
        "    dst.close()\n",
        "    exit(e.errno)\n",
        "\n",
        "print(total, 'byte(s) successfully written')\n",
        "\n",
        "\n",
        "src.close()\n",
        "dst.close()\n",
        "\n",
        "\n",
        "try:\n",
        "    src = open(srcname, 'rb')\n",
        "    dst = open(dstname, 'rb')\n",
        "except IOError as e:\n",
        "    print(\"Cannot reopen the files for verification: \", strerror(e.errno))\n",
        "    exit(e.errno)\n",
        "\n",
        "\n",
        "buffer_size = 65536\n",
        "while True:\n",
        "    src_data = src.read(buffer_size)\n",
        "    dst_data = dst.read(buffer_size)\n",
        "\n",
        "    if src_data != dst_data:\n",
        "        print(\"Files are not identical.\")\n",
        "        break\n",
        "\n",
        "    if not src_data:\n",
        "        print(\"Files are identical.\")\n",
        "        break\n",
        "\n",
        "\n",
        "src.close()\n",
        "dst.close()\n"
      ]
    },
    {
      "cell_type": "code",
      "execution_count": null,
      "metadata": {
        "id": "imnHqXc3IqRZ"
      },
      "outputs": [],
      "source": []
    },
    {
      "cell_type": "markdown",
      "metadata": {
        "id": "Pto-3QqSJA9c"
      },
      "source": [
        "Lab1"
      ]
    },
    {
      "cell_type": "code",
      "execution_count": null,
      "metadata": {
        "colab": {
          "base_uri": "https://localhost:8080/"
        },
        "id": "XptSdhAAJBie",
        "outputId": "ed071ea2-9f81-4aed-9579-c1e5d53dd8e5"
      },
      "outputs": [
        {
          "name": "stdout",
          "output_type": "stream",
          "text": [
            "Enter the file name: file.txt\n",
            "a -> 1\n",
            "d -> 2\n",
            "e -> 4\n",
            "g -> 1\n",
            "h -> 2\n",
            "i -> 3\n",
            "m -> 1\n",
            "n -> 3\n",
            "o -> 2\n",
            "p -> 1\n",
            "s -> 2\n",
            "t -> 3\n"
          ]
        }
      ],
      "source": [
        "from os import strerror\n",
        "\n",
        "\n",
        "letter_count = {chr(i): 0 for i in range(ord('a'), ord('z') + 1)}\n",
        "\n",
        "\n",
        "filename = input(\"Enter the file name: \")\n",
        "\n",
        "try:\n",
        "    with open(filename, 'r') as file:\n",
        "        for line in file:\n",
        "\n",
        "            for char in line:\n",
        "\n",
        "                char = char.lower()\n",
        "                if 'a' <= char <= 'z':\n",
        "                    letter_count[char] += 1\n",
        "except IOError as e:\n",
        "    print(\"Cannot open the file:\", strerror(e.errno))\n",
        "    exit(e.errno)\n",
        "\n",
        "\n",
        "for letter in sorted(letter_count):\n",
        "    if letter_count[letter] > 0:  #\n",
        "        print(f\"{letter} -> {letter_count[letter]}\")\n"
      ]
    },
    {
      "cell_type": "code",
      "execution_count": null,
      "metadata": {
        "colab": {
          "base_uri": "https://localhost:8080/"
        },
        "id": "-dk5MYNLK3W6",
        "outputId": "e2c6a4bd-e432-45bf-a473-b909ca3b836f"
      },
      "outputs": [
        {
          "name": "stdout",
          "output_type": "stream",
          "text": [
            "Enter the file name: file.txt\n",
            "e -> 4\n",
            "i -> 3\n",
            "n -> 3\n",
            "t -> 3\n",
            "d -> 2\n",
            "h -> 2\n",
            "o -> 2\n",
            "s -> 2\n",
            "a -> 1\n",
            "g -> 1\n",
            "m -> 1\n",
            "p -> 1\n",
            "Histogram saved to file.txt.hist\n"
          ]
        }
      ],
      "source": [
        "from os import strerror\n",
        "\n",
        "\n",
        "letter_count = {chr(i): 0 for i in range(ord('a'), ord('z') + 1)}\n",
        "\n",
        "\n",
        "filename = input(\"Enter the file name: \")\n",
        "\n",
        "\n",
        "try:\n",
        "    with open(filename, 'r') as file:\n",
        "        for line in file:\n",
        "\n",
        "            for char in line:\n",
        "\n",
        "                char = char.lower()\n",
        "                if 'a' <= char <= 'z':\n",
        "                    letter_count[char] += 1\n",
        "except IOError as e:\n",
        "    print(\"Cannot open the file:\", strerror(e.errno))\n",
        "    exit(e.errno)\n",
        "\n",
        "\n",
        "output_filename = filename + \".hist\"\n",
        "\n",
        "\n",
        "try:\n",
        "    with open(output_filename, 'w') as outfile:\n",
        "\n",
        "        sorted_letters = sorted(letter_count.items(), key=lambda x: x[1], reverse=True)\n",
        "        for letter, count in sorted_letters:\n",
        "            if count > 0:\n",
        "                outfile.write(f\"{letter} -> {count}\\n\")\n",
        "                print(f\"{letter} -> {count}\")\n",
        "except IOError as e:\n",
        "    print(\"Cannot create the output file:\", strerror(e.errno))\n",
        "    exit(e.errno)\n",
        "\n",
        "print(f\"Histogram saved to {output_filename}\")\n"
      ]
    },
    {
      "cell_type": "markdown",
      "metadata": {
        "id": "k0sffBi9MTbl"
      },
      "source": [
        "lab3"
      ]
    },
    {
      "cell_type": "code",
      "execution_count": null,
      "metadata": {
        "colab": {
          "base_uri": "https://localhost:8080/",
          "height": 90
        },
        "id": "lGtsfud2Mzzr",
        "outputId": "377530c1-2c9a-41d6-a152-4115fa20bf45"
      },
      "outputs": [
        {
          "data": {
            "text/html": [
              "\n",
              "     <input type=\"file\" id=\"files-75794692-6b73-46d7-899c-84455e5e1b33\" name=\"files[]\" multiple disabled\n",
              "        style=\"border:none\" />\n",
              "     <output id=\"result-75794692-6b73-46d7-899c-84455e5e1b33\">\n",
              "      Upload widget is only available when the cell has been executed in the\n",
              "      current browser session. Please rerun this cell to enable.\n",
              "      </output>\n",
              "      <script>// Copyright 2017 Google LLC\n",
              "//\n",
              "// Licensed under the Apache License, Version 2.0 (the \"License\");\n",
              "// you may not use this file except in compliance with the License.\n",
              "// You may obtain a copy of the License at\n",
              "//\n",
              "//      http://www.apache.org/licenses/LICENSE-2.0\n",
              "//\n",
              "// Unless required by applicable law or agreed to in writing, software\n",
              "// distributed under the License is distributed on an \"AS IS\" BASIS,\n",
              "// WITHOUT WARRANTIES OR CONDITIONS OF ANY KIND, either express or implied.\n",
              "// See the License for the specific language governing permissions and\n",
              "// limitations under the License.\n",
              "\n",
              "/**\n",
              " * @fileoverview Helpers for google.colab Python module.\n",
              " */\n",
              "(function(scope) {\n",
              "function span(text, styleAttributes = {}) {\n",
              "  const element = document.createElement('span');\n",
              "  element.textContent = text;\n",
              "  for (const key of Object.keys(styleAttributes)) {\n",
              "    element.style[key] = styleAttributes[key];\n",
              "  }\n",
              "  return element;\n",
              "}\n",
              "\n",
              "// Max number of bytes which will be uploaded at a time.\n",
              "const MAX_PAYLOAD_SIZE = 100 * 1024;\n",
              "\n",
              "function _uploadFiles(inputId, outputId) {\n",
              "  const steps = uploadFilesStep(inputId, outputId);\n",
              "  const outputElement = document.getElementById(outputId);\n",
              "  // Cache steps on the outputElement to make it available for the next call\n",
              "  // to uploadFilesContinue from Python.\n",
              "  outputElement.steps = steps;\n",
              "\n",
              "  return _uploadFilesContinue(outputId);\n",
              "}\n",
              "\n",
              "// This is roughly an async generator (not supported in the browser yet),\n",
              "// where there are multiple asynchronous steps and the Python side is going\n",
              "// to poll for completion of each step.\n",
              "// This uses a Promise to block the python side on completion of each step,\n",
              "// then passes the result of the previous step as the input to the next step.\n",
              "function _uploadFilesContinue(outputId) {\n",
              "  const outputElement = document.getElementById(outputId);\n",
              "  const steps = outputElement.steps;\n",
              "\n",
              "  const next = steps.next(outputElement.lastPromiseValue);\n",
              "  return Promise.resolve(next.value.promise).then((value) => {\n",
              "    // Cache the last promise value to make it available to the next\n",
              "    // step of the generator.\n",
              "    outputElement.lastPromiseValue = value;\n",
              "    return next.value.response;\n",
              "  });\n",
              "}\n",
              "\n",
              "/**\n",
              " * Generator function which is called between each async step of the upload\n",
              " * process.\n",
              " * @param {string} inputId Element ID of the input file picker element.\n",
              " * @param {string} outputId Element ID of the output display.\n",
              " * @return {!Iterable<!Object>} Iterable of next steps.\n",
              " */\n",
              "function* uploadFilesStep(inputId, outputId) {\n",
              "  const inputElement = document.getElementById(inputId);\n",
              "  inputElement.disabled = false;\n",
              "\n",
              "  const outputElement = document.getElementById(outputId);\n",
              "  outputElement.innerHTML = '';\n",
              "\n",
              "  const pickedPromise = new Promise((resolve) => {\n",
              "    inputElement.addEventListener('change', (e) => {\n",
              "      resolve(e.target.files);\n",
              "    });\n",
              "  });\n",
              "\n",
              "  const cancel = document.createElement('button');\n",
              "  inputElement.parentElement.appendChild(cancel);\n",
              "  cancel.textContent = 'Cancel upload';\n",
              "  const cancelPromise = new Promise((resolve) => {\n",
              "    cancel.onclick = () => {\n",
              "      resolve(null);\n",
              "    };\n",
              "  });\n",
              "\n",
              "  // Wait for the user to pick the files.\n",
              "  const files = yield {\n",
              "    promise: Promise.race([pickedPromise, cancelPromise]),\n",
              "    response: {\n",
              "      action: 'starting',\n",
              "    }\n",
              "  };\n",
              "\n",
              "  cancel.remove();\n",
              "\n",
              "  // Disable the input element since further picks are not allowed.\n",
              "  inputElement.disabled = true;\n",
              "\n",
              "  if (!files) {\n",
              "    return {\n",
              "      response: {\n",
              "        action: 'complete',\n",
              "      }\n",
              "    };\n",
              "  }\n",
              "\n",
              "  for (const file of files) {\n",
              "    const li = document.createElement('li');\n",
              "    li.append(span(file.name, {fontWeight: 'bold'}));\n",
              "    li.append(span(\n",
              "        `(${file.type || 'n/a'}) - ${file.size} bytes, ` +\n",
              "        `last modified: ${\n",
              "            file.lastModifiedDate ? file.lastModifiedDate.toLocaleDateString() :\n",
              "                                    'n/a'} - `));\n",
              "    const percent = span('0% done');\n",
              "    li.appendChild(percent);\n",
              "\n",
              "    outputElement.appendChild(li);\n",
              "\n",
              "    const fileDataPromise = new Promise((resolve) => {\n",
              "      const reader = new FileReader();\n",
              "      reader.onload = (e) => {\n",
              "        resolve(e.target.result);\n",
              "      };\n",
              "      reader.readAsArrayBuffer(file);\n",
              "    });\n",
              "    // Wait for the data to be ready.\n",
              "    let fileData = yield {\n",
              "      promise: fileDataPromise,\n",
              "      response: {\n",
              "        action: 'continue',\n",
              "      }\n",
              "    };\n",
              "\n",
              "    // Use a chunked sending to avoid message size limits. See b/62115660.\n",
              "    let position = 0;\n",
              "    do {\n",
              "      const length = Math.min(fileData.byteLength - position, MAX_PAYLOAD_SIZE);\n",
              "      const chunk = new Uint8Array(fileData, position, length);\n",
              "      position += length;\n",
              "\n",
              "      const base64 = btoa(String.fromCharCode.apply(null, chunk));\n",
              "      yield {\n",
              "        response: {\n",
              "          action: 'append',\n",
              "          file: file.name,\n",
              "          data: base64,\n",
              "        },\n",
              "      };\n",
              "\n",
              "      let percentDone = fileData.byteLength === 0 ?\n",
              "          100 :\n",
              "          Math.round((position / fileData.byteLength) * 100);\n",
              "      percent.textContent = `${percentDone}% done`;\n",
              "\n",
              "    } while (position < fileData.byteLength);\n",
              "  }\n",
              "\n",
              "  // All done.\n",
              "  yield {\n",
              "    response: {\n",
              "      action: 'complete',\n",
              "    }\n",
              "  };\n",
              "}\n",
              "\n",
              "scope.google = scope.google || {};\n",
              "scope.google.colab = scope.google.colab || {};\n",
              "scope.google.colab._files = {\n",
              "  _uploadFiles,\n",
              "  _uploadFilesContinue,\n",
              "};\n",
              "})(self);\n",
              "</script> "
            ],
            "text/plain": [
              "<IPython.core.display.HTML object>"
            ]
          },
          "metadata": {},
          "output_type": "display_data"
        },
        {
          "name": "stdout",
          "output_type": "stream",
          "text": [
            "Saving lab3.txt to lab3.txt\n",
            "Some thing inside the notepad\n"
          ]
        }
      ],
      "source": [
        "from google.colab import files\n",
        "uploaded = files.upload()\n",
        "stream = open(\"file.txt\", \"rt\", encoding = \"utf-8\")\n",
        "print(stream.read()) # printing the content of the file"
      ]
    },
    {
      "cell_type": "code",
      "execution_count": null,
      "metadata": {
        "colab": {
          "base_uri": "https://localhost:8080/"
        },
        "id": "lwpo4p55Li8E",
        "outputId": "52a4d1ee-8a9f-4c0b-dda3-009f627e4fcd"
      },
      "outputs": [
        {
          "name": "stdout",
          "output_type": "stream",
          "text": [
            "Enter Prof. Jekyll's file name: lab3.txt\n",
            "\n",
            "Student Points Report:\n",
            "Andrew Cox\t1.5\n",
            "Anna Boleyn\t15.5\n",
            "John Smith\t7.0\n"
          ]
        }
      ],
      "source": [
        "class StudentsDataException(Exception):\n",
        "    \"\"\"Base class for other exceptions.\"\"\"\n",
        "    pass\n",
        "\n",
        "class BadLine(StudentsDataException):\n",
        "    \"\"\"Exception raised for errors in the input line.\"\"\"\n",
        "    def __init__(self, line):\n",
        "        self.line = line\n",
        "        self.message = f\"Bad line detected: {line}\"\n",
        "        super().__init__(self.message)\n",
        "\n",
        "class FileEmpty(StudentsDataException):\n",
        "    \"\"\"Exception raised when the file is empty.\"\"\"\n",
        "    def __init__(self):\n",
        "        self.message = \"The source file is empty.\"\n",
        "        super().__init__(self.message)\n",
        "\n",
        "def main():\n",
        "\n",
        "    students_points = {}\n",
        "\n",
        "\n",
        "    filename = input(\"Enter Prof. Jekyll's file name: \")\n",
        "\n",
        "\n",
        "    try:\n",
        "        with open(filename, 'r') as file:\n",
        "            lines = file.readlines()\n",
        "\n",
        "            if not lines:\n",
        "                raise FileEmpty()\n",
        "\n",
        "            for line in lines:\n",
        "\n",
        "                parts = line.strip().split()\n",
        "\n",
        "\n",
        "                if len(parts) != 3:\n",
        "                    raise BadLine(line)\n",
        "\n",
        "                first_name, last_name, points = parts\n",
        "                try:\n",
        "                    points = float(points)\n",
        "                except ValueError:\n",
        "                    raise BadLine(line)\n",
        "\n",
        "\n",
        "                full_name = f\"{first_name} {last_name}\"\n",
        "\n",
        "\n",
        "                if full_name in students_points:\n",
        "                    students_points[full_name] += points\n",
        "                else:\n",
        "                    students_points[full_name] = points\n",
        "\n",
        "    except FileNotFoundError:\n",
        "        print(f\"Error: The file '{filename}' does not exist.\")\n",
        "        return\n",
        "    except StudentsDataException as e:\n",
        "        print(f\"Error: {e.message}\")\n",
        "        return\n",
        "    except Exception as e:\n",
        "        print(f\"An unexpected error occurred: {str(e)}\")\n",
        "        return\n",
        "\n",
        "\n",
        "    print(\"\\nStudent Points Report:\")\n",
        "    for student in sorted(students_points.keys()):\n",
        "        print(f\"{student}\\t{students_points[student]:.1f}\")\n",
        "\n",
        "if __name__ == \"__main__\":\n",
        "    main()\n"
      ]
    },
    {
      "cell_type": "code",
      "execution_count": null,
      "metadata": {
        "colab": {
          "base_uri": "https://localhost:8080/"
        },
        "id": "BM3i_YfyRPKh",
        "outputId": "50dedae4-ab7b-48f6-fb87-05083a104c15"
      },
      "outputs": [
        {
          "name": "stdout",
          "output_type": "stream",
          "text": [
            "This is the child process"
          ]
        }
      ],
      "source": [
        "import os\n",
        "\n",
        "pid = os.fork()\n",
        "\n",
        "if pid == 0:\n",
        "    print(\"This is the child process\")\n",
        "else:\n",
        "    print(\"This is the parent process with child process ID:\", pid)\n"
      ]
    },
    {
      "cell_type": "code",
      "execution_count": null,
      "metadata": {
        "colab": {
          "base_uri": "https://localhost:8080/"
        },
        "id": "gZvSovDzMXAk",
        "outputId": "149599e9-e3a0-4744-8ddb-b22941852d7a"
      },
      "outputs": [
        {
          "name": "stdout",
          "output_type": "stream",
          "text": [
            "posix.uname_result(sysname='Linux', nodename='a48e1f91b023', release='6.1.85+', version='#1 SMP PREEMPT_DYNAMIC Thu Jun 27 21:05:47 UTC 2024', machine='x86_64')\n"
          ]
        }
      ],
      "source": [
        "import os\n",
        "print(os.uname())\n",
        "\n"
      ]
    },
    {
      "cell_type": "code",
      "execution_count": null,
      "metadata": {
        "colab": {
          "base_uri": "https://localhost:8080/"
        },
        "id": "xlf_qBmEg4yZ",
        "outputId": "2f46ff26-ef45-4d5b-f277-7060604c8007"
      },
      "outputs": [
        {
          "name": "stdout",
          "output_type": "stream",
          "text": [
            "posix\n"
          ]
        }
      ],
      "source": [
        "import os\n",
        "print(os.name)\n",
        "\n",
        "\n"
      ]
    },
    {
      "cell_type": "code",
      "execution_count": null,
      "metadata": {
        "colab": {
          "base_uri": "https://localhost:8080/"
        },
        "id": "u1GTmnC5hTAk",
        "outputId": "30ae6b5c-2dda-4623-a81c-15fd67b2fb35"
      },
      "outputs": [
        {
          "name": "stdout",
          "output_type": "stream",
          "text": [
            "['.config', 'directory', 'sample_data']\n"
          ]
        }
      ],
      "source": [
        "import os\n",
        "\n",
        "os.mkdir(\"directory\")\n",
        "print(os.listdir())\n"
      ]
    },
    {
      "cell_type": "code",
      "execution_count": null,
      "metadata": {
        "id": "ljZcAf2VjZDX"
      },
      "outputs": [],
      "source": [
        "os.chmod(\"directory\", 0o755)\n",
        "#The owner has read, write, and execute permissions (7 = 4+2+1),\n",
        "#while the group and others have only read and execute permissions (5 = 4+1).\n"
      ]
    },
    {
      "cell_type": "markdown",
      "metadata": {
        "id": "JbKpONpgmT_H"
      },
      "source": []
    },
    {
      "cell_type": "code",
      "execution_count": null,
      "metadata": {
        "colab": {
          "base_uri": "https://localhost:8080/"
        },
        "id": "leEI1CUbhqCY",
        "outputId": "140adb9e-e1db-475c-95b8-f3f8aaacb4b4"
      },
      "outputs": [
        {
          "name": "stdout",
          "output_type": "stream",
          "text": [
            "['my_second_directory']\n"
          ]
        }
      ],
      "source": [
        "import os\n",
        "\n",
        "os.makedirs(\"my_first_directory/my_second_directory\")\n",
        "os.chdir(\"my_first_directory\")\n",
        "print(os.listdir())"
      ]
    },
    {
      "cell_type": "code",
      "execution_count": null,
      "metadata": {
        "colab": {
          "base_uri": "https://localhost:8080/"
        },
        "id": "pab2xOZ4iqnV",
        "outputId": "ae08be19-cf09-4e8e-e670-c2a88d2177ce"
      },
      "outputs": [
        {
          "name": "stdout",
          "output_type": "stream",
          "text": [
            "['my_second_directory']\n"
          ]
        }
      ],
      "source": [
        "print(os.listdir())"
      ]
    },
    {
      "cell_type": "code",
      "execution_count": null,
      "metadata": {
        "id": "fH1WelETiuCe"
      },
      "outputs": [],
      "source": [
        "os.chdir(\"../\")"
      ]
    },
    {
      "cell_type": "code",
      "execution_count": null,
      "metadata": {
        "colab": {
          "base_uri": "https://localhost:8080/"
        },
        "id": "2N72bPjojDPX",
        "outputId": "570f3c47-711c-41ee-a70f-094ea78d5af2"
      },
      "outputs": [
        {
          "name": "stdout",
          "output_type": "stream",
          "text": [
            "['.config', 'my_first_directory', 'file1.txt', 'file.txt', 'lab3.txt', 'file.txt.hist', 'file2.txt', 'sample_data']\n"
          ]
        }
      ],
      "source": [
        "print(os.listdir())"
      ]
    },
    {
      "cell_type": "code",
      "execution_count": null,
      "metadata": {
        "colab": {
          "base_uri": "https://localhost:8080/"
        },
        "id": "LpaxjM9fjEp6",
        "outputId": "f8b3d41f-2e79-4c48-f0f9-f82a66f1e1e3"
      },
      "outputs": [
        {
          "name": "stdout",
          "output_type": "stream",
          "text": [
            "['my_second_directory']\n"
          ]
        }
      ],
      "source": [
        "import os\n",
        "\n",
        "os.makedirs(\"my_first/my_second_directory\")\n",
        "os.chdir(\"my_first\")\n",
        "print(os.listdir())\n"
      ]
    },
    {
      "cell_type": "code",
      "execution_count": null,
      "metadata": {
        "id": "VKvsr22tjLWs"
      },
      "outputs": [],
      "source": [
        "os.chdir(\"../\")"
      ]
    },
    {
      "cell_type": "code",
      "execution_count": null,
      "metadata": {
        "colab": {
          "base_uri": "https://localhost:8080/"
        },
        "id": "rj6IMd_sjOKk",
        "outputId": "f97694d6-ecec-42e9-8dc6-ea927fb8f5c2"
      },
      "outputs": [
        {
          "name": "stdout",
          "output_type": "stream",
          "text": [
            "['.config', 'my_first_directory', 'file1.txt', 'file.txt', 'lab3.txt', 'file.txt.hist', 'file2.txt', 'my_first', 'sample_data']\n"
          ]
        }
      ],
      "source": [
        "print(os.listdir())"
      ]
    },
    {
      "cell_type": "code",
      "execution_count": null,
      "metadata": {
        "colab": {
          "base_uri": "https://localhost:8080/"
        },
        "id": "dzQiguhUjQCI",
        "outputId": "0880b695-2d2a-4766-d251-75a90ad66b03"
      },
      "outputs": [
        {
          "name": "stdout",
          "output_type": "stream",
          "text": [
            "/content/my\n",
            "/content/my/my1\n"
          ]
        }
      ],
      "source": [
        "import os\n",
        "\n",
        "os.makedirs(\"my/my1\")\n",
        "os.chdir(\"my\")\n",
        "print(os.getcwd())\n",
        "os.chdir(\"my1\")\n",
        "print(os.getcwd())"
      ]
    },
    {
      "cell_type": "code",
      "execution_count": null,
      "metadata": {
        "colab": {
          "base_uri": "https://localhost:8080/"
        },
        "id": "Ljx8O0trjgXf",
        "outputId": "937a60a2-6cd2-42d2-ee9c-e531ae438f99"
      },
      "outputs": [
        {
          "name": "stdout",
          "output_type": "stream",
          "text": [
            "['my_first_directory']\n",
            "[]\n"
          ]
        }
      ],
      "source": [
        "import os\n",
        "\n",
        "os.mkdir(\"my_first_directory\")\n",
        "print(os.listdir())\n",
        "os.rmdir(\"my_first_directory\")\n",
        "print(os.listdir())\n"
      ]
    },
    {
      "cell_type": "code",
      "execution_count": null,
      "metadata": {
        "colab": {
          "base_uri": "https://localhost:8080/"
        },
        "id": "chgG8_S2js83",
        "outputId": "aa2268c8-e36a-4fc5-fbda-2219417004bc"
      },
      "outputs": [
        {
          "name": "stdout",
          "output_type": "stream",
          "text": [
            "[]\n"
          ]
        }
      ],
      "source": [
        "import os\n",
        "\n",
        "os.makedirs(\"my_first_directory/my_second_directory\")\n",
        "os.removedirs(\"my_first_directory/my_second_directory\")\n",
        "print(os.listdir())\n",
        "\n"
      ]
    },
    {
      "cell_type": "code",
      "execution_count": null,
      "metadata": {
        "colab": {
          "base_uri": "https://localhost:8080/"
        },
        "id": "v-tim4rjj6w9",
        "outputId": "bb052cc1-e8e7-40e4-a1cd-5087e0287474"
      },
      "outputs": [
        {
          "name": "stdout",
          "output_type": "stream",
          "text": [
            "0\n"
          ]
        }
      ],
      "source": [
        "import os\n",
        "\n",
        "returned_value = os.system(\"mkdir my_first_directory\")\n",
        "print(returned_value)\n"
      ]
    },
    {
      "cell_type": "code",
      "execution_count": null,
      "metadata": {
        "id": "g9uvRVM9kF05"
      },
      "outputs": [],
      "source": []
    },
    {
      "cell_type": "markdown",
      "metadata": {
        "id": "WWiJkCHVmVcb"
      },
      "source": [
        "Lab 01"
      ]
    },
    {
      "cell_type": "code",
      "execution_count": null,
      "metadata": {
        "id": "WbQWOaZCmWyQ"
      },
      "outputs": [],
      "source": [
        "import os\n",
        "\n",
        "def find(path, dir_name):\n",
        "\n",
        "\n",
        "    for root, dirs, files in os.walk(path):\n",
        "\n",
        "        if dir_name in dirs:\n",
        "\n",
        "            abs_path = os.path.join(root, dir_name)\n",
        "            print(abs_path)\n",
        "\n",
        "\n",
        "find(\"./tree\", \"python\")\n"
      ]
    },
    {
      "cell_type": "markdown",
      "metadata": {
        "id": "dg0n8jboY85u"
      },
      "source": [
        "<b> Counting Files and Directories</b>\n",
        "Write a program that counts the number of files and directories in a given path, including subdirectories."
      ]
    },
    {
      "cell_type": "code",
      "execution_count": null,
      "metadata": {
        "colab": {
          "base_uri": "https://localhost:8080/"
        },
        "id": "7kyBFXKdZHW_",
        "outputId": "7f876429-be5f-4780-915d-2ef07d9d4d0a"
      },
      "outputs": [
        {
          "name": "stdout",
          "output_type": "stream",
          "text": [
            "Total directories: 0\n",
            "Total files: 0\n"
          ]
        }
      ],
      "source": [
        "import os\n",
        "\n",
        "def count_files_and_dirs(path):\n",
        "    file_count = 0\n",
        "    dir_count = 0\n",
        "    for root, dirs, files in os.walk(path):\n",
        "        dir_count += len(dirs)\n",
        "        file_count += len(files)\n",
        "    print(f\"Total directories: {dir_count}\")\n",
        "    print(f\"Total files: {file_count}\")\n",
        "\n",
        "\n",
        "path = \"./tree\"\n",
        "count_files_and_dirs(path)\n"
      ]
    },
    {
      "cell_type": "markdown",
      "metadata": {
        "id": "7MqnuRluZaFN"
      },
      "source": [
        "<b> Deleting Empty Directories </b>\n",
        "Write a program that deletes all empty directories in a given path, including subdirectories. If the directory is not empty, leave it untouched."
      ]
    },
    {
      "cell_type": "code",
      "execution_count": null,
      "metadata": {
        "id": "P1aGV8d9ZeDD"
      },
      "outputs": [],
      "source": [
        "import os\n",
        "\n",
        "def delete_empty_dirs(path):\n",
        "    for root, dirs, files in os.walk(path, topdown=False):\n",
        "        for dir_name in dirs:\n",
        "            full_path = os.path.join(root, dir_name)\n",
        "            if not os.listdir(full_path):  # Check if directory is empty\n",
        "                os.rmdir(full_path)\n",
        "                print(f\"Deleted empty directory: {full_path}\")\n",
        "\n",
        "\n",
        "path = \"./tree\"\n",
        "delete_empty_dirs(path)\n"
      ]
    },
    {
      "cell_type": "markdown",
      "metadata": {
        "id": "UHZLqEX1ZryX"
      },
      "source": [
        "<b> Moving Files by Extension </b>\n",
        "Write a program that moves all files with a specific extension (e.g., .txt) from one directory to another."
      ]
    },
    {
      "cell_type": "code",
      "execution_count": null,
      "metadata": {
        "id": "_5ZypGVVZsuA"
      },
      "outputs": [],
      "source": [
        "import os\n",
        "import shutil\n",
        "\n",
        "def move_files_by_extension(src_dir, dest_dir, extension):\n",
        "    if not os.path.exists(dest_dir):\n",
        "        os.makedirs(dest_dir)\n",
        "\n",
        "    for root, dirs, files in os.walk(src_dir):\n",
        "        for file in files:\n",
        "            if file.endswith(extension):\n",
        "                src_file_path = os.path.join(root, file)\n",
        "                dest_file_path = os.path.join(dest_dir, file)\n",
        "                shutil.move(src_file_path, dest_file_path)\n",
        "                print(f\"Moved {file} to {dest_dir}\")\n",
        "\n",
        "\n",
        "move_files_by_extension(\"./source_directory\", \"./destination_directory\", \".txt\")\n"
      ]
    },
    {
      "cell_type": "markdown",
      "metadata": {
        "id": "G-5a2yCYZ_aQ"
      },
      "source": [
        "<b> Changing File Permissions </b>\n",
        "Write a program that changes the permissions of all files in a directory to read-only mode (or any other mode you choose)."
      ]
    },
    {
      "cell_type": "code",
      "execution_count": null,
      "metadata": {
        "id": "3HlMqTK2aCs4"
      },
      "outputs": [],
      "source": [
        "import os\n",
        "\n",
        "def change_permissions_to_readonly(path):\n",
        "    for root, dirs, files in os.walk(path):\n",
        "        for file in files:\n",
        "            file_path = os.path.join(root, file)\n",
        "            os.chmod(file_path, 0o444)  # Read-only permissions\n",
        "            print(f\"Changed permissions to read-only for: {file_path}\")\n",
        "\n",
        "\n",
        "change_permissions_to_readonly(\"./tree\")\n"
      ]
    },
    {
      "cell_type": "code",
      "execution_count": null,
      "metadata": {
        "id": "5VngLjsNVt52"
      },
      "outputs": [],
      "source": []
    },
    {
      "cell_type": "code",
      "execution_count": null,
      "metadata": {
        "colab": {
          "base_uri": "https://localhost:8080/"
        },
        "id": "W8hVtI-jmoOA",
        "outputId": "d50af6f0-ad89-4dcf-a12b-e12330892982"
      },
      "outputs": [
        {
          "name": "stdout",
          "output_type": "stream",
          "text": [
            "Today: 2024-09-26\n",
            "Year: 2024\n",
            "Month: 9\n",
            "Day: 26\n"
          ]
        }
      ],
      "source": [
        "from datetime import date\n",
        "\n",
        "today = date.today()\n",
        "\n",
        "print(\"Today:\", today)\n",
        "print(\"Year:\", today.year)\n",
        "print(\"Month:\", today.month)\n",
        "print(\"Day:\", today.day)\n"
      ]
    },
    {
      "cell_type": "code",
      "execution_count": null,
      "metadata": {
        "colab": {
          "base_uri": "https://localhost:8080/"
        },
        "id": "ZYtO5s0ioxyY",
        "outputId": "8e03ed10-4bcf-43a4-8956-2043cdaf8966"
      },
      "outputs": [
        {
          "name": "stdout",
          "output_type": "stream",
          "text": [
            "2024-11-04\n"
          ]
        }
      ],
      "source": [
        "from datetime import date\n",
        "\n",
        "my_date = date(2024, 11, 4)\n",
        "print(my_date)\n",
        "\n"
      ]
    },
    {
      "cell_type": "code",
      "execution_count": null,
      "metadata": {
        "colab": {
          "base_uri": "https://localhost:8080/"
        },
        "id": "kDW0ddOOozPk",
        "outputId": "c80ed3c9-b1a2-4872-b59d-ca1f132b0fe3"
      },
      "outputs": [
        {
          "name": "stdout",
          "output_type": "stream",
          "text": [
            "Timestamp: 1727366822.430347\n",
            "Date: 2024-09-26\n"
          ]
        }
      ],
      "source": [
        "from datetime import date\n",
        "import time\n",
        "\n",
        "timestamp = time.time()\n",
        "print(\"Timestamp:\", timestamp)\n",
        "\n",
        "d = date.fromtimestamp(timestamp)\n",
        "print(\"Date:\", d)"
      ]
    },
    {
      "cell_type": "code",
      "execution_count": null,
      "metadata": {
        "colab": {
          "base_uri": "https://localhost:8080/"
        },
        "id": "QLVL9QUwp_r6",
        "outputId": "0f6d72da-ba67-4610-ea0d-68176d123f2e"
      },
      "outputs": [
        {
          "name": "stdout",
          "output_type": "stream",
          "text": [
            "2019-11-04\n"
          ]
        }
      ],
      "source": [
        "from datetime import date\n",
        "\n",
        "d = date.fromisoformat('2019-11-04')\n",
        "print(d)\n"
      ]
    },
    {
      "cell_type": "code",
      "execution_count": null,
      "metadata": {
        "colab": {
          "base_uri": "https://localhost:8080/"
        },
        "id": "y98LX_goq7NH",
        "outputId": "501b7967-75f2-47c5-dd27-3b590a4ef531"
      },
      "outputs": [
        {
          "name": "stdout",
          "output_type": "stream",
          "text": [
            "1991-02-05\n",
            "1992-01-16\n"
          ]
        }
      ],
      "source": [
        "from datetime import date\n",
        "\n",
        "d = date(1991, 2, 5)\n",
        "print(d)\n",
        "\n",
        "d = d.replace(year=1992, month=1, day=16)\n",
        "print(d)\n"
      ]
    },
    {
      "cell_type": "code",
      "execution_count": null,
      "metadata": {
        "colab": {
          "base_uri": "https://localhost:8080/"
        },
        "id": "ejqa7F5Crh5W",
        "outputId": "4330aecd-144c-4c5a-9222-34384306d239"
      },
      "outputs": [
        {
          "name": "stdout",
          "output_type": "stream",
          "text": [
            "0\n"
          ]
        }
      ],
      "source": [
        "from datetime import date\n",
        "\n",
        "d = date(2019, 11, 4)\n",
        "print(d.weekday())"
      ]
    },
    {
      "cell_type": "code",
      "execution_count": null,
      "metadata": {
        "colab": {
          "base_uri": "https://localhost:8080/"
        },
        "id": "C6shdyyiruVH",
        "outputId": "a6d313c6-1b21-435d-a41f-13a35ad1f6e7"
      },
      "outputs": [
        {
          "name": "stdout",
          "output_type": "stream",
          "text": [
            "1\n"
          ]
        }
      ],
      "source": [
        "from datetime import date\n",
        "\n",
        "d = date(2019, 11, 4)\n",
        "print(d.isoweekday())\n",
        "\n"
      ]
    },
    {
      "cell_type": "code",
      "execution_count": null,
      "metadata": {
        "colab": {
          "base_uri": "https://localhost:8080/"
        },
        "id": "2gEbKrjqr1gC",
        "outputId": "366b90eb-375f-4bdb-d5a1-6bbfccd6979e"
      },
      "outputs": [
        {
          "name": "stdout",
          "output_type": "stream",
          "text": [
            "Time: 14:53:20.000001\n",
            "Hour: 14\n",
            "Minute: 53\n",
            "Second: 20\n",
            "Microsecond: 1\n"
          ]
        }
      ],
      "source": [
        "from datetime import time\n",
        "\n",
        "t = time(14, 53, 20, 1)\n",
        "\n",
        "print(\"Time:\", t)\n",
        "print(\"Hour:\", t.hour)\n",
        "print(\"Minute:\", t.minute)\n",
        "print(\"Second:\", t.second)\n",
        "print(\"Microsecond:\", t.microsecond)"
      ]
    },
    {
      "cell_type": "code",
      "execution_count": null,
      "metadata": {
        "colab": {
          "base_uri": "https://localhost:8080/"
        },
        "id": "Q7s8aXlus97b",
        "outputId": "e2f01230-4b71-431b-a9b9-f35d0453a0e7"
      },
      "outputs": [
        {
          "name": "stdout",
          "output_type": "stream",
          "text": [
            "I'm very tired. I have to take a nap. See you later.\n",
            "I slept well! I feel great!\n"
          ]
        }
      ],
      "source": [
        "import time\n",
        "\n",
        "class Student:\n",
        "    def take_nap(self, seconds):\n",
        "        print(\"I'm very tired. I have to take a nap. See you later.\")\n",
        "        time.sleep(seconds)\n",
        "        print(\"I slept well! I feel great!\")\n",
        "\n",
        "student = Student()\n",
        "student.take_nap(5)\n"
      ]
    },
    {
      "cell_type": "code",
      "execution_count": null,
      "metadata": {
        "colab": {
          "base_uri": "https://localhost:8080/"
        },
        "id": "W1hcSD3Vvh1N",
        "outputId": "577cf5bd-7866-42aa-b133-c6a5186f6968"
      },
      "outputs": [
        {
          "name": "stdout",
          "output_type": "stream",
          "text": [
            "Mon Nov  4 14:53:00 2019\n"
          ]
        }
      ],
      "source": [
        "import time\n",
        "\n",
        "timestamp = 1572879180\n",
        "print(time.ctime(timestamp))"
      ]
    },
    {
      "cell_type": "code",
      "execution_count": null,
      "metadata": {
        "colab": {
          "base_uri": "https://localhost:8080/"
        },
        "id": "FIvAObgIwbNE",
        "outputId": "8572b28a-6382-4c87-e2fb-f4e2fea0f876"
      },
      "outputs": [
        {
          "name": "stdout",
          "output_type": "stream",
          "text": [
            "Thu Sep 26 16:34:58 2024\n"
          ]
        }
      ],
      "source": [
        "import time\n",
        "print(time.ctime())\n",
        "\n"
      ]
    },
    {
      "cell_type": "code",
      "execution_count": null,
      "metadata": {
        "colab": {
          "base_uri": "https://localhost:8080/"
        },
        "id": "yxr6c66twc8w",
        "outputId": "98c92e41-9241-4f75-a24b-b6439190686c"
      },
      "outputs": [
        {
          "name": "stdout",
          "output_type": "stream",
          "text": [
            "time.struct_time(tm_year=2019, tm_mon=11, tm_mday=4, tm_hour=14, tm_min=53, tm_sec=0, tm_wday=0, tm_yday=308, tm_isdst=0)\n",
            "time.struct_time(tm_year=2019, tm_mon=11, tm_mday=4, tm_hour=14, tm_min=53, tm_sec=0, tm_wday=0, tm_yday=308, tm_isdst=0)\n"
          ]
        }
      ],
      "source": [
        "import time\n",
        "\n",
        "timestamp = 1572879180\n",
        "print(time.gmtime(timestamp))\n",
        "print(time.localtime(timestamp))"
      ]
    },
    {
      "cell_type": "code",
      "execution_count": null,
      "metadata": {
        "colab": {
          "base_uri": "https://localhost:8080/"
        },
        "id": "H45gGVpsxnUK",
        "outputId": "fc51dd85-aa4b-4437-d0c2-0910caaf6947"
      },
      "outputs": [
        {
          "name": "stdout",
          "output_type": "stream",
          "text": [
            "Mon Nov  4 14:53:00 2019\n",
            "1572879180.0\n"
          ]
        }
      ],
      "source": [
        "import time\n",
        "\n",
        "timestamp = 1572879180\n",
        "st = time.gmtime(timestamp)\n",
        "\n",
        "print(time.asctime(st))\n",
        "print(time.mktime((2019, 11, 4, 14, 53, 0, 0, 308, 0)))"
      ]
    },
    {
      "cell_type": "code",
      "execution_count": null,
      "metadata": {
        "colab": {
          "base_uri": "https://localhost:8080/"
        },
        "id": "bq5rFJq_x_hf",
        "outputId": "320b53d1-3a76-484d-aabd-7a400dd6d80d"
      },
      "outputs": [
        {
          "name": "stdout",
          "output_type": "stream",
          "text": [
            "Datetime: 2019-11-04 14:53:00\n",
            "Date: 2019-11-04\n",
            "Time: 14:53:00\n"
          ]
        }
      ],
      "source": [
        "from datetime import datetime\n",
        "\n",
        "dt = datetime(2019, 11, 4, 14, 53)\n",
        "\n",
        "print(\"Datetime:\", dt)\n",
        "print(\"Date:\", dt.date())\n",
        "print(\"Time:\", dt.time())"
      ]
    },
    {
      "cell_type": "code",
      "execution_count": null,
      "metadata": {
        "colab": {
          "base_uri": "https://localhost:8080/"
        },
        "id": "Hp3icTSYymop",
        "outputId": "cddffd52-746f-4e16-8751-94880eb81b7f"
      },
      "outputs": [
        {
          "name": "stdout",
          "output_type": "stream",
          "text": [
            "today: 2024-09-26 16:45:37.265618\n",
            "now: 2024-09-26 16:45:37.276155\n",
            "utcnow: 2024-09-26 16:45:37.276282\n"
          ]
        }
      ],
      "source": [
        "from datetime import datetime\n",
        "\n",
        "print(\"today:\", datetime.today())\n",
        "print(\"now:\", datetime.now())\n",
        "print(\"utcnow:\", datetime.utcnow())\n"
      ]
    },
    {
      "cell_type": "code",
      "execution_count": null,
      "metadata": {
        "colab": {
          "base_uri": "https://localhost:8080/"
        },
        "id": "Qp4Lg-Ezy5Mz",
        "outputId": "caa4c81b-4a2b-47cf-c61d-d140943eca20"
      },
      "outputs": [
        {
          "name": "stdout",
          "output_type": "stream",
          "text": [
            "Timestamp: 1601823300.0\n"
          ]
        }
      ],
      "source": [
        "from datetime import datetime\n",
        "\n",
        "dt = datetime(2020, 10, 4, 14, 55)\n",
        "print(\"Timestamp:\", dt.timestamp())\n"
      ]
    },
    {
      "cell_type": "code",
      "execution_count": null,
      "metadata": {
        "colab": {
          "base_uri": "https://localhost:8080/"
        },
        "id": "sagbGpS0zFSF",
        "outputId": "f755927a-f06e-459f-da67-9bb58e67e98f"
      },
      "outputs": [
        {
          "name": "stdout",
          "output_type": "stream",
          "text": [
            "2020/01/04\n"
          ]
        }
      ],
      "source": [
        "from datetime import date\n",
        "\n",
        "d = date(2020, 1, 4)\n",
        "print(d.strftime('%Y/%m/%d'))\n"
      ]
    },
    {
      "cell_type": "code",
      "execution_count": null,
      "metadata": {
        "colab": {
          "base_uri": "https://localhost:8080/"
        },
        "id": "j-mQlYjYoq25",
        "outputId": "3c31bc44-792d-4629-cd5c-668630761cdb"
      },
      "outputs": [
        {
          "name": "stdout",
          "output_type": "stream",
          "text": [
            "2020-01-04\n"
          ]
        }
      ],
      "source": [
        "from datetime import date\n",
        "\n",
        "d = date(2020, 1, 4)\n",
        "print(d.strftime('%Y-%m-%d'))"
      ]
    },
    {
      "cell_type": "code",
      "execution_count": null,
      "metadata": {
        "colab": {
          "base_uri": "https://localhost:8080/"
        },
        "id": "ylcJtC2MzeES",
        "outputId": "40e1db82-16dd-4fbd-ea68-86aad1274c3a"
      },
      "outputs": [
        {
          "name": "stdout",
          "output_type": "stream",
          "text": [
            "14:53:00\n",
            "20/November/04 14:53:00\n"
          ]
        }
      ],
      "source": [
        "from datetime import time\n",
        "from datetime import datetime\n",
        "\n",
        "t = time(14, 53)\n",
        "print(t.strftime(\"%H:%M:%S\"))\n",
        "\n",
        "dt = datetime(2020, 11, 4, 14, 53)\n",
        "print(dt.strftime(\"%y/%B/%d %H:%M:%S\"))\n"
      ]
    },
    {
      "cell_type": "code",
      "execution_count": null,
      "metadata": {
        "colab": {
          "base_uri": "https://localhost:8080/"
        },
        "id": "NowTbtu3pSuq",
        "outputId": "9dddeb87-2d8a-4bb6-c500-a96ce27af1f1"
      },
      "outputs": [
        {
          "name": "stdout",
          "output_type": "stream",
          "text": [
            "14:53:00\n",
            "2020/November/04 14:53:00\n"
          ]
        }
      ],
      "source": [
        "from datetime import time\n",
        "from datetime import datetime\n",
        "\n",
        "t = time(14, 53)\n",
        "print(t.strftime(\"%H:%M:%S\"))\n",
        "\n",
        "dt = datetime(2020, 11, 4, 14, 53)\n",
        "print(dt.strftime(\"%Y/%B/%d %H:%M:%S\"))"
      ]
    },
    {
      "cell_type": "code",
      "execution_count": null,
      "metadata": {
        "colab": {
          "base_uri": "https://localhost:8080/"
        },
        "id": "M2iqo2WYz06a",
        "outputId": "ad94f6c2-952a-4779-a248-c5e85def2e7b"
      },
      "outputs": [
        {
          "name": "stdout",
          "output_type": "stream",
          "text": [
            "2019/11/04 14:53:00\n",
            "2024/09/26 16:51:09\n"
          ]
        }
      ],
      "source": [
        "import time\n",
        "\n",
        "timestamp = 1572879180\n",
        "st = time.gmtime(timestamp)\n",
        "\n",
        "print(time.strftime(\"%Y/%m/%d %H:%M:%S\", st))\n",
        "print(time.strftime(\"%Y/%m/%d %H:%M:%S\"))\n"
      ]
    },
    {
      "cell_type": "code",
      "execution_count": null,
      "metadata": {
        "colab": {
          "base_uri": "https://localhost:8080/"
        },
        "id": "7ci-1L_n0KUh",
        "outputId": "73e8280f-7ec1-4bb7-a46d-de63934d11a7"
      },
      "outputs": [
        {
          "name": "stdout",
          "output_type": "stream",
          "text": [
            "2019-11-04 14:53:00\n"
          ]
        }
      ],
      "source": [
        "from datetime import datetime\n",
        "print(datetime.strptime(\"2019/11/04 14:53:00\", \"%Y/%m/%d %H:%M:%S\"))\n"
      ]
    },
    {
      "cell_type": "markdown",
      "metadata": {
        "id": "QKw-e6Z-jcq_"
      },
      "source": []
    },
    {
      "cell_type": "code",
      "execution_count": null,
      "metadata": {
        "colab": {
          "base_uri": "https://localhost:8080/"
        },
        "id": "Dffn3Oc60cZD",
        "outputId": "f2d6a8c4-cc30-4def-eb59-fa2a9af61642"
      },
      "outputs": [
        {
          "name": "stdout",
          "output_type": "stream",
          "text": [
            "time.struct_time(tm_year=2019, tm_mon=11, tm_mday=4, tm_hour=14, tm_min=53, tm_sec=0, tm_wday=0, tm_yday=308, tm_isdst=-1)\n"
          ]
        }
      ],
      "source": [
        "import time\n",
        "print(time.strptime(\"2019/11/04 14:53:00\", \"%Y/%m/%d %H:%M:%S\"))\n",
        "\n"
      ]
    },
    {
      "cell_type": "code",
      "execution_count": null,
      "metadata": {
        "colab": {
          "base_uri": "https://localhost:8080/"
        },
        "id": "tdyVGxGR0dnF",
        "outputId": "3ceb2c31-0dc6-47dc-e66a-900caeabf0a0"
      },
      "outputs": [
        {
          "name": "stdout",
          "output_type": "stream",
          "text": [
            "366 days, 0:00:00\n",
            "365 days, 9:07:00\n"
          ]
        }
      ],
      "source": [
        "from datetime import date\n",
        "from datetime import datetime\n",
        "\n",
        "d1 = date(2020, 11, 4)\n",
        "d2 = date(2019, 11, 4)\n",
        "\n",
        "print(d1 - d2)\n",
        "\n",
        "dt1 = datetime(2020, 11, 4, 0, 0, 0)\n",
        "dt2 = datetime(2019, 11, 4, 14, 53, 0)\n",
        "\n",
        "print(dt1 - dt2)\n"
      ]
    },
    {
      "cell_type": "code",
      "execution_count": null,
      "metadata": {
        "colab": {
          "base_uri": "https://localhost:8080/"
        },
        "id": "fY8xQ98O1D2i",
        "outputId": "01f57b04-262e-4803-b25b-a48c8ca87d8d"
      },
      "outputs": [
        {
          "name": "stdout",
          "output_type": "stream",
          "text": [
            "16 days, 3:00:00\n"
          ]
        }
      ],
      "source": [
        "from datetime import timedelta\n",
        "\n",
        "delta = timedelta(weeks=2, days=2, hours=3)\n",
        "print(delta)\n"
      ]
    },
    {
      "cell_type": "code",
      "execution_count": null,
      "metadata": {
        "colab": {
          "background_save": true,
          "base_uri": "https://localhost:8080/"
        },
        "id": "0HBgsHlz1SW3",
        "outputId": "b535172e-7ad2-40d9-c2ec-cb98084c296e"
      },
      "outputs": [
        {
          "name": "stdout",
          "output_type": "stream",
          "text": [
            "Days: 16\n"
          ]
        },
        {
          "ename": "AttributeError",
          "evalue": "'datetime.timedelta' object has no attribute 'hours'",
          "output_type": "error",
          "traceback": [
            "\u001b[0;31m---------------------------------------------------------------------------\u001b[0m",
            "\u001b[0;31mAttributeError\u001b[0m                            Traceback (most recent call last)",
            "\u001b[0;32m<ipython-input-3-81d24402e7d9>\u001b[0m in \u001b[0;36m<cell line: 5>\u001b[0;34m()\u001b[0m\n\u001b[1;32m      3\u001b[0m \u001b[0mdelta\u001b[0m \u001b[0;34m=\u001b[0m \u001b[0mtimedelta\u001b[0m\u001b[0;34m(\u001b[0m\u001b[0mweeks\u001b[0m\u001b[0;34m=\u001b[0m\u001b[0;36m2\u001b[0m\u001b[0;34m,\u001b[0m \u001b[0mdays\u001b[0m\u001b[0;34m=\u001b[0m\u001b[0;36m2\u001b[0m\u001b[0;34m,\u001b[0m \u001b[0mhours\u001b[0m\u001b[0;34m=\u001b[0m\u001b[0;36m3\u001b[0m\u001b[0;34m)\u001b[0m\u001b[0;34m\u001b[0m\u001b[0;34m\u001b[0m\u001b[0m\n\u001b[1;32m      4\u001b[0m \u001b[0mprint\u001b[0m\u001b[0;34m(\u001b[0m\u001b[0;34m\"Days:\"\u001b[0m\u001b[0;34m,\u001b[0m \u001b[0mdelta\u001b[0m\u001b[0;34m.\u001b[0m\u001b[0mdays\u001b[0m\u001b[0;34m)\u001b[0m\u001b[0;34m\u001b[0m\u001b[0;34m\u001b[0m\u001b[0m\n\u001b[0;32m----> 5\u001b[0;31m \u001b[0mprint\u001b[0m\u001b[0;34m(\u001b[0m\u001b[0;34m\"H\"\u001b[0m\u001b[0;34m,\u001b[0m\u001b[0mdelta\u001b[0m\u001b[0;34m.\u001b[0m\u001b[0mhours\u001b[0m\u001b[0;34m)\u001b[0m\u001b[0;34m\u001b[0m\u001b[0;34m\u001b[0m\u001b[0m\n\u001b[0m\u001b[1;32m      6\u001b[0m \u001b[0mprint\u001b[0m\u001b[0;34m(\u001b[0m\u001b[0;34m\"Seconds:\"\u001b[0m\u001b[0;34m,\u001b[0m \u001b[0mdelta\u001b[0m\u001b[0;34m.\u001b[0m\u001b[0mseconds\u001b[0m\u001b[0;34m)\u001b[0m\u001b[0;34m\u001b[0m\u001b[0;34m\u001b[0m\u001b[0m\n\u001b[1;32m      7\u001b[0m \u001b[0mprint\u001b[0m\u001b[0;34m(\u001b[0m\u001b[0;34m\"Microseconds:\"\u001b[0m\u001b[0;34m,\u001b[0m \u001b[0mdelta\u001b[0m\u001b[0;34m.\u001b[0m\u001b[0mmicroseconds\u001b[0m\u001b[0;34m)\u001b[0m\u001b[0;34m\u001b[0m\u001b[0;34m\u001b[0m\u001b[0m\n",
            "\u001b[0;31mAttributeError\u001b[0m: 'datetime.timedelta' object has no attribute 'hours'"
          ]
        }
      ],
      "source": [
        "from datetime import timedelta\n",
        "\n",
        "delta = timedelta(weeks=2, days=2, hours=3)\n",
        "print(\"Days:\", delta.days)\n",
        "print(\"Seconds:\", delta.seconds)\n",
        "print(\"Microseconds:\", delta.microseconds)\n",
        "\n"
      ]
    },
    {
      "cell_type": "code",
      "execution_count": null,
      "metadata": {
        "colab": {
          "base_uri": "https://localhost:8080/"
        },
        "id": "dGh11Y4b1TUl",
        "outputId": "66db06ee-3781-461d-acfc-61ffebe83321"
      },
      "outputs": [
        {
          "name": "stdout",
          "output_type": "stream",
          "text": [
            "16 days, 2:00:00\n",
            "32 days, 4:00:00\n",
            "2019-11-05\n",
            "2019-11-05 18:53:00\n"
          ]
        }
      ],
      "source": [
        "from datetime import timedelta\n",
        "from datetime import date\n",
        "from datetime import datetime\n",
        "\n",
        "delta = timedelta(weeks=2, days=2, hours=2)\n",
        "print(delta)\n",
        "\n",
        "delta2 = delta * 2\n",
        "print(delta2)\n",
        "\n",
        "d = date(2019, 10, 4) + delta2\n",
        "print(d)\n",
        "\n",
        "dt = datetime(2019, 10, 4, 14, 53) + delta2\n",
        "print(dt)\n"
      ]
    },
    {
      "cell_type": "code",
      "execution_count": null,
      "metadata": {
        "id": "AwSTD9Sush-1"
      },
      "outputs": [],
      "source": []
    },
    {
      "cell_type": "markdown",
      "metadata": {
        "id": "WzAeq_5dtI9K"
      },
      "source": [
        "Lab"
      ]
    },
    {
      "cell_type": "code",
      "execution_count": null,
      "metadata": {
        "colab": {
          "base_uri": "https://localhost:8080/"
        },
        "id": "YbNayMS4tJdB",
        "outputId": "cc286848-7ec0-46dc-c47a-b38b987b26ce"
      },
      "outputs": [
        {
          "name": "stdout",
          "output_type": "stream",
          "text": [
            "2020/11/04 14:53:00\n",
            "20/November/04 14:53:00 PM\n",
            "Wed, 2020 Nov 04\n",
            "Wednesday, 2020 November 04\n",
            "Weekday: 2\n",
            "Day of the year: 309\n",
            "Week number of the year: 45\n"
          ]
        }
      ],
      "source": [
        "from datetime import datetime\n",
        "\n",
        "\n",
        "dt = datetime(2020, 11, 4, 14, 53, 0)\n",
        "\n",
        "\n",
        "print(dt.strftime(\"%Y/%m/%d %H:%M:%S\"))\n",
        "print(dt.strftime(\"%y/%B/%d %H:%M:%S %p\"))\n",
        "print(dt.strftime(\"%a, %Y %b %d\"))\n",
        "print(dt.strftime(\"%A, %Y %B %d\"))\n",
        "print(\"Weekday:\", dt.weekday())\n",
        "print(\"Day of the year:\", dt.timetuple().tm_yday)\n",
        "print(\"Week number of the year:\", dt.isocalendar()[1])\n"
      ]
    },
    {
      "cell_type": "code",
      "execution_count": null,
      "metadata": {
        "id": "_Xn05zFmtK83"
      },
      "outputs": [],
      "source": []
    },
    {
      "cell_type": "markdown",
      "metadata": {
        "id": "giyXZRjljeZu"
      },
      "source": [
        "Generate a List of Dates for a Month\n",
        "Create a list of all dates in a specific month of a specific year."
      ]
    },
    {
      "cell_type": "code",
      "execution_count": null,
      "metadata": {
        "colab": {
          "base_uri": "https://localhost:8080/"
        },
        "id": "5dRJu0U0jfZi",
        "outputId": "a23b2a0b-8487-4ea1-93fe-129745c0e4da"
      },
      "outputs": [
        {
          "name": "stdout",
          "output_type": "stream",
          "text": [
            "2023-09-01\n",
            "2023-09-02\n",
            "2023-09-03\n",
            "2023-09-04\n",
            "2023-09-05\n",
            "2023-09-06\n",
            "2023-09-07\n",
            "2023-09-08\n",
            "2023-09-09\n",
            "2023-09-10\n",
            "2023-09-11\n",
            "2023-09-12\n",
            "2023-09-13\n",
            "2023-09-14\n",
            "2023-09-15\n",
            "2023-09-16\n",
            "2023-09-17\n",
            "2023-09-18\n",
            "2023-09-19\n",
            "2023-09-20\n",
            "2023-09-21\n",
            "2023-09-22\n",
            "2023-09-23\n",
            "2023-09-24\n",
            "2023-09-25\n",
            "2023-09-26\n",
            "2023-09-27\n",
            "2023-09-28\n",
            "2023-09-29\n",
            "2023-09-30\n"
          ]
        }
      ],
      "source": [
        "from datetime import datetime, timedelta\n",
        "\n",
        "def generate_dates(year, month):\n",
        "\n",
        "    start_date = datetime(year, month, 1)\n",
        "    if month == 12:\n",
        "        end_date = datetime(year + 1, 1, 1)\n",
        "    else:\n",
        "        end_date = datetime(year, month + 1, 1)\n",
        "\n",
        "\n",
        "    dates = []\n",
        "    current_date = start_date\n",
        "    while current_date < end_date:\n",
        "        dates.append(current_date)\n",
        "        current_date += timedelta(days=1)\n",
        "\n",
        "    return dates\n",
        "\n",
        "dates = generate_dates(2023, 9)\n",
        "for date in dates:\n",
        "    print(date.strftime(\"%Y-%m-%d\"))\n"
      ]
    },
    {
      "cell_type": "markdown",
      "metadata": {
        "id": "pn5DzTUWjzpy"
      },
      "source": [
        "Calculate Age Based on Birthdate\n",
        "Calculate a person's age given their birthdate."
      ]
    },
    {
      "cell_type": "code",
      "execution_count": null,
      "metadata": {
        "colab": {
          "base_uri": "https://localhost:8080/"
        },
        "id": "U83xlcSzj0Od",
        "outputId": "e60f248c-f482-4d67-f3c1-6e5ca57577ec"
      },
      "outputs": [
        {
          "name": "stdout",
          "output_type": "stream",
          "text": [
            "Age: 34\n"
          ]
        }
      ],
      "source": [
        "from datetime import datetime\n",
        "\n",
        "def calculate_age(birthdate):\n",
        "    today = datetime.now()\n",
        "    age = today.year - birthdate.year - ((today.month, today.day) < (birthdate.month, birthdate.day))\n",
        "    return age\n",
        "\n",
        "\n",
        "birthdate = datetime(1990, 5, 15)\n",
        "age = calculate_age(birthdate)\n",
        "print(\"Age:\", age)\n"
      ]
    },
    {
      "cell_type": "code",
      "execution_count": null,
      "metadata": {
        "id": "CN1ERXqZjf4S"
      },
      "outputs": [],
      "source": []
    },
    {
      "cell_type": "markdown",
      "metadata": {
        "id": "38lUm6pikDNj"
      },
      "source": [
        "Compare Two Dates\n",
        "Determine if a given date is in the past, present, or future compared to today."
      ]
    },
    {
      "cell_type": "code",
      "execution_count": null,
      "metadata": {
        "colab": {
          "base_uri": "https://localhost:8080/"
        },
        "id": "sZE3XoixkDqW",
        "outputId": "9943bc8b-0aa0-4746-e57b-f3c9c42a3e5b"
      },
      "outputs": [
        {
          "name": "stdout",
          "output_type": "stream",
          "text": [
            "The date is in the past.\n"
          ]
        }
      ],
      "source": [
        "from datetime import datetime\n",
        "\n",
        "def compare_dates(date_to_compare):\n",
        "    today = datetime.now()\n",
        "    if date_to_compare < today:\n",
        "        return \"The date is in the past.\"\n",
        "    elif date_to_compare > today:\n",
        "        return \"The date is in the future.\"\n",
        "    else:\n",
        "        return \"The date is today.\"\n",
        "\n",
        "\n",
        "date_to_compare = datetime(2024, 9, 29)\n",
        "result = compare_dates(date_to_compare)\n",
        "print(result)\n"
      ]
    },
    {
      "cell_type": "code",
      "execution_count": null,
      "metadata": {
        "colab": {
          "base_uri": "https://localhost:8080/"
        },
        "id": "5gYPqiE7kD9k",
        "outputId": "463121b3-c48b-4749-9815-dc3485790ff4"
      },
      "outputs": [
        {
          "output_type": "stream",
          "name": "stdout",
          "text": [
            "                                  2024\n",
            "\n",
            "      January                   February                   March\n",
            "Mo Tu We Th Fr Sa Su      Mo Tu We Th Fr Sa Su      Mo Tu We Th Fr Sa Su\n",
            " 1  2  3  4  5  6  7                1  2  3  4                   1  2  3\n",
            " 8  9 10 11 12 13 14       5  6  7  8  9 10 11       4  5  6  7  8  9 10\n",
            "15 16 17 18 19 20 21      12 13 14 15 16 17 18      11 12 13 14 15 16 17\n",
            "22 23 24 25 26 27 28      19 20 21 22 23 24 25      18 19 20 21 22 23 24\n",
            "29 30 31                  26 27 28 29               25 26 27 28 29 30 31\n",
            "\n",
            "       April                      May                       June\n",
            "Mo Tu We Th Fr Sa Su      Mo Tu We Th Fr Sa Su      Mo Tu We Th Fr Sa Su\n",
            " 1  2  3  4  5  6  7             1  2  3  4  5                      1  2\n",
            " 8  9 10 11 12 13 14       6  7  8  9 10 11 12       3  4  5  6  7  8  9\n",
            "15 16 17 18 19 20 21      13 14 15 16 17 18 19      10 11 12 13 14 15 16\n",
            "22 23 24 25 26 27 28      20 21 22 23 24 25 26      17 18 19 20 21 22 23\n",
            "29 30                     27 28 29 30 31            24 25 26 27 28 29 30\n",
            "\n",
            "        July                     August                  September\n",
            "Mo Tu We Th Fr Sa Su      Mo Tu We Th Fr Sa Su      Mo Tu We Th Fr Sa Su\n",
            " 1  2  3  4  5  6  7                1  2  3  4                         1\n",
            " 8  9 10 11 12 13 14       5  6  7  8  9 10 11       2  3  4  5  6  7  8\n",
            "15 16 17 18 19 20 21      12 13 14 15 16 17 18       9 10 11 12 13 14 15\n",
            "22 23 24 25 26 27 28      19 20 21 22 23 24 25      16 17 18 19 20 21 22\n",
            "29 30 31                  26 27 28 29 30 31         23 24 25 26 27 28 29\n",
            "                                                    30\n",
            "\n",
            "      October                   November                  December\n",
            "Mo Tu We Th Fr Sa Su      Mo Tu We Th Fr Sa Su      Mo Tu We Th Fr Sa Su\n",
            "    1  2  3  4  5  6                   1  2  3                         1\n",
            " 7  8  9 10 11 12 13       4  5  6  7  8  9 10       2  3  4  5  6  7  8\n",
            "14 15 16 17 18 19 20      11 12 13 14 15 16 17       9 10 11 12 13 14 15\n",
            "21 22 23 24 25 26 27      18 19 20 21 22 23 24      16 17 18 19 20 21 22\n",
            "28 29 30 31               25 26 27 28 29 30         23 24 25 26 27 28 29\n",
            "                                                    30 31\n",
            "\n"
          ]
        }
      ],
      "source": [
        "import calendar\n",
        "print(calendar.calendar(2024))\n"
      ]
    },
    {
      "cell_type": "code",
      "execution_count": null,
      "metadata": {
        "colab": {
          "base_uri": "https://localhost:8080/"
        },
        "id": "qL8f4Otif-ez",
        "outputId": "2512f37f-b229-4089-d057-9c3488f24a1c"
      },
      "outputs": [
        {
          "name": "stdout",
          "output_type": "stream",
          "text": [
            "                                  2020\n",
            "\n",
            "      January                   February                   March\n",
            "Mo Tu We Th Fr Sa Su      Mo Tu We Th Fr Sa Su      Mo Tu We Th Fr Sa Su\n",
            "       1  2  3  4  5                      1  2                         1\n",
            " 6  7  8  9 10 11 12       3  4  5  6  7  8  9       2  3  4  5  6  7  8\n",
            "13 14 15 16 17 18 19      10 11 12 13 14 15 16       9 10 11 12 13 14 15\n",
            "20 21 22 23 24 25 26      17 18 19 20 21 22 23      16 17 18 19 20 21 22\n",
            "27 28 29 30 31            24 25 26 27 28 29         23 24 25 26 27 28 29\n",
            "                                                    30 31\n",
            "\n",
            "       April                      May                       June\n",
            "Mo Tu We Th Fr Sa Su      Mo Tu We Th Fr Sa Su      Mo Tu We Th Fr Sa Su\n",
            "       1  2  3  4  5                   1  2  3       1  2  3  4  5  6  7\n",
            " 6  7  8  9 10 11 12       4  5  6  7  8  9 10       8  9 10 11 12 13 14\n",
            "13 14 15 16 17 18 19      11 12 13 14 15 16 17      15 16 17 18 19 20 21\n",
            "20 21 22 23 24 25 26      18 19 20 21 22 23 24      22 23 24 25 26 27 28\n",
            "27 28 29 30               25 26 27 28 29 30 31      29 30\n",
            "\n",
            "        July                     August                  September\n",
            "Mo Tu We Th Fr Sa Su      Mo Tu We Th Fr Sa Su      Mo Tu We Th Fr Sa Su\n",
            "       1  2  3  4  5                      1  2          1  2  3  4  5  6\n",
            " 6  7  8  9 10 11 12       3  4  5  6  7  8  9       7  8  9 10 11 12 13\n",
            "13 14 15 16 17 18 19      10 11 12 13 14 15 16      14 15 16 17 18 19 20\n",
            "20 21 22 23 24 25 26      17 18 19 20 21 22 23      21 22 23 24 25 26 27\n",
            "27 28 29 30 31            24 25 26 27 28 29 30      28 29 30\n",
            "                          31\n",
            "\n",
            "      October                   November                  December\n",
            "Mo Tu We Th Fr Sa Su      Mo Tu We Th Fr Sa Su      Mo Tu We Th Fr Sa Su\n",
            "          1  2  3  4                         1          1  2  3  4  5  6\n",
            " 5  6  7  8  9 10 11       2  3  4  5  6  7  8       7  8  9 10 11 12 13\n",
            "12 13 14 15 16 17 18       9 10 11 12 13 14 15      14 15 16 17 18 19 20\n",
            "19 20 21 22 23 24 25      16 17 18 19 20 21 22      21 22 23 24 25 26 27\n",
            "26 27 28 29 30 31         23 24 25 26 27 28 29      28 29 30 31\n",
            "                          30\n"
          ]
        }
      ],
      "source": [
        "import calendar\n",
        "calendar.prcal(2020)\n",
        "\n"
      ]
    },
    {
      "cell_type": "code",
      "execution_count": null,
      "metadata": {
        "colab": {
          "base_uri": "https://localhost:8080/"
        },
        "id": "jsOuLknMgf2C",
        "outputId": "ebc2faa4-026f-4df8-936d-a7e1886a6970"
      },
      "outputs": [
        {
          "output_type": "stream",
          "name": "stdout",
          "text": [
            "                                  2020\n",
            "\n",
            "      January                   February                   March\n",
            "Mo Tu We Th Fr Sa Su      Mo Tu We Th Fr Sa Su      Mo Tu We Th Fr Sa Su\n",
            "       1  2  3  4  5                      1  2                         1\n",
            " 6  7  8  9 10 11 12       3  4  5  6  7  8  9       2  3  4  5  6  7  8\n",
            "13 14 15 16 17 18 19      10 11 12 13 14 15 16       9 10 11 12 13 14 15\n",
            "20 21 22 23 24 25 26      17 18 19 20 21 22 23      16 17 18 19 20 21 22\n",
            "27 28 29 30 31            24 25 26 27 28 29         23 24 25 26 27 28 29\n",
            "                                                    30 31\n",
            "\n",
            "       April                      May                       June\n",
            "Mo Tu We Th Fr Sa Su      Mo Tu We Th Fr Sa Su      Mo Tu We Th Fr Sa Su\n",
            "       1  2  3  4  5                   1  2  3       1  2  3  4  5  6  7\n",
            " 6  7  8  9 10 11 12       4  5  6  7  8  9 10       8  9 10 11 12 13 14\n",
            "13 14 15 16 17 18 19      11 12 13 14 15 16 17      15 16 17 18 19 20 21\n",
            "20 21 22 23 24 25 26      18 19 20 21 22 23 24      22 23 24 25 26 27 28\n",
            "27 28 29 30               25 26 27 28 29 30 31      29 30\n",
            "\n",
            "        July                     August                  September\n",
            "Mo Tu We Th Fr Sa Su      Mo Tu We Th Fr Sa Su      Mo Tu We Th Fr Sa Su\n",
            "       1  2  3  4  5                      1  2          1  2  3  4  5  6\n",
            " 6  7  8  9 10 11 12       3  4  5  6  7  8  9       7  8  9 10 11 12 13\n",
            "13 14 15 16 17 18 19      10 11 12 13 14 15 16      14 15 16 17 18 19 20\n",
            "20 21 22 23 24 25 26      17 18 19 20 21 22 23      21 22 23 24 25 26 27\n",
            "27 28 29 30 31            24 25 26 27 28 29 30      28 29 30\n",
            "                          31\n",
            "\n",
            "      October                   November                  December\n",
            "Mo Tu We Th Fr Sa Su      Mo Tu We Th Fr Sa Su      Mo Tu We Th Fr Sa Su\n",
            "          1  2  3  4                         1          1  2  3  4  5  6\n",
            " 5  6  7  8  9 10 11       2  3  4  5  6  7  8       7  8  9 10 11 12 13\n",
            "12 13 14 15 16 17 18       9 10 11 12 13 14 15      14 15 16 17 18 19 20\n",
            "19 20 21 22 23 24 25      16 17 18 19 20 21 22      21 22 23 24 25 26 27\n",
            "26 27 28 29 30 31         23 24 25 26 27 28 29      28 29 30 31\n",
            "                          30\n",
            "\n"
          ]
        }
      ],
      "source": [
        "import calendar\n",
        "\n",
        "\n",
        "cal = calendar.TextCalendar()\n",
        "\n",
        "\n",
        "\n",
        "print(cal.formatyear(2020, w=2, l=1, c=6, m=3))\n"
      ]
    },
    {
      "cell_type": "code",
      "execution_count": null,
      "metadata": {
        "colab": {
          "base_uri": "https://localhost:8080/"
        },
        "id": "QaosH5uwgjhF",
        "outputId": "1945129c-a1be-44d0-a781-9287548b28ae"
      },
      "outputs": [
        {
          "name": "stdout",
          "output_type": "stream",
          "text": [
            "       November 2020\n",
            "Mon Tue Wed Thu Fri Sat Sun\n",
            "                          1\n",
            "  2   3   4   5   6   7   8\n",
            "  9  10  11  12  13  14  15\n",
            " 16  17  18  19  20  21  22\n",
            " 23  24  25  26  27  28  29\n",
            " 30\n",
            "\n"
          ]
        }
      ],
      "source": [
        "import calendar\n",
        "print(calendar.month(2020, 11,w=3, l=1))"
      ]
    },
    {
      "cell_type": "code",
      "execution_count": null,
      "metadata": {
        "colab": {
          "base_uri": "https://localhost:8080/"
        },
        "id": "Q86ohQnUhRqS",
        "outputId": "7894c427-6a2d-4eec-c9fd-e3bfe30ec14b"
      },
      "outputs": [
        {
          "name": "stdout",
          "output_type": "stream",
          "text": [
            "   December 2020\n",
            "Su Mo Tu We Th Fr Sa\n",
            "       1  2  3  4  5\n",
            " 6  7  8  9 10 11 12\n",
            "13 14 15 16 17 18 19\n",
            "20 21 22 23 24 25 26\n",
            "27 28 29 30 31\n"
          ]
        }
      ],
      "source": [
        "import calendar\n",
        "\n",
        "calendar.setfirstweekday(calendar.SUNDAY)\n",
        "calendar.prmonth(2020, 12)\n"
      ]
    },
    {
      "cell_type": "code",
      "execution_count": null,
      "metadata": {
        "colab": {
          "base_uri": "https://localhost:8080/"
        },
        "id": "EtHYWk7bhY1D",
        "outputId": "4117b446-1a27-4c98-af73-6e56db49dfde"
      },
      "outputs": [
        {
          "name": "stdout",
          "output_type": "stream",
          "text": [
            "3\n"
          ]
        }
      ],
      "source": [
        "import calendar\n",
        "print(calendar.weekday(2020, 12, 24))"
      ]
    },
    {
      "cell_type": "code",
      "execution_count": null,
      "metadata": {
        "colab": {
          "base_uri": "https://localhost:8080/"
        },
        "id": "avDiRUkjh3G6",
        "outputId": "9c0e68d9-ffc6-4adf-9c8c-cccd7e0510b3"
      },
      "outputs": [
        {
          "name": "stdout",
          "output_type": "stream",
          "text": [
            "True\n",
            "3\n"
          ]
        }
      ],
      "source": [
        "import calendar\n",
        "\n",
        "print(calendar.isleap(2020))\n",
        "print(calendar.leapdays(2010, 2021))  # Up to but not including 2021.\n"
      ]
    },
    {
      "cell_type": "code",
      "execution_count": null,
      "metadata": {
        "colab": {
          "base_uri": "https://localhost:8080/"
        },
        "id": "uqc9byAPiZYt",
        "outputId": "d4adb3cc-8ff2-460e-a255-cc75e6949982"
      },
      "outputs": [
        {
          "name": "stdout",
          "output_type": "stream",
          "text": [
            "6 0 1 2 3 4 5 "
          ]
        }
      ],
      "source": [
        "import calendar\n",
        "\n",
        "c = calendar.Calendar(calendar.SUNDAY)\n",
        "\n",
        "for weekday in c.iterweekdays():\n",
        "    print(weekday, end=\" \")"
      ]
    },
    {
      "cell_type": "code",
      "execution_count": null,
      "metadata": {
        "colab": {
          "base_uri": "https://localhost:8080/"
        },
        "id": "kfsvSYR5jDPj",
        "outputId": "e79699a1-0b7d-4a23-d2a3-b7eb10be4728"
      },
      "outputs": [
        {
          "name": "stdout",
          "output_type": "stream",
          "text": [
            "2019-10-28 2019-10-29 2019-10-30 2019-10-31 2019-11-01 2019-11-02 2019-11-03 2019-11-04 2019-11-05 2019-11-06 2019-11-07 2019-11-08 2019-11-09 2019-11-10 2019-11-11 2019-11-12 2019-11-13 2019-11-14 2019-11-15 2019-11-16 2019-11-17 2019-11-18 2019-11-19 2019-11-20 2019-11-21 2019-11-22 2019-11-23 2019-11-24 2019-11-25 2019-11-26 2019-11-27 2019-11-28 2019-11-29 2019-11-30 2019-12-01 "
          ]
        }
      ],
      "source": [
        "import calendar\n",
        "\n",
        "c = calendar.Calendar()\n",
        "\n",
        "for date in c.itermonthdates(2019, 11):\n",
        "    print(date, end=\" \")"
      ]
    },
    {
      "cell_type": "code",
      "execution_count": null,
      "metadata": {
        "colab": {
          "base_uri": "https://localhost:8080/"
        },
        "id": "wwbzktrCjUu5",
        "outputId": "aa8fbe81-af92-47f2-c27f-66e472dac5a4"
      },
      "outputs": [
        {
          "name": "stdout",
          "output_type": "stream",
          "text": [
            "0 0 0 0 1 2 3 4 5 6 7 8 9 10 11 12 13 14 15 16 17 18 19 20 21 22 23 24 25 26 27 28 29 30 0 "
          ]
        }
      ],
      "source": [
        "import calendar\n",
        "\n",
        "c = calendar.Calendar()\n",
        "\n",
        "for iter in c.itermonthdays(2019, 11):\n",
        "    print(iter, end=\" \")"
      ]
    },
    {
      "cell_type": "code",
      "execution_count": null,
      "metadata": {
        "colab": {
          "base_uri": "https://localhost:8080/"
        },
        "id": "-OiazTVJjlHr",
        "outputId": "7ad8e982-ec64-4038-ff0e-7db96e0ac930"
      },
      "outputs": [
        {
          "name": "stdout",
          "output_type": "stream",
          "text": [
            "[(0, 0), (1, 1), (2, 2), (3, 3), (4, 4), (5, 5), (6, 6)]\n",
            "[(7, 0), (8, 1), (9, 2), (10, 3), (11, 4), (12, 5), (13, 6)]\n",
            "[(14, 0), (15, 1), (16, 2), (17, 3), (18, 4), (19, 5), (20, 6)]\n",
            "[(21, 0), (22, 1), (23, 2), (24, 3), (25, 4), (26, 5), (27, 6)]\n",
            "[(28, 0), (29, 1), (30, 2), (31, 3), (0, 4), (0, 5), (0, 6)]\n"
          ]
        }
      ],
      "source": [
        "import calendar\n",
        "\n",
        "c = calendar.Calendar()\n",
        "\n",
        "for data in c.monthdays2calendar(2020, 12):\n",
        "    print(data)\n"
      ]
    },
    {
      "cell_type": "code",
      "execution_count": null,
      "metadata": {
        "id": "GG8OenbJkFOK",
        "colab": {
          "base_uri": "https://localhost:8080/"
        },
        "outputId": "801c2b32-f20b-45b1-fb34-398d5fb967d1"
      },
      "outputs": [
        {
          "output_type": "stream",
          "name": "stdout",
          "text": [
            "52\n",
            "53\n"
          ]
        }
      ],
      "source": [
        "import calendar\n",
        "\n",
        "class MyCalendar(calendar.Calendar):\n",
        "\n",
        "    def count_weekday_in_year(self, year, weekday):\n",
        "        count = 0\n",
        "\n",
        "\n",
        "        for month in range(1, 13):\n",
        "            weeks = self.monthdays2calendar(year, month)\n",
        "\n",
        "\n",
        "            for week in weeks:\n",
        "\n",
        "                for day, day_of_week in week:\n",
        "\n",
        "                    if day != 0 and day_of_week == weekday:\n",
        "                        count += 1\n",
        "\n",
        "        return count\n",
        "\n",
        "\n",
        "my_cal = MyCalendar()\n",
        "\n",
        "\n",
        "print(my_cal.count_weekday_in_year(2019, 0))  # Expect 52 (Mondays in 2019)\n",
        "print(my_cal.count_weekday_in_year(2000, 6))  # Expect 53 (Sundays in 2000)\n"
      ]
    },
    {
      "cell_type": "code",
      "source": [],
      "metadata": {
        "id": "Fb1Rsj0MhCsB"
      },
      "execution_count": null,
      "outputs": []
    },
    {
      "cell_type": "markdown",
      "source": [
        "Extend the MyCalendar class to create a method called count_specific_date_in_range that takes a day, month, and a range of years. This method should return how many times the specific date (e.g., December 25) occurs on a specific weekday (e.g., Monday) across the range of years.\n",
        "Sample start_year=2000, end_year=2020, day=25, month=12, weekday=0 (Monday)"
      ],
      "metadata": {
        "id": "iedyFwSWhL7w"
      }
    },
    {
      "cell_type": "code",
      "source": [
        "import calendar\n",
        "\n",
        "class MyCalendar(calendar.Calendar):\n",
        "\n",
        "    def count_specific_date_in_range(self, start_year, end_year, day, month, weekday):\n",
        "        count = 0\n",
        "\n",
        "\n",
        "        for year in range(start_year, end_year + 1):\n",
        "            try:\n",
        "\n",
        "                day_of_week = calendar.weekday(year, month, day)\n",
        "\n",
        "                if day_of_week == weekday:\n",
        "                    count += 1\n",
        "            except ValueError:\n",
        "\n",
        "                continue\n",
        "\n",
        "        return count\n",
        "\n",
        "\n",
        "my_cal = MyCalendar()\n",
        "\n",
        "\n",
        "print(my_cal.count_specific_date_in_range(2000, 2020, 25, 12, 0))\n",
        "\n",
        "\n",
        "print(my_cal.count_specific_date_in_range(2000, 2020, 29, 2, 5))\n"
      ],
      "metadata": {
        "colab": {
          "base_uri": "https://localhost:8080/"
        },
        "id": "wdYORJ7RhOis",
        "outputId": "9ed3cd43-61c0-4c25-a437-4dde0ca39787"
      },
      "execution_count": null,
      "outputs": [
        {
          "output_type": "stream",
          "name": "stdout",
          "text": [
            "3\n",
            "1\n"
          ]
        }
      ]
    },
    {
      "cell_type": "markdown",
      "source": [
        "Create a method in the MyCalendar class called find_first_and_last_weekday_in_month. This method should take a year, month, and weekday as input and return the first and last occurrence of that weekday in the month.\n",
        "Sample Arguments: year=2022, month=9, weekday=2 (Wednesday)"
      ],
      "metadata": {
        "id": "6BthxXwBhoYw"
      }
    },
    {
      "cell_type": "markdown",
      "source": [],
      "metadata": {
        "id": "Gnx4bWdLiTA5"
      }
    },
    {
      "cell_type": "code",
      "source": [
        "import calendar\n",
        "\n",
        "class MyCalendar(calendar.Calendar):\n",
        "\n",
        "    def find_first_and_last_weekday_in_month(self, year, month, weekday):\n",
        "        first_day = None\n",
        "        last_day = None\n",
        "\n",
        "\n",
        "        weeks = self.monthdays2calendar(year, month)\n",
        "\n",
        "\n",
        "        for week in weeks:\n",
        "            for day, day_of_week in week:\n",
        "                if day_of_week == weekday and day != 0:\n",
        "                    if first_day is None:\n",
        "                        first_day = day\n",
        "                    last_day = day\n",
        "\n",
        "        return first_day, last_day\n",
        "\n",
        "\n",
        "my_cal = MyCalendar()\n",
        "\n",
        "\n",
        "first, last = my_cal.find_first_and_last_weekday_in_month(2022, 9, 2)\n",
        "print(f\"First: {first}, Last: {last}\")\n"
      ],
      "metadata": {
        "colab": {
          "base_uri": "https://localhost:8080/"
        },
        "id": "WI9OpEE2hd9U",
        "outputId": "b2b3af4c-ab22-4e17-9a27-020d17c8a89c"
      },
      "execution_count": null,
      "outputs": [
        {
          "output_type": "stream",
          "name": "stdout",
          "text": [
            "First: 7, Last: 28\n"
          ]
        }
      ]
    },
    {
      "cell_type": "code",
      "source": [],
      "metadata": {
        "id": "rMuEEcU8hzTB"
      },
      "execution_count": null,
      "outputs": []
    },
    {
      "cell_type": "markdown",
      "source": [
        "Extend the MyCalendar class to implement a method called get_leap_years_in_range. This method should return a list of all leap years within a given range.\n",
        "Sample Arguments: start_year=2000, end_year=2020\n",
        "\n",
        "Expected Output: [2000, 2004, 2008, 2012, 2016, 2020]"
      ],
      "metadata": {
        "id": "VxNXKEj1iUZT"
      }
    },
    {
      "cell_type": "code",
      "source": [
        "import calendar\n",
        "\n",
        "class MyCalendar(calendar.Calendar):\n",
        "\n",
        "    def get_leap_years_in_range(self, start_year, end_year):\n",
        "        leap_years = []\n",
        "\n",
        "\n",
        "        for year in range(start_year, end_year + 1):\n",
        "            if calendar.isleap(year):\n",
        "                leap_years.append(year)\n",
        "\n",
        "        return leap_years\n",
        "\n",
        "\n",
        "my_cal = MyCalendar()\n",
        "\n",
        "\n",
        "leap_years = my_cal.get_leap_years_in_range(2000, 2020)\n",
        "print(leap_years)\n"
      ],
      "metadata": {
        "id": "tbu8xADJiU0B",
        "colab": {
          "base_uri": "https://localhost:8080/"
        },
        "outputId": "2c962ac0-fac2-49b6-94bd-6ccd1a4e53b7"
      },
      "execution_count": null,
      "outputs": [
        {
          "output_type": "stream",
          "name": "stdout",
          "text": [
            "[2000, 2004, 2008, 2012, 2016, 2020]\n"
          ]
        }
      ]
    },
    {
      "cell_type": "code",
      "source": [],
      "metadata": {
        "id": "ih8IOs_j7lgF"
      },
      "execution_count": null,
      "outputs": []
    }
  ],
  "metadata": {
    "colab": {
      "provenance": [],
      "authorship_tag": "ABX9TyMlvHXkZFX43xiqjnL3Mcgv",
      "include_colab_link": true
    },
    "kernelspec": {
      "display_name": "Python 3",
      "name": "python3"
    },
    "language_info": {
      "name": "python"
    }
  },
  "nbformat": 4,
  "nbformat_minor": 0
}